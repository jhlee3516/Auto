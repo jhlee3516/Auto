{
 "cells": [
  {
   "cell_type": "markdown",
   "metadata": {},
   "source": [
    "# 공매도잔고\n",
    "유튜브영상: https://youtu.be/RkRuOo4Uo0s    \n",
    "공매도잔고: http://data.krx.co.kr/contents/MDC/MDI/mdiLoader/index.cmd?menuId=MDC02030101"
   ]
  },
  {
   "cell_type": "code",
   "execution_count": 1,
   "metadata": {},
   "outputs": [],
   "source": [
    "import pandas as pd \n",
    "df = pd.read_csv('공매도잔고.csv', encoding='cp949')"
   ]
  },
  {
   "cell_type": "code",
   "execution_count": 2,
   "metadata": {},
   "outputs": [
    {
     "data": {
      "text/html": [
       "<div>\n",
       "<style scoped>\n",
       "    .dataframe tbody tr th:only-of-type {\n",
       "        vertical-align: middle;\n",
       "    }\n",
       "\n",
       "    .dataframe tbody tr th {\n",
       "        vertical-align: top;\n",
       "    }\n",
       "\n",
       "    .dataframe thead th {\n",
       "        text-align: right;\n",
       "    }\n",
       "</style>\n",
       "<table border=\"1\" class=\"dataframe\">\n",
       "  <thead>\n",
       "    <tr style=\"text-align: right;\">\n",
       "      <th></th>\n",
       "      <th>일자</th>\n",
       "      <th>공매도 수량_거래량_전체</th>\n",
       "      <th>공매도 수량_거래량_업틱룰적용</th>\n",
       "      <th>공매도 수량_거래량_업틱룰예외</th>\n",
       "      <th>공매도 수량_잔고수량</th>\n",
       "      <th>공매도 금액_거래대금_전체</th>\n",
       "      <th>공매도 금액_거래대금_업틱룰적용</th>\n",
       "      <th>공매도 금액_거래대금_업틱룰예외</th>\n",
       "      <th>공매도 금액_잔고금액</th>\n",
       "    </tr>\n",
       "  </thead>\n",
       "  <tbody>\n",
       "    <tr>\n",
       "      <th>0</th>\n",
       "      <td>2022/03/16</td>\n",
       "      <td>146856</td>\n",
       "      <td>145882</td>\n",
       "      <td>974</td>\n",
       "      <td>5268513</td>\n",
       "      <td>4620562300</td>\n",
       "      <td>4590127700</td>\n",
       "      <td>30434600</td>\n",
       "      <td>170436395550</td>\n",
       "    </tr>\n",
       "    <tr>\n",
       "      <th>1</th>\n",
       "      <td>2022/03/15</td>\n",
       "      <td>47437</td>\n",
       "      <td>39996</td>\n",
       "      <td>7441</td>\n",
       "      <td>5313138</td>\n",
       "      <td>1462327850</td>\n",
       "      <td>1240118800</td>\n",
       "      <td>222209050</td>\n",
       "      <td>166035562500</td>\n",
       "    </tr>\n",
       "    <tr>\n",
       "      <th>2</th>\n",
       "      <td>2022/03/14</td>\n",
       "      <td>25882</td>\n",
       "      <td>7036</td>\n",
       "      <td>18846</td>\n",
       "      <td>5324078</td>\n",
       "      <td>754915650</td>\n",
       "      <td>204615600</td>\n",
       "      <td>550300050</td>\n",
       "      <td>153865854200</td>\n",
       "    </tr>\n",
       "    <tr>\n",
       "      <th>3</th>\n",
       "      <td>2022/03/11</td>\n",
       "      <td>33983</td>\n",
       "      <td>26295</td>\n",
       "      <td>7688</td>\n",
       "      <td>5135268</td>\n",
       "      <td>1022444850</td>\n",
       "      <td>790775950</td>\n",
       "      <td>231668900</td>\n",
       "      <td>154571566800</td>\n",
       "    </tr>\n",
       "    <tr>\n",
       "      <th>4</th>\n",
       "      <td>2022/03/10</td>\n",
       "      <td>63677</td>\n",
       "      <td>45984</td>\n",
       "      <td>17693</td>\n",
       "      <td>5216925</td>\n",
       "      <td>1949209850</td>\n",
       "      <td>1405244500</td>\n",
       "      <td>543965350</td>\n",
       "      <td>159637905000</td>\n",
       "    </tr>\n",
       "  </tbody>\n",
       "</table>\n",
       "</div>"
      ],
      "text/plain": [
       "           일자  공매도 수량_거래량_전체  공매도 수량_거래량_업틱룰적용  공매도 수량_거래량_업틱룰예외  공매도 수량_잔고수량  \\\n",
       "0  2022/03/16         146856            145882               974      5268513   \n",
       "1  2022/03/15          47437             39996              7441      5313138   \n",
       "2  2022/03/14          25882              7036             18846      5324078   \n",
       "3  2022/03/11          33983             26295              7688      5135268   \n",
       "4  2022/03/10          63677             45984             17693      5216925   \n",
       "\n",
       "   공매도 금액_거래대금_전체  공매도 금액_거래대금_업틱룰적용  공매도 금액_거래대금_업틱룰예외   공매도 금액_잔고금액  \n",
       "0      4620562300         4590127700           30434600  170436395550  \n",
       "1      1462327850         1240118800          222209050  166035562500  \n",
       "2       754915650          204615600          550300050  153865854200  \n",
       "3      1022444850          790775950          231668900  154571566800  \n",
       "4      1949209850         1405244500          543965350  159637905000  "
      ]
     },
     "execution_count": 2,
     "metadata": {},
     "output_type": "execute_result"
    }
   ],
   "source": [
    "df.head()"
   ]
  },
  {
   "cell_type": "code",
   "execution_count": 3,
   "metadata": {},
   "outputs": [],
   "source": [
    "import matplotlib\n",
    "matplotlib.rcParams['font.family'] = 'Malgun Gothic'\n",
    "matplotlib.rcParams['axes.unicode_minus'] = False"
   ]
  },
  {
   "cell_type": "code",
   "execution_count": 4,
   "metadata": {},
   "outputs": [
    {
     "data": {
      "image/png": "[encoded data removed]",
      "text/plain": [
       "<Figure size 432x288 with 1 Axes>"
      ]
     },
     "metadata": {
      "needs_background": "light"
     },
     "output_type": "display_data"
    }
   ],
   "source": [
    "import matplotlib.pyplot as plt\n",
    "%matplotlib inline\n",
    "\n",
    "x = df['일자'][:20][::-1]\n",
    "y = df['공매도 수량_잔고수량'][:20][::-1]\n",
    "plt.bar(x,y)\n",
    "plt.xticks(['2022/02/15', '2022/02/25', '2022/03/16'], rotation=45)\n",
    "plt.yticks([5000000, 5600000])\n",
    "plt.ylim([4900000,5600000])\n",
    "plt.title('1개월 공매도잔고', loc='left', fontsize=20)\n",
    "\n",
    "dict = {y:x for x,y in zip(x,y)}\n",
    "plt.text(dict[min(y)], min(y), '↓',\n",
    "        color='r', horizontalalignment='center', verticalalignment='bottom', fontsize=40)\n",
    "\n",
    "plt.show()"
   ]
  },
  {
   "cell_type": "code",
   "execution_count": 5,
   "metadata": {
    "scrolled": true
   },
   "outputs": [
    {
     "data": {
      "image/png": "[encoded data removed]",
      "text/plain": [
       "<Figure size 432x288 with 1 Axes>"
      ]
     },
     "metadata": {
      "needs_background": "light"
     },
     "output_type": "display_data"
    }
   ],
   "source": [
    "import matplotlib.pyplot as plt\n",
    "%matplotlib inline\n",
    "\n",
    "x = df['일자'][::-1]\n",
    "y = df['공매도 수량_잔고수량'][::-1]\n",
    "plt.plot(x,y)\n",
    "plt.axis('off')\n",
    "plt.title('6개월 공매도잔고', loc='left', fontsize=20)\n",
    "\n",
    "dict = {y:x for x,y in zip(x,y)}\n",
    "plt.text(dict[min(y)], min(y), dict[min(y)],\n",
    "        color='r', horizontalalignment='center', verticalalignment='top', fontsize=20)\n",
    "\n",
    "plt.text(dict[max(y)], max(y), dict[max(y)],\n",
    "        color='r', horizontalalignment='center', verticalalignment='bottom', fontsize=20)\n",
    "\n",
    "plt.show()"
   ]
  }
 ],
 "metadata": {
  "kernelspec": {
   "display_name": "Python 3",
   "language": "python",
   "name": "python3"
  },
  "language_info": {
   "codemirror_mode": {
    "name": "ipython",
    "version": 3
   },
   "file_extension": ".py",
   "mimetype": "text/x-python",
   "name": "python",
   "nbconvert_exporter": "python",
   "pygments_lexer": "ipython3",
   "version": "3.7.3"
  }
 },
 "nbformat": 4,
 "nbformat_minor": 2
}
