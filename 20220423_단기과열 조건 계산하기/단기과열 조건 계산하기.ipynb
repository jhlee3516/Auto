{
 "cells": [
  {
   "cell_type": "markdown",
   "metadata": {},
   "source": [
    "# Introduction\n",
    "대주산업  \n",
    "2022년 4월 19일 : 단기과열종목 지정예고  \n",
    "2022년 4월 20일 : 단기과열종목 지정  \n",
    "유튜브: https://youtu.be/wBzeXNXaS8g"
   ]
  },
  {
   "cell_type": "markdown",
   "metadata": {},
   "source": [
    "# Import"
   ]
  },
  {
   "cell_type": "code",
   "execution_count": 1,
   "metadata": {},
   "outputs": [],
   "source": [
    "import pandas as pd\n",
    "import FinanceDataReader as fdr"
   ]
  },
  {
   "cell_type": "markdown",
   "metadata": {},
   "source": [
    "# Data"
   ]
  },
  {
   "cell_type": "code",
   "execution_count": 6,
   "metadata": {},
   "outputs": [
    {
     "data": {
      "text/html": [
       "<div>\n",
       "<style scoped>\n",
       "    .dataframe tbody tr th:only-of-type {\n",
       "        vertical-align: middle;\n",
       "    }\n",
       "\n",
       "    .dataframe tbody tr th {\n",
       "        vertical-align: top;\n",
       "    }\n",
       "\n",
       "    .dataframe thead th {\n",
       "        text-align: right;\n",
       "    }\n",
       "</style>\n",
       "<table border=\"1\" class=\"dataframe\">\n",
       "  <thead>\n",
       "    <tr style=\"text-align: right;\">\n",
       "      <th></th>\n",
       "      <th>Open</th>\n",
       "      <th>High</th>\n",
       "      <th>Low</th>\n",
       "      <th>Close</th>\n",
       "      <th>Volume</th>\n",
       "      <th>Change</th>\n",
       "    </tr>\n",
       "    <tr>\n",
       "      <th>Date</th>\n",
       "      <th></th>\n",
       "      <th></th>\n",
       "      <th></th>\n",
       "      <th></th>\n",
       "      <th></th>\n",
       "      <th></th>\n",
       "    </tr>\n",
       "  </thead>\n",
       "  <tbody>\n",
       "    <tr>\n",
       "      <th>2022-04-13</th>\n",
       "      <td>2070</td>\n",
       "      <td>2115</td>\n",
       "      <td>2055</td>\n",
       "      <td>2080</td>\n",
       "      <td>271502</td>\n",
       "      <td>-0.007160</td>\n",
       "    </tr>\n",
       "    <tr>\n",
       "      <th>2022-04-14</th>\n",
       "      <td>2080</td>\n",
       "      <td>2175</td>\n",
       "      <td>2080</td>\n",
       "      <td>2155</td>\n",
       "      <td>865276</td>\n",
       "      <td>0.036058</td>\n",
       "    </tr>\n",
       "    <tr>\n",
       "      <th>2022-04-15</th>\n",
       "      <td>2155</td>\n",
       "      <td>2260</td>\n",
       "      <td>2155</td>\n",
       "      <td>2220</td>\n",
       "      <td>2178330</td>\n",
       "      <td>0.030162</td>\n",
       "    </tr>\n",
       "    <tr>\n",
       "      <th>2022-04-18</th>\n",
       "      <td>2240</td>\n",
       "      <td>2885</td>\n",
       "      <td>2220</td>\n",
       "      <td>2885</td>\n",
       "      <td>49113978</td>\n",
       "      <td>0.299550</td>\n",
       "    </tr>\n",
       "    <tr>\n",
       "      <th>2022-04-19</th>\n",
       "      <td>3085</td>\n",
       "      <td>3620</td>\n",
       "      <td>2960</td>\n",
       "      <td>3300</td>\n",
       "      <td>86151106</td>\n",
       "      <td>0.143847</td>\n",
       "    </tr>\n",
       "  </tbody>\n",
       "</table>\n",
       "</div>"
      ],
      "text/plain": [
       "            Open  High   Low  Close    Volume    Change\n",
       "Date                                                   \n",
       "2022-04-13  2070  2115  2055   2080    271502 -0.007160\n",
       "2022-04-14  2080  2175  2080   2155    865276  0.036058\n",
       "2022-04-15  2155  2260  2155   2220   2178330  0.030162\n",
       "2022-04-18  2240  2885  2220   2885  49113978  0.299550\n",
       "2022-04-19  3085  3620  2960   3300  86151106  0.143847"
      ]
     },
     "execution_count": 6,
     "metadata": {},
     "output_type": "execute_result"
    }
   ],
   "source": [
    "df = fdr.DataReader(symbol='003310', end='2022-04-19')\n",
    "df.tail()"
   ]
  },
  {
   "cell_type": "markdown",
   "metadata": {},
   "source": [
    "### 01 (주가) 당일 종가가 직전 40거래일 종가의 평균 대비 30%이상 상승"
   ]
  },
  {
   "cell_type": "code",
   "execution_count": 28,
   "metadata": {
    "scrolled": true
   },
   "outputs": [
    {
     "data": {
      "text/plain": [
       "True"
      ]
     },
     "execution_count": 28,
     "metadata": {},
     "output_type": "execute_result"
    }
   ],
   "source": [
    "df['Close'][-1] >= df['Close'][-41:-1].mean()*1.3"
   ]
  },
  {
   "cell_type": "markdown",
   "metadata": {},
   "source": [
    "### 02 (회전율) 최근 2거래일 평균 회전율이 직전 40거래일 회전율 평균 대비 500%이상 증가"
   ]
  },
  {
   "cell_type": "code",
   "execution_count": 35,
   "metadata": {},
   "outputs": [
    {
     "data": {
      "text/plain": [
       "True"
      ]
     },
     "execution_count": 35,
     "metadata": {},
     "output_type": "execute_result"
    }
   ],
   "source": [
    "df['Volume'][-2:].mean() >= df['Volume'][-42:-2].mean()*5"
   ]
  },
  {
   "cell_type": "markdown",
   "metadata": {},
   "source": [
    "### 03 (변동성) 최근 2거래일 평균 일중변동성이 직전 40거래일 일중변동성 평균 대비 50%이상 증가"
   ]
  },
  {
   "cell_type": "code",
   "execution_count": 50,
   "metadata": {},
   "outputs": [],
   "source": [
    "df['변동성'] = df['High'] - df['Low']"
   ]
  },
  {
   "cell_type": "code",
   "execution_count": 51,
   "metadata": {},
   "outputs": [
    {
     "data": {
      "text/plain": [
       "True"
      ]
     },
     "execution_count": 51,
     "metadata": {},
     "output_type": "execute_result"
    }
   ],
   "source": [
    "df['변동성'][-2:].mean() >= df['변동성'][-42:-2].mean()*1.5"
   ]
  },
  {
   "cell_type": "markdown",
   "metadata": {},
   "source": [
    "# Conclusion\n",
    "조건을 각각 계산해보았다.  \n",
    "대주산업은 당일 주가, 회전율, 변동성 조건을 만족하므로 단기과열종목으로 지정예고되었다는 사실을 알 수 있다. "
   ]
  }
 ],
 "metadata": {
  "kernelspec": {
   "display_name": "Python 3",
   "language": "python",
   "name": "python3"
  },
  "language_info": {
   "codemirror_mode": {
    "name": "ipython",
    "version": 3
   },
   "file_extension": ".py",
   "mimetype": "text/x-python",
   "name": "python",
   "nbconvert_exporter": "python",
   "pygments_lexer": "ipython3",
   "version": "3.7.3"
  }
 },
 "nbformat": 4,
 "nbformat_minor": 2
}
