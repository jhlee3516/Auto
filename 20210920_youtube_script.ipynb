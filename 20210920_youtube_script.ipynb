{
 "cells": [
  {
   "cell_type": "code",
   "execution_count": 1,
   "metadata": {
    "scrolled": true
   },
   "outputs": [],
   "source": [
    "import sys\n",
    "from PyQt5.QtWidgets import *\n",
    "\n",
    "class MyWindow(QMainWindow):\n",
    "    def __init__(self):\n",
    "        super().__init__()\n",
    " \n",
    "        self.resize(300, 600)\n",
    "    \n",
    "        self.setWindowTitle(\"YouTube Script\")\n",
    "    \n",
    "        self.text1= QTextEdit(self) \n",
    "        self.text1.setAcceptRichText(True) \n",
    "        self.setCentralWidget(self.text1)\n",
    "      \n",
    "        btn = QPushButton(\"대본 내보내기\", self)    \n",
    "        btn.move(100, 550)                       \n",
    "        btn.clicked.connect(self.btn_clicked) \n",
    "\n",
    "\n",
    "    def btn_clicked(self):                     \n",
    "        f = open(\"자막.txt\", 'w')\n",
    "        textcontent = self.text1.toPlainText()\n",
    "        script = '.\\n'.join(textcontent.split(\". \")) # '콤마 한칸띄기'를 하면 줄바꿈이 된다. 보통 문장이 끝나면 마침표를 찍고 한칸을 띈다.\n",
    "        f.write(script)\n",
    "        f.close()\n",
    "\n",
    "if __name__ == '__main__':\n",
    "    \n",
    "    app = QApplication(sys.argv)\n",
    "    mywindow = MyWindow()\n",
    "    mywindow.show()\n",
    "    app.exec_()"
   ]
  },
  {
   "cell_type": "code",
   "execution_count": null,
   "metadata": {},
   "outputs": [],
   "source": []
  },
  {
   "cell_type": "code",
   "execution_count": null,
   "metadata": {},
   "outputs": [],
   "source": []
  },
  {
   "cell_type": "code",
   "execution_count": null,
   "metadata": {},
   "outputs": [],
   "source": []
  }
 ],
 "metadata": {
  "kernelspec": {
   "display_name": "Python 3",
   "language": "python",
   "name": "python3"
  },
  "language_info": {
   "codemirror_mode": {
    "name": "ipython",
    "version": 3
   },
   "file_extension": ".py",
   "mimetype": "text/x-python",
   "name": "python",
   "nbconvert_exporter": "python",
   "pygments_lexer": "ipython3",
   "version": "3.7.3"
  }
 },
 "nbformat": 4,
 "nbformat_minor": 2
}
