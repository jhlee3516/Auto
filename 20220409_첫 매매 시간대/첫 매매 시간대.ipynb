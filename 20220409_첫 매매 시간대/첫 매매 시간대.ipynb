{
 "cells": [
  {
   "cell_type": "markdown",
   "metadata": {},
   "source": [
    "# Background\n",
    "이전 연구에서 첫 매매 승률이 37.5%(3/8)라는 것을 알게 되었다.  \n",
    "가장 빠른 해결책은 기존과 같은 방법으로 첫 매매를 하지 않는 것이다.   \n",
    "따라서 첫 매매가 이뤄지는 시간대를 알아내고 해당 시간대에는 매매하지 않는다.  \n",
    "유튜브 : https://youtu.be/90__UduV4us"
   ]
  },
  {
   "cell_type": "markdown",
   "metadata": {},
   "source": [
    "# Import"
   ]
  },
  {
   "cell_type": "code",
   "execution_count": 120,
   "metadata": {},
   "outputs": [],
   "source": [
    "import pandas as pd\n",
    "import numpy as np\n",
    "from matplotlib import pyplot as plt\n",
    "import seaborn as sns\n",
    "%matplotlib inline"
   ]
  },
  {
   "cell_type": "markdown",
   "metadata": {},
   "source": [
    "# Load"
   ]
  },
  {
   "cell_type": "code",
   "execution_count": 121,
   "metadata": {},
   "outputs": [
    {
     "data": {
      "text/html": [
       "<div>\n",
       "<style scoped>\n",
       "    .dataframe tbody tr th:only-of-type {\n",
       "        vertical-align: middle;\n",
       "    }\n",
       "\n",
       "    .dataframe tbody tr th {\n",
       "        vertical-align: top;\n",
       "    }\n",
       "\n",
       "    .dataframe thead th {\n",
       "        text-align: right;\n",
       "    }\n",
       "</style>\n",
       "<table border=\"1\" class=\"dataframe\">\n",
       "  <thead>\n",
       "    <tr style=\"text-align: right;\">\n",
       "      <th></th>\n",
       "      <th>주문일자</th>\n",
       "      <th>체결시간</th>\n",
       "      <th>종목명</th>\n",
       "      <th>매수가</th>\n",
       "      <th>수익률</th>\n",
       "      <th>매매기법</th>\n",
       "      <th>종목코드</th>\n",
       "      <th>매수등락률</th>\n",
       "      <th>고가등락률</th>\n",
       "      <th>시가등락률</th>\n",
       "      <th>특징주</th>\n",
       "      <th>SEN</th>\n",
       "      <th>강세 토픽</th>\n",
       "    </tr>\n",
       "  </thead>\n",
       "  <tbody>\n",
       "    <tr>\n",
       "      <th>0</th>\n",
       "      <td>2022-03-29</td>\n",
       "      <td>09:09:07</td>\n",
       "      <td>고려시멘트</td>\n",
       "      <td>5230</td>\n",
       "      <td>2.87</td>\n",
       "      <td>NaN</td>\n",
       "      <td>198440</td>\n",
       "      <td>16.22</td>\n",
       "      <td>24.44</td>\n",
       "      <td>6.22</td>\n",
       "      <td>NaN</td>\n",
       "      <td>NaN</td>\n",
       "      <td>NaN</td>\n",
       "    </tr>\n",
       "    <tr>\n",
       "      <th>1</th>\n",
       "      <td>2022-03-29</td>\n",
       "      <td>09:28:09</td>\n",
       "      <td>고려시멘트</td>\n",
       "      <td>5410</td>\n",
       "      <td>1.85</td>\n",
       "      <td>NaN</td>\n",
       "      <td>198440</td>\n",
       "      <td>20.22</td>\n",
       "      <td>24.44</td>\n",
       "      <td>6.22</td>\n",
       "      <td>NaN</td>\n",
       "      <td>NaN</td>\n",
       "      <td>NaN</td>\n",
       "    </tr>\n",
       "    <tr>\n",
       "      <th>2</th>\n",
       "      <td>2022-03-29</td>\n",
       "      <td>10:38:18</td>\n",
       "      <td>고려시멘트</td>\n",
       "      <td>5441</td>\n",
       "      <td>0.15</td>\n",
       "      <td>NaN</td>\n",
       "      <td>198440</td>\n",
       "      <td>20.91</td>\n",
       "      <td>24.44</td>\n",
       "      <td>6.22</td>\n",
       "      <td>NaN</td>\n",
       "      <td>NaN</td>\n",
       "      <td>NaN</td>\n",
       "    </tr>\n",
       "    <tr>\n",
       "      <th>3</th>\n",
       "      <td>2022-03-29</td>\n",
       "      <td>09:51:11</td>\n",
       "      <td>영진약품</td>\n",
       "      <td>5490</td>\n",
       "      <td>0.66</td>\n",
       "      <td>NaN</td>\n",
       "      <td>3520</td>\n",
       "      <td>6.60</td>\n",
       "      <td>10.10</td>\n",
       "      <td>0.19</td>\n",
       "      <td>NaN</td>\n",
       "      <td>NaN</td>\n",
       "      <td>NaN</td>\n",
       "    </tr>\n",
       "    <tr>\n",
       "      <th>4</th>\n",
       "      <td>2022-03-29</td>\n",
       "      <td>09:58:16</td>\n",
       "      <td>버킷스튜디오</td>\n",
       "      <td>5060</td>\n",
       "      <td>-0.59</td>\n",
       "      <td>NaN</td>\n",
       "      <td>66410</td>\n",
       "      <td>11.58</td>\n",
       "      <td>18.85</td>\n",
       "      <td>3.09</td>\n",
       "      <td>NaN</td>\n",
       "      <td>NaN</td>\n",
       "      <td>NaN</td>\n",
       "    </tr>\n",
       "  </tbody>\n",
       "</table>\n",
       "</div>"
      ],
      "text/plain": [
       "         주문일자      체결시간     종목명   매수가   수익률 매매기법    종목코드  매수등락률  고가등락률  시가등락률  \\\n",
       "0  2022-03-29  09:09:07   고려시멘트  5230  2.87  NaN  198440  16.22  24.44   6.22   \n",
       "1  2022-03-29  09:28:09   고려시멘트  5410  1.85  NaN  198440  20.22  24.44   6.22   \n",
       "2  2022-03-29  10:38:18   고려시멘트  5441  0.15  NaN  198440  20.91  24.44   6.22   \n",
       "3  2022-03-29  09:51:11    영진약품  5490  0.66  NaN    3520   6.60  10.10   0.19   \n",
       "4  2022-03-29  09:58:16  버킷스튜디오  5060 -0.59  NaN   66410  11.58  18.85   3.09   \n",
       "\n",
       "   특징주  SEN 강세 토픽  \n",
       "0  NaN  NaN   NaN  \n",
       "1  NaN  NaN   NaN  \n",
       "2  NaN  NaN   NaN  \n",
       "3  NaN  NaN   NaN  \n",
       "4  NaN  NaN   NaN  "
      ]
     },
     "execution_count": 121,
     "metadata": {},
     "output_type": "execute_result"
    }
   ],
   "source": [
    "df = pd.read_csv('data.csv')\n",
    "df.head()"
   ]
  },
  {
   "cell_type": "markdown",
   "metadata": {},
   "source": [
    "# Preprocessing"
   ]
  },
  {
   "cell_type": "code",
   "execution_count": 122,
   "metadata": {},
   "outputs": [
    {
     "data": {
      "text/plain": [
       "array(['2022-03-29', '2022-03-31', '2022-03-30', '2022-04-04',\n",
       "       '2022-04-01', '2022-04-06', '2022-04-05', '2022-04-07'],\n",
       "      dtype=object)"
      ]
     },
     "execution_count": 122,
     "metadata": {},
     "output_type": "execute_result"
    }
   ],
   "source": [
    "dates = df['주문일자'].unique()\n",
    "dates"
   ]
  },
  {
   "cell_type": "code",
   "execution_count": 123,
   "metadata": {},
   "outputs": [],
   "source": [
    "list = []\n",
    "\n",
    "for date in dates:\n",
    "    frame = df[df['주문일자'] == date]\n",
    "    frame = frame.sort_values('체결시간')\n",
    "    frame = frame.reset_index(drop=True)\n",
    "    \n",
    "    time = frame.iloc[0]['체결시간'][:5]\n",
    "    profit = frame.iloc[0]['수익률']\n",
    "    \n",
    "    list.append([time, profit])"
   ]
  },
  {
   "cell_type": "code",
   "execution_count": 124,
   "metadata": {},
   "outputs": [
    {
     "data": {
      "text/html": [
       "<div>\n",
       "<style scoped>\n",
       "    .dataframe tbody tr th:only-of-type {\n",
       "        vertical-align: middle;\n",
       "    }\n",
       "\n",
       "    .dataframe tbody tr th {\n",
       "        vertical-align: top;\n",
       "    }\n",
       "\n",
       "    .dataframe thead th {\n",
       "        text-align: right;\n",
       "    }\n",
       "</style>\n",
       "<table border=\"1\" class=\"dataframe\">\n",
       "  <thead>\n",
       "    <tr style=\"text-align: right;\">\n",
       "      <th></th>\n",
       "      <th>time</th>\n",
       "      <th>profit</th>\n",
       "    </tr>\n",
       "  </thead>\n",
       "  <tbody>\n",
       "    <tr>\n",
       "      <th>0</th>\n",
       "      <td>09:06</td>\n",
       "      <td>-2.43</td>\n",
       "    </tr>\n",
       "    <tr>\n",
       "      <th>1</th>\n",
       "      <td>09:06</td>\n",
       "      <td>-0.51</td>\n",
       "    </tr>\n",
       "    <tr>\n",
       "      <th>2</th>\n",
       "      <td>09:07</td>\n",
       "      <td>-4.23</td>\n",
       "    </tr>\n",
       "    <tr>\n",
       "      <th>3</th>\n",
       "      <td>09:09</td>\n",
       "      <td>2.87</td>\n",
       "    </tr>\n",
       "    <tr>\n",
       "      <th>4</th>\n",
       "      <td>09:11</td>\n",
       "      <td>-0.75</td>\n",
       "    </tr>\n",
       "    <tr>\n",
       "      <th>5</th>\n",
       "      <td>09:18</td>\n",
       "      <td>-1.01</td>\n",
       "    </tr>\n",
       "    <tr>\n",
       "      <th>6</th>\n",
       "      <td>09:20</td>\n",
       "      <td>0.00</td>\n",
       "    </tr>\n",
       "    <tr>\n",
       "      <th>7</th>\n",
       "      <td>09:30</td>\n",
       "      <td>4.95</td>\n",
       "    </tr>\n",
       "  </tbody>\n",
       "</table>\n",
       "</div>"
      ],
      "text/plain": [
       "    time  profit\n",
       "0  09:06   -2.43\n",
       "1  09:06   -0.51\n",
       "2  09:07   -4.23\n",
       "3  09:09    2.87\n",
       "4  09:11   -0.75\n",
       "5  09:18   -1.01\n",
       "6  09:20    0.00\n",
       "7  09:30    4.95"
      ]
     },
     "execution_count": 124,
     "metadata": {},
     "output_type": "execute_result"
    }
   ],
   "source": [
    "df = pd.DataFrame(list, columns=['time','profit'])\n",
    "df = df.sort_values('time')\n",
    "df = df.reset_index(drop=True)\n",
    "df"
   ]
  },
  {
   "cell_type": "code",
   "execution_count": 125,
   "metadata": {},
   "outputs": [],
   "source": [
    "X = df['time']\n",
    "y = df['profit']"
   ]
  },
  {
   "cell_type": "markdown",
   "metadata": {},
   "source": [
    "# Visualization\n",
    "9시 30분부터는 매매해도 된다.  \n",
    "우상향하는 직선을 그려볼 수 있는 것으로 보아 양의 상관관계가 있는 걸로 보인다.  "
   ]
  },
  {
   "cell_type": "code",
   "execution_count": 126,
   "metadata": {},
   "outputs": [
    {
     "data": {
      "image/png": "[encoded data removed]",
      "text/plain": [
       "<Figure size 432x288 with 1 Axes>"
      ]
     },
     "metadata": {
      "needs_background": "light"
     },
     "output_type": "display_data"
    }
   ],
   "source": [
    "plt.scatter(X, y)\n",
    "plt.xlabel('time')\n",
    "plt.ylabel('profit')\n",
    "plt.axhline(y=0, color='r', linewidth=3)\n",
    "plt.show()"
   ]
  },
  {
   "cell_type": "markdown",
   "metadata": {},
   "source": [
    "# Conclusion\n",
    "아침 9시 30분부터 매매한다."
   ]
  }
 ],
 "metadata": {
  "kernelspec": {
   "display_name": "Python 3",
   "language": "python",
   "name": "python3"
  },
  "language_info": {
   "codemirror_mode": {
    "name": "ipython",
    "version": 3
   },
   "file_extension": ".py",
   "mimetype": "text/x-python",
   "name": "python",
   "nbconvert_exporter": "python",
   "pygments_lexer": "ipython3",
   "version": "3.7.3"
  }
 },
 "nbformat": 4,
 "nbformat_minor": 2
}
