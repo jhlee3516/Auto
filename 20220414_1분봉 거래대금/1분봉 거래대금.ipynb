{
 "cells": [
  {
   "cell_type": "markdown",
   "metadata": {},
   "source": [
    "# Background\n",
    "티사이언티픽과 GS글로벌은 비슷한 눌림돌파타점이다.  \n",
    "그런데 결과는 다르다. 그 이유는 무엇일까?  \n",
    "아마도 이전 분봉상 거래대금에서 차이가 날 것이다.   \n",
    "유튜브: https://youtu.be/C6RSAKG5A9Y"
   ]
  },
  {
   "cell_type": "markdown",
   "metadata": {},
   "source": [
    "# Import"
   ]
  },
  {
   "cell_type": "code",
   "execution_count": 155,
   "metadata": {},
   "outputs": [],
   "source": [
    "import pandas as pd\n",
    "import numpy as np\n",
    "from matplotlib import pyplot as plt\n",
    "%matplotlib inline"
   ]
  },
  {
   "cell_type": "markdown",
   "metadata": {},
   "source": [
    "# Load"
   ]
  },
  {
   "cell_type": "code",
   "execution_count": 156,
   "metadata": {
    "scrolled": true
   },
   "outputs": [
    {
     "data": {
      "text/html": [
       "<div>\n",
       "<style scoped>\n",
       "    .dataframe tbody tr th:only-of-type {\n",
       "        vertical-align: middle;\n",
       "    }\n",
       "\n",
       "    .dataframe tbody tr th {\n",
       "        vertical-align: top;\n",
       "    }\n",
       "\n",
       "    .dataframe thead th {\n",
       "        text-align: right;\n",
       "    }\n",
       "</style>\n",
       "<table border=\"1\" class=\"dataframe\">\n",
       "  <thead>\n",
       "    <tr style=\"text-align: right;\">\n",
       "      <th></th>\n",
       "      <th>주문일자</th>\n",
       "      <th>체결시간</th>\n",
       "      <th>종목명</th>\n",
       "      <th>매수가</th>\n",
       "      <th>수익률</th>\n",
       "      <th>매매기법</th>\n",
       "      <th>종목코드</th>\n",
       "      <th>매수등락률</th>\n",
       "      <th>고가등락률</th>\n",
       "      <th>시가등락률</th>\n",
       "      <th>뉴스기사</th>\n",
       "    </tr>\n",
       "  </thead>\n",
       "  <tbody>\n",
       "    <tr>\n",
       "      <th>0</th>\n",
       "      <td>2022-04-12</td>\n",
       "      <td>09:45:27</td>\n",
       "      <td>티사이언티픽</td>\n",
       "      <td>4505</td>\n",
       "      <td>-2.11</td>\n",
       "      <td>NaN</td>\n",
       "      <td>57680</td>\n",
       "      <td>20.78</td>\n",
       "      <td>22.65</td>\n",
       "      <td>14.08</td>\n",
       "      <td>1</td>\n",
       "    </tr>\n",
       "    <tr>\n",
       "      <th>1</th>\n",
       "      <td>2022-04-12</td>\n",
       "      <td>09:55:29</td>\n",
       "      <td>GS글로벌</td>\n",
       "      <td>4050</td>\n",
       "      <td>2.84</td>\n",
       "      <td>NaN</td>\n",
       "      <td>1250</td>\n",
       "      <td>13.92</td>\n",
       "      <td>24.89</td>\n",
       "      <td>5.34</td>\n",
       "      <td>1</td>\n",
       "    </tr>\n",
       "  </tbody>\n",
       "</table>\n",
       "</div>"
      ],
      "text/plain": [
       "         주문일자      체결시간     종목명   매수가   수익률 매매기법   종목코드  매수등락률  고가등락률  시가등락률  \\\n",
       "0  2022-04-12  09:45:27  티사이언티픽  4505 -2.11  NaN  57680  20.78  22.65  14.08   \n",
       "1  2022-04-12  09:55:29   GS글로벌  4050  2.84  NaN   1250  13.92  24.89   5.34   \n",
       "\n",
       "   뉴스기사  \n",
       "0     1  \n",
       "1     1  "
      ]
     },
     "execution_count": 156,
     "metadata": {},
     "output_type": "execute_result"
    }
   ],
   "source": [
    "df = pd.read_csv('data.csv')\n",
    "df = df[df['주문일자'] == '2022-04-12']\n",
    "df = df.reset_index(drop=True)\n",
    "df"
   ]
  },
  {
   "cell_type": "markdown",
   "metadata": {},
   "source": [
    "# Preprocessing"
   ]
  },
  {
   "cell_type": "code",
   "execution_count": 157,
   "metadata": {},
   "outputs": [],
   "source": [
    "max_money = []\n",
    "min_money = []\n",
    "\n",
    "for i in range(len(df)):\n",
    "    df['체결시간'] = pd.to_datetime(df['체결시간'])\n",
    "    date = df.iloc[i]['주문일자']\n",
    "    firm = df.iloc[i]['종목명']\n",
    "    time = df.iloc[i]['체결시간']\n",
    "\n",
    "    frame = pd.read_csv(date+'_'+firm+'.csv')\n",
    "    frame['시간'] = pd.to_datetime(frame['시간'])\n",
    "    frame = frame[frame['시간'] < time]\n",
    "    \n",
    "    max_volume = frame['거래량'].max()\n",
    "    min_volume = frame['거래량'].min()\n",
    "\n",
    "    max_price = frame[frame['거래량'] == max_volume].reset_index(drop=True).iloc[0]['종가']\n",
    "    min_price = frame[frame['거래량'] == min_volume].reset_index(drop=True).iloc[0]['종가']\n",
    "    \n",
    "    max_vp = max_volume * max_price\n",
    "    min_vp = min_volume * min_price\n",
    "    \n",
    "    max_money.append(max_vp)\n",
    "    min_money.append(min_vp)"
   ]
  },
  {
   "cell_type": "code",
   "execution_count": 158,
   "metadata": {},
   "outputs": [],
   "source": [
    "df['최대거래대금(억)'] = max_money\n",
    "df['최소거래대금(억)'] = min_money"
   ]
  },
  {
   "cell_type": "code",
   "execution_count": 159,
   "metadata": {},
   "outputs": [],
   "source": [
    "df['최대거래대금(억)'] = df['최대거래대금(억)'].apply(lambda x : round(x / 100000000))\n",
    "df['최소거래대금(억)'] = df['최소거래대금(억)'].apply(lambda x : round(x / 100000000))"
   ]
  },
  {
   "cell_type": "code",
   "execution_count": 160,
   "metadata": {},
   "outputs": [
    {
     "data": {
      "text/html": [
       "<div>\n",
       "<style scoped>\n",
       "    .dataframe tbody tr th:only-of-type {\n",
       "        vertical-align: middle;\n",
       "    }\n",
       "\n",
       "    .dataframe tbody tr th {\n",
       "        vertical-align: top;\n",
       "    }\n",
       "\n",
       "    .dataframe thead th {\n",
       "        text-align: right;\n",
       "    }\n",
       "</style>\n",
       "<table border=\"1\" class=\"dataframe\">\n",
       "  <thead>\n",
       "    <tr style=\"text-align: right;\">\n",
       "      <th></th>\n",
       "      <th>주문일자</th>\n",
       "      <th>체결시간</th>\n",
       "      <th>종목명</th>\n",
       "      <th>매수가</th>\n",
       "      <th>수익률</th>\n",
       "      <th>매매기법</th>\n",
       "      <th>종목코드</th>\n",
       "      <th>매수등락률</th>\n",
       "      <th>고가등락률</th>\n",
       "      <th>시가등락률</th>\n",
       "      <th>뉴스기사</th>\n",
       "      <th>최대거래대금(억)</th>\n",
       "      <th>최소거래대금(억)</th>\n",
       "    </tr>\n",
       "  </thead>\n",
       "  <tbody>\n",
       "    <tr>\n",
       "      <th>0</th>\n",
       "      <td>2022-04-12</td>\n",
       "      <td>2022-04-13 09:45:27</td>\n",
       "      <td>티사이언티픽</td>\n",
       "      <td>4505</td>\n",
       "      <td>-2.11</td>\n",
       "      <td>NaN</td>\n",
       "      <td>57680</td>\n",
       "      <td>20.78</td>\n",
       "      <td>22.65</td>\n",
       "      <td>14.08</td>\n",
       "      <td>1</td>\n",
       "      <td>92</td>\n",
       "      <td>4</td>\n",
       "    </tr>\n",
       "    <tr>\n",
       "      <th>1</th>\n",
       "      <td>2022-04-12</td>\n",
       "      <td>2022-04-13 09:55:29</td>\n",
       "      <td>GS글로벌</td>\n",
       "      <td>4050</td>\n",
       "      <td>2.84</td>\n",
       "      <td>NaN</td>\n",
       "      <td>1250</td>\n",
       "      <td>13.92</td>\n",
       "      <td>24.89</td>\n",
       "      <td>5.34</td>\n",
       "      <td>1</td>\n",
       "      <td>182</td>\n",
       "      <td>3</td>\n",
       "    </tr>\n",
       "  </tbody>\n",
       "</table>\n",
       "</div>"
      ],
      "text/plain": [
       "         주문일자                체결시간     종목명   매수가   수익률 매매기법   종목코드  매수등락률  \\\n",
       "0  2022-04-12 2022-04-13 09:45:27  티사이언티픽  4505 -2.11  NaN  57680  20.78   \n",
       "1  2022-04-12 2022-04-13 09:55:29   GS글로벌  4050  2.84  NaN   1250  13.92   \n",
       "\n",
       "   고가등락률  시가등락률  뉴스기사  최대거래대금(억)  최소거래대금(억)  \n",
       "0  22.65  14.08     1         92          4  \n",
       "1  24.89   5.34     1        182          3  "
      ]
     },
     "execution_count": 160,
     "metadata": {},
     "output_type": "execute_result"
    }
   ],
   "source": [
    "df"
   ]
  },
  {
   "cell_type": "markdown",
   "metadata": {},
   "source": [
    "# Visualization\n",
    "눌림돌파가 성공한 GS글로벌은 최대거래대금이 약 200억원이고  \n",
    "눌림돌파가 실패한 티사이언티픽은 최대거래대금이 약 100억원이다.  \n",
    "최소거래대금은 비슷하다."
   ]
  },
  {
   "cell_type": "code",
   "execution_count": 162,
   "metadata": {},
   "outputs": [],
   "source": [
    "import matplotlib\n",
    "matplotlib.rcParams['font.family'] = 'Malgun Gothic'\n",
    "matplotlib.rcParams['axes.unicode_minus'] = False"
   ]
  },
  {
   "cell_type": "code",
   "execution_count": 193,
   "metadata": {},
   "outputs": [
    {
     "data": {
      "image/png": "[encoded data removed]",
      "text/plain": [
       "<Figure size 432x288 with 2 Axes>"
      ]
     },
     "metadata": {
      "needs_background": "light"
     },
     "output_type": "display_data"
    }
   ],
   "source": [
    "plt.subplot(1, 2, 1)\n",
    "plt.bar(df.종목명, df['최대거래대금(억)'])\n",
    "plt.title('최대거래대금')\n",
    "plt.yticks([0,100,200])\n",
    "plt.xlabel('종목명')\n",
    "plt.ylabel('단위: 억원')\n",
    "\n",
    "plt.subplot(1, 2, 2)\n",
    "plt.bar(df.종목명, df['최소거래대금(억)'])\n",
    "plt.title('최소거래대금')\n",
    "plt.yticks([0,100,200])\n",
    "plt.xlabel('종목명')\n",
    "plt.ylabel('단위: 억원')\n",
    "\n",
    "plt.subplots_adjust(wspace=0.4)\n",
    "plt.show()"
   ]
  },
  {
   "cell_type": "markdown",
   "metadata": {},
   "source": [
    "# Conclusion\n",
    "1분봉 최대거래대금이 높을수록 매매성공률이 높을 가능성이 있다."
   ]
  }
 ],
 "metadata": {
  "kernelspec": {
   "display_name": "Python 3",
   "language": "python",
   "name": "python3"
  },
  "language_info": {
   "codemirror_mode": {
    "name": "ipython",
    "version": 3
   },
   "file_extension": ".py",
   "mimetype": "text/x-python",
   "name": "python",
   "nbconvert_exporter": "python",
   "pygments_lexer": "ipython3",
   "version": "3.7.3"
  }
 },
 "nbformat": 4,
 "nbformat_minor": 2
}
