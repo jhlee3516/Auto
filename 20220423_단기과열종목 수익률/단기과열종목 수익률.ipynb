{
 "cells": [
  {
   "cell_type": "markdown",
   "metadata": {},
   "source": [
    "# Introduction\n",
    "단기과열종목 지정예고 조건이 충족된 종목의 장중매매 수익률을 어떨까?  \n",
    "유튜브1: https://youtu.be/8L-ApqFCG3Y  \n",
    "유튜브2: https://youtu.be/g_YtTMQDJzM"
   ]
  },
  {
   "cell_type": "markdown",
   "metadata": {},
   "source": [
    "# Import"
   ]
  },
  {
   "cell_type": "code",
   "execution_count": 23,
   "metadata": {},
   "outputs": [],
   "source": [
    "import pandas as pd\n",
    "import numpy as np\n",
    "from matplotlib import pyplot as plt\n",
    "%matplotlib inline"
   ]
  },
  {
   "cell_type": "markdown",
   "metadata": {},
   "source": [
    "# Load"
   ]
  },
  {
   "cell_type": "code",
   "execution_count": 24,
   "metadata": {},
   "outputs": [
    {
     "data": {
      "text/html": [
       "<div>\n",
       "<style scoped>\n",
       "    .dataframe tbody tr th:only-of-type {\n",
       "        vertical-align: middle;\n",
       "    }\n",
       "\n",
       "    .dataframe tbody tr th {\n",
       "        vertical-align: top;\n",
       "    }\n",
       "\n",
       "    .dataframe thead th {\n",
       "        text-align: right;\n",
       "    }\n",
       "</style>\n",
       "<table border=\"1\" class=\"dataframe\">\n",
       "  <thead>\n",
       "    <tr style=\"text-align: right;\">\n",
       "      <th></th>\n",
       "      <th>주문일자</th>\n",
       "      <th>종목명</th>\n",
       "      <th>매수가격</th>\n",
       "      <th>매수시간</th>\n",
       "      <th>매도시간</th>\n",
       "      <th>수익률</th>\n",
       "      <th>종목코드</th>\n",
       "      <th>뉴스기사</th>\n",
       "      <th>최대거래대금 시간</th>\n",
       "      <th>최대거래대금</th>\n",
       "      <th>매수등락률</th>\n",
       "      <th>단기과열</th>\n",
       "    </tr>\n",
       "  </thead>\n",
       "  <tbody>\n",
       "    <tr>\n",
       "      <th>0</th>\n",
       "      <td>2022-03-29</td>\n",
       "      <td>고려시멘트</td>\n",
       "      <td>5230</td>\n",
       "      <td>09:09:07</td>\n",
       "      <td>09:21:27</td>\n",
       "      <td>2.87</td>\n",
       "      <td>198440</td>\n",
       "      <td>1</td>\n",
       "      <td>09:06:00</td>\n",
       "      <td>113</td>\n",
       "      <td>16.22</td>\n",
       "      <td>True</td>\n",
       "    </tr>\n",
       "    <tr>\n",
       "      <th>1</th>\n",
       "      <td>2022-03-29</td>\n",
       "      <td>고려시멘트</td>\n",
       "      <td>5410</td>\n",
       "      <td>09:28:09</td>\n",
       "      <td>09:32:19</td>\n",
       "      <td>1.85</td>\n",
       "      <td>198440</td>\n",
       "      <td>1</td>\n",
       "      <td>09:06:00</td>\n",
       "      <td>113</td>\n",
       "      <td>20.22</td>\n",
       "      <td>True</td>\n",
       "    </tr>\n",
       "    <tr>\n",
       "      <th>2</th>\n",
       "      <td>2022-03-29</td>\n",
       "      <td>고려시멘트</td>\n",
       "      <td>5440</td>\n",
       "      <td>10:38:18</td>\n",
       "      <td>10:51:17</td>\n",
       "      <td>0.15</td>\n",
       "      <td>198440</td>\n",
       "      <td>1</td>\n",
       "      <td>09:06:00</td>\n",
       "      <td>113</td>\n",
       "      <td>20.89</td>\n",
       "      <td>True</td>\n",
       "    </tr>\n",
       "    <tr>\n",
       "      <th>3</th>\n",
       "      <td>2022-03-29</td>\n",
       "      <td>영진약품</td>\n",
       "      <td>5490</td>\n",
       "      <td>09:51:11</td>\n",
       "      <td>09:55:24</td>\n",
       "      <td>0.66</td>\n",
       "      <td>3520</td>\n",
       "      <td>1</td>\n",
       "      <td>09:50:00</td>\n",
       "      <td>62</td>\n",
       "      <td>6.60</td>\n",
       "      <td>False</td>\n",
       "    </tr>\n",
       "    <tr>\n",
       "      <th>4</th>\n",
       "      <td>2022-03-29</td>\n",
       "      <td>버킷스튜디오</td>\n",
       "      <td>5060</td>\n",
       "      <td>09:58:16</td>\n",
       "      <td>09:59:56</td>\n",
       "      <td>-0.59</td>\n",
       "      <td>66410</td>\n",
       "      <td>1</td>\n",
       "      <td>09:22:00</td>\n",
       "      <td>72</td>\n",
       "      <td>11.58</td>\n",
       "      <td>False</td>\n",
       "    </tr>\n",
       "  </tbody>\n",
       "</table>\n",
       "</div>"
      ],
      "text/plain": [
       "         주문일자     종목명  매수가격      매수시간      매도시간   수익률    종목코드  뉴스기사 최대거래대금 시간  \\\n",
       "0  2022-03-29   고려시멘트  5230  09:09:07  09:21:27  2.87  198440     1  09:06:00   \n",
       "1  2022-03-29   고려시멘트  5410  09:28:09  09:32:19  1.85  198440     1  09:06:00   \n",
       "2  2022-03-29   고려시멘트  5440  10:38:18  10:51:17  0.15  198440     1  09:06:00   \n",
       "3  2022-03-29    영진약품  5490  09:51:11  09:55:24  0.66    3520     1  09:50:00   \n",
       "4  2022-03-29  버킷스튜디오  5060  09:58:16  09:59:56 -0.59   66410     1  09:22:00   \n",
       "\n",
       "   최대거래대금  매수등락률   단기과열  \n",
       "0     113  16.22   True  \n",
       "1     113  20.22   True  \n",
       "2     113  20.89   True  \n",
       "3      62   6.60  False  \n",
       "4      72  11.58  False  "
      ]
     },
     "execution_count": 24,
     "metadata": {},
     "output_type": "execute_result"
    }
   ],
   "source": [
    "df = pd.read_csv('data.csv')\n",
    "df.head()"
   ]
  },
  {
   "cell_type": "markdown",
   "metadata": {},
   "source": [
    "# Preprocessing"
   ]
  },
  {
   "cell_type": "code",
   "execution_count": 26,
   "metadata": {},
   "outputs": [],
   "source": [
    "df = df[df['뉴스기사'] == 1]\n",
    "df = df[df['매수등락률'] > 12]\n",
    "df = df[df['최대거래대금'] > 60]"
   ]
  },
  {
   "cell_type": "markdown",
   "metadata": {},
   "source": [
    "# Mean"
   ]
  },
  {
   "cell_type": "code",
   "execution_count": 19,
   "metadata": {},
   "outputs": [
    {
     "data": {
      "text/plain": [
       "1.6091666666666666"
      ]
     },
     "execution_count": 19,
     "metadata": {},
     "output_type": "execute_result"
    }
   ],
   "source": [
    "df[df['단기과열'] == True]['수익률'].mean()"
   ]
  },
  {
   "cell_type": "code",
   "execution_count": 20,
   "metadata": {},
   "outputs": [
    {
     "data": {
      "text/plain": [
       "0.8299999999999998"
      ]
     },
     "execution_count": 20,
     "metadata": {},
     "output_type": "execute_result"
    }
   ],
   "source": [
    "df[df['단기과열'] == False]['수익률'].mean()"
   ]
  },
  {
   "cell_type": "markdown",
   "metadata": {},
   "source": [
    "# Median"
   ]
  },
  {
   "cell_type": "code",
   "execution_count": 21,
   "metadata": {},
   "outputs": [
    {
     "data": {
      "text/plain": [
       "2.09"
      ]
     },
     "execution_count": 21,
     "metadata": {},
     "output_type": "execute_result"
    }
   ],
   "source": [
    "df[df['단기과열'] == True]['수익률'].median()"
   ]
  },
  {
   "cell_type": "code",
   "execution_count": 22,
   "metadata": {},
   "outputs": [
    {
     "data": {
      "text/plain": [
       "0.265"
      ]
     },
     "execution_count": 22,
     "metadata": {},
     "output_type": "execute_result"
    }
   ],
   "source": [
    "df[df['단기과열'] == False]['수익률'].median()"
   ]
  },
  {
   "cell_type": "markdown",
   "metadata": {},
   "source": [
    "# Results\n",
    "단기과열 조건에 해당하는 종목의 수익률은 mean 1.6%, median 2.09%이고  \n",
    "단기과열 조건에 해당하지 않는 종목의 수익률은 mean 0.82%, median 0.26%이다."
   ]
  },
  {
   "cell_type": "markdown",
   "metadata": {},
   "source": [
    "# Conclusion\n",
    "상식에 반하는 결과로 단기과열 조건을 충족시킨 종목에서 수익이 더 잘난다.   \n",
    "아마도 광기로 급등하는 종목은 단타거래 참여자도 많고 변동폭도 커서 수익이 잘 나는 것 같다.  \n",
    "따라서 단기과열조건은 신경 쓰지 않고 매매하면 될 것 같다.  \n",
    "주의할 점은 갭하락 위험이 있는 종가베팅이다.  \n",
    "오버나잇만 하지 않는다면 오히려 수익이 잘 난다."
   ]
  }
 ],
 "metadata": {
  "kernelspec": {
   "display_name": "Python 3",
   "language": "python",
   "name": "python3"
  },
  "language_info": {
   "codemirror_mode": {
    "name": "ipython",
    "version": 3
   },
   "file_extension": ".py",
   "mimetype": "text/x-python",
   "name": "python",
   "nbconvert_exporter": "python",
   "pygments_lexer": "ipython3",
   "version": "3.7.3"
  }
 },
 "nbformat": 4,
 "nbformat_minor": 2
}
