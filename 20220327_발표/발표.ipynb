{
 "cells": [
  {
   "cell_type": "markdown",
   "metadata": {},
   "source": [
    "# 발표\n",
    "Retrospective Study"
   ]
  },
  {
   "cell_type": "markdown",
   "metadata": {},
   "source": [
    "## Background\n",
    "이전 연구에서 '발표'가 조회수가 잘 나온다는 사실을 발견했다.  \n",
    "해당 연구에서 통계적 유의성을 확인하기 위해 T-test를 시행했다."
   ]
  },
  {
   "cell_type": "code",
   "execution_count": 1,
   "metadata": {},
   "outputs": [],
   "source": [
    "api_key = [API_KEY]\n",
    "channel_id = \"UCH98-54LGg386084raqob6g\""
   ]
  },
  {
   "cell_type": "code",
   "execution_count": 2,
   "metadata": {},
   "outputs": [],
   "source": [
    "from googleapiclient.discovery import build\n",
    "youtube = build(\"youtube\", \"v3\", developerKey=api_key)"
   ]
  },
  {
   "cell_type": "code",
   "execution_count": 3,
   "metadata": {},
   "outputs": [],
   "source": [
    "def get_channel_videos(channel_id):\n",
    "    res = youtube.channels().list(id=channel_id,\n",
    "                                 part=\"contentDetails\").execute()\n",
    "    playlist_id = res[\"items\"][0][\"contentDetails\"][\"relatedPlaylists\"][\"uploads\"]\n",
    "    \n",
    "    videos = []\n",
    "    next_page_token = None\n",
    "    \n",
    "    while 1:\n",
    "        res = youtube.playlistItems().list(playlistId=playlist_id,\n",
    "                                          part=\"snippet\",\n",
    "                                          maxResults=50,\n",
    "                                          pageToken=next_page_token).execute()\n",
    "        videos += res[\"items\"]\n",
    "        next_page_token = res.get(\"nextPageToken\")\n",
    "        \n",
    "        if next_page_token is None:\n",
    "            break\n",
    "    \n",
    "    return videos\n",
    "\n",
    "videos = get_channel_videos(channel_id)"
   ]
  },
  {
   "cell_type": "code",
   "execution_count": 4,
   "metadata": {},
   "outputs": [],
   "source": [
    "video_ids = list(map(lambda x:x['snippet']['resourceId']['videoId'], videos))\n",
    "\n",
    "def get_videos_stats(video_ids):\n",
    "    stats = []\n",
    "    for i in range(0, len(video_ids), 50):\n",
    "        res = youtube.videos().list(id=','.join(video_ids[i:i+50]),\n",
    "                                   part='statistics').execute()\n",
    "        stats += res['items']\n",
    "    return stats\n",
    "\n",
    "stats = get_videos_stats(video_ids)"
   ]
  },
  {
   "cell_type": "code",
   "execution_count": 5,
   "metadata": {},
   "outputs": [],
   "source": [
    "title = []\n",
    "for video in videos:\n",
    "    title.append(video['snippet']['title'])"
   ]
  },
  {
   "cell_type": "code",
   "execution_count": 6,
   "metadata": {},
   "outputs": [],
   "source": [
    "viewCount = []\n",
    "for stat in stats:\n",
    "    viewCount.append(stat['statistics']['viewCount'])"
   ]
  },
  {
   "cell_type": "code",
   "execution_count": 7,
   "metadata": {},
   "outputs": [],
   "source": [
    "import pandas as pd\n",
    "df = pd.DataFrame(zip(title, viewCount), columns=['title','viewCount'])\n",
    "df['viewCount'] = df['viewCount'].astype(int)"
   ]
  },
  {
   "cell_type": "markdown",
   "metadata": {},
   "source": [
    "## Analysis"
   ]
  },
  {
   "cell_type": "markdown",
   "metadata": {},
   "source": [
    "### Total"
   ]
  },
  {
   "cell_type": "code",
   "execution_count": 8,
   "metadata": {},
   "outputs": [
    {
     "name": "stdout",
     "output_type": "stream",
     "text": [
      "총 영상의 개수: 3403\n"
     ]
    }
   ],
   "source": [
    "print('총 영상의 개수:', len(df))"
   ]
  },
  {
   "cell_type": "code",
   "execution_count": 9,
   "metadata": {},
   "outputs": [
    {
     "name": "stdout",
     "output_type": "stream",
     "text": [
      "총 영상의 평균: 3907\n"
     ]
    }
   ],
   "source": [
    "print('총 영상의 평균:', round(df['viewCount'].mean()))"
   ]
  },
  {
   "cell_type": "markdown",
   "metadata": {},
   "source": [
    "### Sample Size"
   ]
  },
  {
   "cell_type": "code",
   "execution_count": 10,
   "metadata": {},
   "outputs": [],
   "source": [
    "treatment = df[df['title'].str.contains('발표') == True]\n",
    "placebo = df[df['title'].str.contains('발표') == False]"
   ]
  },
  {
   "cell_type": "code",
   "execution_count": 11,
   "metadata": {},
   "outputs": [
    {
     "name": "stdout",
     "output_type": "stream",
     "text": [
      "실험군 sample size: 73\n"
     ]
    }
   ],
   "source": [
    "print('실험군 sample size:', len(treatment))"
   ]
  },
  {
   "cell_type": "code",
   "execution_count": 12,
   "metadata": {},
   "outputs": [
    {
     "name": "stdout",
     "output_type": "stream",
     "text": [
      "대조군 sample size: 3330\n"
     ]
    }
   ],
   "source": [
    "print('대조군 sample size:', len(placebo))"
   ]
  },
  {
   "cell_type": "markdown",
   "metadata": {},
   "source": [
    "### Mean"
   ]
  },
  {
   "cell_type": "code",
   "execution_count": 13,
   "metadata": {
    "scrolled": false
   },
   "outputs": [
    {
     "name": "stdout",
     "output_type": "stream",
     "text": [
      "실험군 조회수 평균: 6734\n"
     ]
    }
   ],
   "source": [
    "print('실험군 조회수 평균:', round(treatment['viewCount'].mean()))"
   ]
  },
  {
   "cell_type": "code",
   "execution_count": 14,
   "metadata": {
    "scrolled": true
   },
   "outputs": [
    {
     "name": "stdout",
     "output_type": "stream",
     "text": [
      "대조군 조회수 평균: 3845\n"
     ]
    }
   ],
   "source": [
    "print('대조군 조회수 평균:', round(placebo['viewCount'].mean()))"
   ]
  },
  {
   "cell_type": "markdown",
   "metadata": {},
   "source": [
    "### T-test"
   ]
  },
  {
   "cell_type": "code",
   "execution_count": 15,
   "metadata": {},
   "outputs": [
    {
     "data": {
      "text/plain": [
       "Ttest_indResult(statistic=5.574120783866511, pvalue=2.6816570170997982e-08)"
      ]
     },
     "execution_count": 15,
     "metadata": {},
     "output_type": "execute_result"
    }
   ],
   "source": [
    "from scipy.stats import ttest_ind\n",
    "ttest_ind(treatment['viewCount'], placebo['viewCount'])"
   ]
  },
  {
   "cell_type": "markdown",
   "metadata": {},
   "source": [
    "### Median"
   ]
  },
  {
   "cell_type": "code",
   "execution_count": 16,
   "metadata": {},
   "outputs": [
    {
     "name": "stdout",
     "output_type": "stream",
     "text": [
      "실험군 조회수 중앙값: 5481\n"
     ]
    }
   ],
   "source": [
    "print('실험군 조회수 중앙값:', round(treatment['viewCount'].median()))"
   ]
  },
  {
   "cell_type": "code",
   "execution_count": 17,
   "metadata": {},
   "outputs": [
    {
     "name": "stdout",
     "output_type": "stream",
     "text": [
      "대조군 조회수 중앙값: 2398\n"
     ]
    }
   ],
   "source": [
    "print('대조군 조회수 중앙값:', round(placebo['viewCount'].median()))"
   ]
  },
  {
   "cell_type": "markdown",
   "metadata": {},
   "source": [
    "### Barchart"
   ]
  },
  {
   "cell_type": "code",
   "execution_count": 18,
   "metadata": {
    "scrolled": true
   },
   "outputs": [
    {
     "data": {
      "image/png": "[encoded data removed]",
      "text/plain": [
       "<Figure size 432x288 with 1 Axes>"
      ]
     },
     "metadata": {
      "needs_background": "light"
     },
     "output_type": "display_data"
    }
   ],
   "source": [
    "import matplotlib.pyplot as plt\n",
    "%matplotlib inline\n",
    "\n",
    "plt.boxplot([treatment['viewCount'], placebo['viewCount']])\n",
    "plt.xlabel('')\n",
    "plt.ylabel('viewCount')\n",
    "plt.title('Box Plot')\n",
    "plt.grid()\n",
    "plt.show()"
   ]
  },
  {
   "cell_type": "markdown",
   "metadata": {},
   "source": [
    "## Results\n",
    "실험군 조회수 평균은 6734회,  \n",
    "대조군 조회수 평균은 3845회  \n",
    "(p-value < 0.001)"
   ]
  },
  {
   "cell_type": "markdown",
   "metadata": {},
   "source": [
    "## Conclusion\n",
    "'발표' 제목은 조회수가 잘 나온다.   "
   ]
  }
 ],
 "metadata": {
  "kernelspec": {
   "display_name": "Python 3",
   "language": "python",
   "name": "python3"
  },
  "language_info": {
   "codemirror_mode": {
    "name": "ipython",
    "version": 3
   },
   "file_extension": ".py",
   "mimetype": "text/x-python",
   "name": "python",
   "nbconvert_exporter": "python",
   "pygments_lexer": "ipython3",
   "version": "3.7.3"
  }
 },
 "nbformat": 4,
 "nbformat_minor": 2
}
