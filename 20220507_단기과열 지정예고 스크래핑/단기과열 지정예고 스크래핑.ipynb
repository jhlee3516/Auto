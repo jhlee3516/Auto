{
 "cells": [
  {
   "cell_type": "markdown",
   "metadata": {},
   "source": [
    "# Introduction\n",
    "10거래일 내 단기과열 지정예고가 뜬 종목은 손실이 나는 것 같다.  \n",
    "따라서 데이터를 수집하고 머신러닝의 feature로 넣어주려고 한다.  \n",
    "유튜브: https://youtu.be/XKb1kOE9J2M"
   ]
  },
  {
   "cell_type": "markdown",
   "metadata": {},
   "source": [
    "# Import"
   ]
  },
  {
   "cell_type": "code",
   "execution_count": 1,
   "metadata": {},
   "outputs": [],
   "source": [
    "from selenium import webdriver\n",
    "from selenium.webdriver.common.keys import Keys\n",
    "from bs4 import BeautifulSoup\n",
    "import time\n",
    "import pandas as pd"
   ]
  },
  {
   "cell_type": "markdown",
   "metadata": {},
   "source": [
    "# Scraping"
   ]
  },
  {
   "cell_type": "code",
   "execution_count": 2,
   "metadata": {},
   "outputs": [],
   "source": [
    "stock_code = '001250'\n",
    "list_1 = []\n",
    "list_2 = []\n",
    "\n",
    "driver = webdriver.Chrome()\n",
    "url = 'https://kind.krx.co.kr/main.do?method=loadInitPage&scrnmode=1'\n",
    "driver.get(url)\n",
    "\n",
    "driver.find_element_by_css_selector('#AKCKwdTop').send_keys(stock_code)\n",
    "driver.find_element_by_css_selector('#AKCKwdTop').send_keys(Keys.ENTER)\n",
    "time.sleep(3)\n",
    "\n",
    "driver.find_element_by_css_selector('body > section.wrapper-contents > section > article > nav > ul > li:nth-child(3) > a').click()\n",
    "time.sleep(3)\n",
    "\n",
    "source = driver.page_source\n",
    "soup = BeautifulSoup(source, 'html.parser')\n",
    "\n",
    "dates = soup.find_all('td', class_='first')\n",
    "titles = soup.find_all(id='disc')\n",
    "\n",
    "for date in dates:\n",
    "    list_1.append(date.text)\n",
    "    \n",
    "for title in titles:\n",
    "    list_2.append(title['title'])\n",
    "    \n",
    "driver.quit()"
   ]
  },
  {
   "cell_type": "code",
   "execution_count": 3,
   "metadata": {},
   "outputs": [
    {
     "data": {
      "text/html": [
       "<div>\n",
       "<style scoped>\n",
       "    .dataframe tbody tr th:only-of-type {\n",
       "        vertical-align: middle;\n",
       "    }\n",
       "\n",
       "    .dataframe tbody tr th {\n",
       "        vertical-align: top;\n",
       "    }\n",
       "\n",
       "    .dataframe thead th {\n",
       "        text-align: right;\n",
       "    }\n",
       "</style>\n",
       "<table border=\"1\" class=\"dataframe\">\n",
       "  <thead>\n",
       "    <tr style=\"text-align: right;\">\n",
       "      <th></th>\n",
       "      <th>일자</th>\n",
       "      <th>제목</th>\n",
       "    </tr>\n",
       "  </thead>\n",
       "  <tbody>\n",
       "    <tr>\n",
       "      <th>0</th>\n",
       "      <td>2022-04-22 16:14</td>\n",
       "      <td>단기과열종목(3거래일 단일가매매) 지정</td>\n",
       "    </tr>\n",
       "    <tr>\n",
       "      <th>1</th>\n",
       "      <td>2022-04-13 16:05</td>\n",
       "      <td>[투자주의]스팸관여과다종목</td>\n",
       "    </tr>\n",
       "    <tr>\n",
       "      <th>2</th>\n",
       "      <td>2022-04-12 16:24</td>\n",
       "      <td>(예고)단기과열종목(3거래일 단일가매매) 지정예고</td>\n",
       "    </tr>\n",
       "    <tr>\n",
       "      <th>3</th>\n",
       "      <td>2022-03-30 16:30</td>\n",
       "      <td>[투자주의]스팸관여과다종목</td>\n",
       "    </tr>\n",
       "  </tbody>\n",
       "</table>\n",
       "</div>"
      ],
      "text/plain": [
       "                 일자                           제목\n",
       "0  2022-04-22 16:14        단기과열종목(3거래일 단일가매매) 지정\n",
       "1  2022-04-13 16:05               [투자주의]스팸관여과다종목\n",
       "2  2022-04-12 16:24  (예고)단기과열종목(3거래일 단일가매매) 지정예고\n",
       "3  2022-03-30 16:30               [투자주의]스팸관여과다종목"
      ]
     },
     "execution_count": 3,
     "metadata": {},
     "output_type": "execute_result"
    }
   ],
   "source": [
    "df = pd.DataFrame(list(zip(list_1, list_2)), columns=['일자', '제목'])\n",
    "df.head()"
   ]
  },
  {
   "cell_type": "markdown",
   "metadata": {},
   "source": [
    "# Date와 Time 칼럼 만들기"
   ]
  },
  {
   "cell_type": "code",
   "execution_count": 4,
   "metadata": {},
   "outputs": [
    {
     "data": {
      "text/html": [
       "<div>\n",
       "<style scoped>\n",
       "    .dataframe tbody tr th:only-of-type {\n",
       "        vertical-align: middle;\n",
       "    }\n",
       "\n",
       "    .dataframe tbody tr th {\n",
       "        vertical-align: top;\n",
       "    }\n",
       "\n",
       "    .dataframe thead th {\n",
       "        text-align: right;\n",
       "    }\n",
       "</style>\n",
       "<table border=\"1\" class=\"dataframe\">\n",
       "  <thead>\n",
       "    <tr style=\"text-align: right;\">\n",
       "      <th></th>\n",
       "      <th>일자</th>\n",
       "      <th>제목</th>\n",
       "      <th>Date</th>\n",
       "      <th>Time</th>\n",
       "    </tr>\n",
       "  </thead>\n",
       "  <tbody>\n",
       "    <tr>\n",
       "      <th>0</th>\n",
       "      <td>2022-04-22 16:14</td>\n",
       "      <td>단기과열종목(3거래일 단일가매매) 지정</td>\n",
       "      <td>2022-04-22</td>\n",
       "      <td>16:14:00</td>\n",
       "    </tr>\n",
       "    <tr>\n",
       "      <th>1</th>\n",
       "      <td>2022-04-13 16:05</td>\n",
       "      <td>[투자주의]스팸관여과다종목</td>\n",
       "      <td>2022-04-13</td>\n",
       "      <td>16:05:00</td>\n",
       "    </tr>\n",
       "    <tr>\n",
       "      <th>2</th>\n",
       "      <td>2022-04-12 16:24</td>\n",
       "      <td>(예고)단기과열종목(3거래일 단일가매매) 지정예고</td>\n",
       "      <td>2022-04-12</td>\n",
       "      <td>16:24:00</td>\n",
       "    </tr>\n",
       "    <tr>\n",
       "      <th>3</th>\n",
       "      <td>2022-03-30 16:30</td>\n",
       "      <td>[투자주의]스팸관여과다종목</td>\n",
       "      <td>2022-03-30</td>\n",
       "      <td>16:30:00</td>\n",
       "    </tr>\n",
       "  </tbody>\n",
       "</table>\n",
       "</div>"
      ],
      "text/plain": [
       "                 일자                           제목        Date      Time\n",
       "0  2022-04-22 16:14        단기과열종목(3거래일 단일가매매) 지정  2022-04-22  16:14:00\n",
       "1  2022-04-13 16:05               [투자주의]스팸관여과다종목  2022-04-13  16:05:00\n",
       "2  2022-04-12 16:24  (예고)단기과열종목(3거래일 단일가매매) 지정예고  2022-04-12  16:24:00\n",
       "3  2022-03-30 16:30               [투자주의]스팸관여과다종목  2022-03-30  16:30:00"
      ]
     },
     "execution_count": 4,
     "metadata": {},
     "output_type": "execute_result"
    }
   ],
   "source": [
    "df['Date'] = pd.to_datetime(df['일자']).apply(lambda x : x.date())\n",
    "df['Time'] = pd.to_datetime(df['일자']).apply(lambda x : x.time())\n",
    "df.head()"
   ]
  },
  {
   "cell_type": "markdown",
   "metadata": {},
   "source": [
    "# csv 파일로 저장하기\n",
    "파일명은 종목명이 아닌 종목코드로 해야 혼란이 없다.  \n",
    "종목코드는 unique한 값이기 때문이다."
   ]
  },
  {
   "cell_type": "code",
   "execution_count": 12,
   "metadata": {},
   "outputs": [
    {
     "data": {
      "text/html": [
       "<div>\n",
       "<style scoped>\n",
       "    .dataframe tbody tr th:only-of-type {\n",
       "        vertical-align: middle;\n",
       "    }\n",
       "\n",
       "    .dataframe tbody tr th {\n",
       "        vertical-align: top;\n",
       "    }\n",
       "\n",
       "    .dataframe thead th {\n",
       "        text-align: right;\n",
       "    }\n",
       "</style>\n",
       "<table border=\"1\" class=\"dataframe\">\n",
       "  <thead>\n",
       "    <tr style=\"text-align: right;\">\n",
       "      <th></th>\n",
       "      <th>Date</th>\n",
       "      <th>Time</th>\n",
       "      <th>제목</th>\n",
       "    </tr>\n",
       "  </thead>\n",
       "  <tbody>\n",
       "    <tr>\n",
       "      <th>0</th>\n",
       "      <td>2022-04-22</td>\n",
       "      <td>16:14:00</td>\n",
       "      <td>단기과열종목(3거래일 단일가매매) 지정</td>\n",
       "    </tr>\n",
       "    <tr>\n",
       "      <th>1</th>\n",
       "      <td>2022-04-13</td>\n",
       "      <td>16:05:00</td>\n",
       "      <td>[투자주의]스팸관여과다종목</td>\n",
       "    </tr>\n",
       "    <tr>\n",
       "      <th>2</th>\n",
       "      <td>2022-04-12</td>\n",
       "      <td>16:24:00</td>\n",
       "      <td>(예고)단기과열종목(3거래일 단일가매매) 지정예고</td>\n",
       "    </tr>\n",
       "    <tr>\n",
       "      <th>3</th>\n",
       "      <td>2022-03-30</td>\n",
       "      <td>16:30:00</td>\n",
       "      <td>[투자주의]스팸관여과다종목</td>\n",
       "    </tr>\n",
       "  </tbody>\n",
       "</table>\n",
       "</div>"
      ],
      "text/plain": [
       "         Date      Time                           제목\n",
       "0  2022-04-22  16:14:00        단기과열종목(3거래일 단일가매매) 지정\n",
       "1  2022-04-13  16:05:00               [투자주의]스팸관여과다종목\n",
       "2  2022-04-12  16:24:00  (예고)단기과열종목(3거래일 단일가매매) 지정예고\n",
       "3  2022-03-30  16:30:00               [투자주의]스팸관여과다종목"
      ]
     },
     "execution_count": 12,
     "metadata": {},
     "output_type": "execute_result"
    }
   ],
   "source": [
    "df = df[['Date','Time','제목']]\n",
    "df.head()"
   ]
  },
  {
   "cell_type": "code",
   "execution_count": 18,
   "metadata": {},
   "outputs": [],
   "source": [
    "file_name = str(df['Date'].loc[0]) + '_' + stock_code + '.csv'"
   ]
  },
  {
   "cell_type": "code",
   "execution_count": 19,
   "metadata": {},
   "outputs": [],
   "source": [
    "df.to_csv(file_name, index = False)"
   ]
  }
 ],
 "metadata": {
  "kernelspec": {
   "display_name": "Python 3",
   "language": "python",
   "name": "python3"
  },
  "language_info": {
   "codemirror_mode": {
    "name": "ipython",
    "version": 3
   },
   "file_extension": ".py",
   "mimetype": "text/x-python",
   "name": "python",
   "nbconvert_exporter": "python",
   "pygments_lexer": "ipython3",
   "version": "3.7.3"
  }
 },
 "nbformat": 4,
 "nbformat_minor": 2
}
