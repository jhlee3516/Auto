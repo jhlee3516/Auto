{
 "cells": [
  {
   "cell_type": "markdown",
   "metadata": {},
   "source": [
    "# 메자닌(CB, BW)\n",
    "유튜브 영상: https://youtu.be/zVzX0cm0BHU"
   ]
  },
  {
   "cell_type": "markdown",
   "metadata": {},
   "source": [
    "### OPEN DART에서 고유번호 다운로드"
   ]
  },
  {
   "cell_type": "code",
   "execution_count": 1,
   "metadata": {},
   "outputs": [],
   "source": [
    "crtfc_key = [API_KEY]"
   ]
  },
  {
   "cell_type": "code",
   "execution_count": 2,
   "metadata": {},
   "outputs": [
    {
     "data": {
      "text/plain": [
       "200"
      ]
     },
     "execution_count": 2,
     "metadata": {},
     "output_type": "execute_result"
    }
   ],
   "source": [
    "import requests\n",
    "url = 'https://opendart.fss.or.kr/api/corpCode.xml'\n",
    "res = requests.get(url, params={'crtfc_key':crtfc_key})\n",
    "res.status_code"
   ]
  },
  {
   "cell_type": "code",
   "execution_count": 3,
   "metadata": {},
   "outputs": [
    {
     "data": {
      "text/plain": [
       "['CORPCODE.xml']"
      ]
     },
     "execution_count": 3,
     "metadata": {},
     "output_type": "execute_result"
    }
   ],
   "source": [
    "from io import BytesIO\n",
    "import zipfile\n",
    "data = zipfile.ZipFile(BytesIO(res.content))\n",
    "data.namelist()"
   ]
  },
  {
   "cell_type": "code",
   "execution_count": 4,
   "metadata": {},
   "outputs": [
    {
     "data": {
      "text/plain": [
       "[{'corp_code': '00434003',\n",
       "  'corp_name': '다코',\n",
       "  'stock_code': None,\n",
       "  'modify_date': '20170630'},\n",
       " {'corp_code': '00434456',\n",
       "  'corp_name': '일산약품',\n",
       "  'stock_code': None,\n",
       "  'modify_date': '20170630'}]"
      ]
     },
     "execution_count": 4,
     "metadata": {},
     "output_type": "execute_result"
    }
   ],
   "source": [
    "import xmltodict\n",
    "import json\n",
    "\n",
    "data_xml = data.read('CORPCODE.xml').decode('utf-8')\n",
    "data_odict = xmltodict.parse(data_xml)\n",
    "data_dict = json.loads(json.dumps(data_odict))\n",
    "corps = data_dict.get('result', {}).get('list')\n",
    "corps[:2]"
   ]
  },
  {
   "cell_type": "markdown",
   "metadata": {},
   "source": [
    "### 기업의 고유번호와 종목코드 찾기"
   ]
  },
  {
   "cell_type": "code",
   "execution_count": 5,
   "metadata": {},
   "outputs": [],
   "source": [
    "company_name = 'HLB'"
   ]
  },
  {
   "cell_type": "code",
   "execution_count": 6,
   "metadata": {},
   "outputs": [
    {
     "name": "stdout",
     "output_type": "stream",
     "text": [
      "고유번호: 00199252\n",
      "종목코드: 028300\n"
     ]
    }
   ],
   "source": [
    "for i in range(len(corps)):\n",
    "    corp_code, corp_name, stock_code, modify_date = corps[i].values()\n",
    "    if corp_name == company_name:\n",
    "        code = corp_code\n",
    "        symbol = stock_code\n",
    "        print('고유번호: ' + corp_code)\n",
    "        print('종목코드: ' + stock_code)"
   ]
  },
  {
   "cell_type": "markdown",
   "metadata": {},
   "source": [
    "### CB"
   ]
  },
  {
   "cell_type": "code",
   "execution_count": 7,
   "metadata": {},
   "outputs": [],
   "source": [
    "url = 'https://opendart.fss.or.kr/api/cvbdIsDecsn.json'\n",
    "params = {'crtfc_key':crtfc_key, 'corp_code':code, 'bgn_de':'20190329', 'end_de':'20220329'} \n",
    "cb = requests.get(url, params=params)"
   ]
  },
  {
   "cell_type": "code",
   "execution_count": 8,
   "metadata": {},
   "outputs": [
    {
     "name": "stdout",
     "output_type": "stream",
     "text": [
      "20191216\n",
      "무기명식 무보증 사모 전환사채\n",
      "40,000,000,000\n",
      " \n"
     ]
    }
   ],
   "source": [
    "for c in cb.json()['list']:\n",
    "    date = c['rcept_no'][:8]\n",
    "    print(date)\n",
    "    print(c['bd_knd'])\n",
    "    print(c['bd_fta'])\n",
    "    print(' ')"
   ]
  },
  {
   "cell_type": "code",
   "execution_count": 9,
   "metadata": {},
   "outputs": [
    {
     "data": {
      "text/html": [
       "<div>\n",
       "<style scoped>\n",
       "    .dataframe tbody tr th:only-of-type {\n",
       "        vertical-align: middle;\n",
       "    }\n",
       "\n",
       "    .dataframe tbody tr th {\n",
       "        vertical-align: top;\n",
       "    }\n",
       "\n",
       "    .dataframe thead th {\n",
       "        text-align: right;\n",
       "    }\n",
       "</style>\n",
       "<table border=\"1\" class=\"dataframe\">\n",
       "  <thead>\n",
       "    <tr style=\"text-align: right;\">\n",
       "      <th></th>\n",
       "      <th>Open</th>\n",
       "      <th>High</th>\n",
       "      <th>Low</th>\n",
       "      <th>Close</th>\n",
       "      <th>Volume</th>\n",
       "      <th>Change</th>\n",
       "    </tr>\n",
       "    <tr>\n",
       "      <th>Date</th>\n",
       "      <th></th>\n",
       "      <th></th>\n",
       "      <th></th>\n",
       "      <th></th>\n",
       "      <th></th>\n",
       "      <th></th>\n",
       "    </tr>\n",
       "  </thead>\n",
       "  <tbody>\n",
       "    <tr>\n",
       "      <th>2019-12-16</th>\n",
       "      <td>43621</td>\n",
       "      <td>44376</td>\n",
       "      <td>43222</td>\n",
       "      <td>43667</td>\n",
       "      <td>502570</td>\n",
       "      <td>0.002042</td>\n",
       "    </tr>\n",
       "    <tr>\n",
       "      <th>2019-12-17</th>\n",
       "      <td>44287</td>\n",
       "      <td>45263</td>\n",
       "      <td>43755</td>\n",
       "      <td>44199</td>\n",
       "      <td>982328</td>\n",
       "      <td>0.012183</td>\n",
       "    </tr>\n",
       "    <tr>\n",
       "      <th>2019-12-18</th>\n",
       "      <td>44421</td>\n",
       "      <td>44598</td>\n",
       "      <td>43222</td>\n",
       "      <td>43933</td>\n",
       "      <td>803231</td>\n",
       "      <td>-0.006018</td>\n",
       "    </tr>\n",
       "    <tr>\n",
       "      <th>2019-12-19</th>\n",
       "      <td>44376</td>\n",
       "      <td>44775</td>\n",
       "      <td>43666</td>\n",
       "      <td>43889</td>\n",
       "      <td>735815</td>\n",
       "      <td>-0.001002</td>\n",
       "    </tr>\n",
       "    <tr>\n",
       "      <th>2019-12-20</th>\n",
       "      <td>43932</td>\n",
       "      <td>45663</td>\n",
       "      <td>43711</td>\n",
       "      <td>45353</td>\n",
       "      <td>2049835</td>\n",
       "      <td>0.033357</td>\n",
       "    </tr>\n",
       "  </tbody>\n",
       "</table>\n",
       "</div>"
      ],
      "text/plain": [
       "             Open   High    Low  Close   Volume    Change\n",
       "Date                                                     \n",
       "2019-12-16  43621  44376  43222  43667   502570  0.002042\n",
       "2019-12-17  44287  45263  43755  44199   982328  0.012183\n",
       "2019-12-18  44421  44598  43222  43933   803231 -0.006018\n",
       "2019-12-19  44376  44775  43666  43889   735815 -0.001002\n",
       "2019-12-20  43932  45663  43711  45353  2049835  0.033357"
      ]
     },
     "execution_count": 9,
     "metadata": {},
     "output_type": "execute_result"
    }
   ],
   "source": [
    "import FinanceDataReader as fdr\n",
    "frame = fdr.DataReader(symbol=symbol, start=date, end='20201216')\n",
    "frame.head()"
   ]
  },
  {
   "cell_type": "code",
   "execution_count": 10,
   "metadata": {},
   "outputs": [],
   "source": [
    "import matplotlib\n",
    "matplotlib.rcParams['font.family'] = 'Malgun Gothic'\n",
    "matplotlib.rcParams['axes.unicode_minus'] = False"
   ]
  },
  {
   "cell_type": "code",
   "execution_count": 11,
   "metadata": {},
   "outputs": [
    {
     "data": {
      "image/png": "[encoded data removed]",
      "text/plain": [
       "<Figure size 432x288 with 1 Axes>"
      ]
     },
     "metadata": {
      "needs_background": "light"
     },
     "output_type": "display_data"
    }
   ],
   "source": [
    "import matplotlib.pyplot as plt\n",
    "%matplotlib inline\n",
    "plt.plot(frame['Close'])\n",
    "plt.axhline(y=frame['Close'][0], color='r', linewidth=3)\n",
    "plt.title('1년 후 주가', fontsize=20)\n",
    "plt.show()"
   ]
  },
  {
   "cell_type": "code",
   "execution_count": 15,
   "metadata": {},
   "outputs": [],
   "source": [
    "point = frame['Close'][0]\n",
    "low_point = min(frame['Close'])"
   ]
  },
  {
   "cell_type": "code",
   "execution_count": 18,
   "metadata": {},
   "outputs": [
    {
     "data": {
      "text/plain": [
       "-17.89"
      ]
     },
     "execution_count": 18,
     "metadata": {},
     "output_type": "execute_result"
    }
   ],
   "source": [
    "round(((low_point- point) / point) * 100,2)"
   ]
  },
  {
   "cell_type": "markdown",
   "metadata": {},
   "source": [
    "### BW"
   ]
  },
  {
   "cell_type": "code",
   "execution_count": 23,
   "metadata": {},
   "outputs": [],
   "source": [
    "url = 'https://opendart.fss.or.kr/api/bdwtIsDecsn.json'\n",
    "params = {'crtfc_key':crtfc_key, 'corp_code':code, 'bgn_de':'20190329', 'end_de':'20220329'} \n",
    "bw = requests.get(url, params=params)"
   ]
  },
  {
   "cell_type": "code",
   "execution_count": 24,
   "metadata": {},
   "outputs": [
    {
     "name": "stdout",
     "output_type": "stream",
     "text": [
      "20211021\n",
      "무기명식 무보증 사모\n",
      "비분리형 신주인수권부사채\n",
      "57,000,000,000\n",
      " \n",
      "20220329\n",
      "무기명식 무보증 사모\n",
      "비분리형 신주인수권부사채\n",
      "25,200,000,000\n",
      " \n"
     ]
    }
   ],
   "source": [
    "for b in bw.json()['list']:\n",
    "    print(b['rcept_no'][:8])\n",
    "    print(b['bd_knd'])\n",
    "    print(b['bd_fta'])\n",
    "    print(' ')"
   ]
  },
  {
   "cell_type": "code",
   "execution_count": 25,
   "metadata": {},
   "outputs": [],
   "source": [
    "import FinanceDataReader as fdr\n",
    "frame = fdr.DataReader(symbol=symbol, start='20211021')"
   ]
  },
  {
   "cell_type": "code",
   "execution_count": 26,
   "metadata": {},
   "outputs": [
    {
     "data": {
      "image/png": "[encoded data removed]",
      "text/plain": [
       "<Figure size 432x288 with 1 Axes>"
      ]
     },
     "metadata": {
      "needs_background": "light"
     },
     "output_type": "display_data"
    }
   ],
   "source": [
    "import matplotlib.pyplot as plt\n",
    "%matplotlib inline\n",
    "plt.plot(frame['Close'])\n",
    "plt.axhline(y=frame['Close'][0], color='r', linewidth=3)\n",
    "plt.title('현재까지 주가', fontsize=20)\n",
    "plt.show()"
   ]
  },
  {
   "cell_type": "code",
   "execution_count": 27,
   "metadata": {},
   "outputs": [],
   "source": [
    "point = frame['Close'][0]\n",
    "low_point = min(frame['Close'])"
   ]
  },
  {
   "cell_type": "code",
   "execution_count": 28,
   "metadata": {},
   "outputs": [
    {
     "data": {
      "text/plain": [
       "-40.81"
      ]
     },
     "execution_count": 28,
     "metadata": {},
     "output_type": "execute_result"
    }
   ],
   "source": [
    "round(((low_point- point) / point) * 100,2)"
   ]
  }
 ],
 "metadata": {
  "kernelspec": {
   "display_name": "Python 3",
   "language": "python",
   "name": "python3"
  },
  "language_info": {
   "codemirror_mode": {
    "name": "ipython",
    "version": 3
   },
   "file_extension": ".py",
   "mimetype": "text/x-python",
   "name": "python",
   "nbconvert_exporter": "python",
   "pygments_lexer": "ipython3",
   "version": "3.7.3"
  }
 },
 "nbformat": 4,
 "nbformat_minor": 2
}
