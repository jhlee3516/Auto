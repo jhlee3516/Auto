{
 "cells": [
  {
   "cell_type": "markdown",
   "metadata": {},
   "source": [
    "# 주주총회\n",
    "유튜브 영상: https://youtu.be/w1AvgWCX5GY  "
   ]
  },
  {
   "cell_type": "markdown",
   "metadata": {},
   "source": [
    "# INPUT"
   ]
  },
  {
   "cell_type": "code",
   "execution_count": 59,
   "metadata": {},
   "outputs": [],
   "source": [
    "def firm():\n",
    "    import pandas as pd\n",
    "    df = pd.read_html('http://kind.krx.co.kr/corpgeneral/corpList.do?method=download')[0]\n",
    "    \n",
    "    firm_name = input('회사명을 입력해주세요.').upper()\n",
    "\n",
    "    firm_code = df[df['회사명']==firm_name.upper()]['종목코드'].iloc[0]\n",
    "    firm_code = str(firm_code)\n",
    "    \n",
    "    num = 6-len(str(firm_code))\n",
    "    for i in range(num):\n",
    "        firm_code = str(0) + str(firm_code)\n",
    "    \n",
    "    firm_code = str(firm_code)\n",
    "    \n",
    "    print(firm_name, firm_code)\n",
    "    \n",
    "    return firm_name, firm_code"
   ]
  },
  {
   "cell_type": "code",
   "execution_count": 60,
   "metadata": {
    "scrolled": true
   },
   "outputs": [
    {
     "name": "stdout",
     "output_type": "stream",
     "text": [
      "회사명을 입력해주세요.메지온\n",
      "메지온 140410\n"
     ]
    }
   ],
   "source": [
    "firm_name, firm_code = firm()"
   ]
  },
  {
   "cell_type": "markdown",
   "metadata": {},
   "source": [
    "# 해당 날짜 주가 찾기"
   ]
  },
  {
   "cell_type": "markdown",
   "metadata": {},
   "source": [
    "# HLB "
   ]
  },
  {
   "cell_type": "code",
   "execution_count": 37,
   "metadata": {},
   "outputs": [],
   "source": [
    "hlb = '028300'\n",
    "dates = ['2017-03-24','2018-03-28','2019-03-27','2020-03-30','2021-03-30']\n",
    "results = []"
   ]
  },
  {
   "cell_type": "code",
   "execution_count": 39,
   "metadata": {},
   "outputs": [],
   "source": [
    "import FinanceDataReader as fdr\n",
    "df = fdr.DataReader(symbol=hlb, start=dates[0])"
   ]
  },
  {
   "cell_type": "code",
   "execution_count": 40,
   "metadata": {},
   "outputs": [],
   "source": [
    "for date in dates:\n",
    "    results.append(round(df.loc[date]['Change'] * 100, 2))"
   ]
  },
  {
   "cell_type": "code",
   "execution_count": 58,
   "metadata": {},
   "outputs": [
    {
     "data": {
      "text/plain": [
       "[0.69, 9.04, -2.04, 1.05, -0.5]"
      ]
     },
     "execution_count": 58,
     "metadata": {},
     "output_type": "execute_result"
    }
   ],
   "source": [
    "results"
   ]
  },
  {
   "cell_type": "code",
   "execution_count": 56,
   "metadata": {},
   "outputs": [
    {
     "data": {
      "image/png": "[encoded data removed]",
      "text/plain": [
       "<Figure size 432x288 with 1 Axes>"
      ]
     },
     "metadata": {
      "needs_background": "light"
     },
     "output_type": "display_data"
    }
   ],
   "source": [
    "import matplotlib.pyplot as plt\n",
    "%matplotlib inline\n",
    "\n",
    "plt.bar(dates, results)\n",
    "plt.xticks(rotation=45)\n",
    "\n",
    "dict = {y:x for x,y in zip(dates,results)}\n",
    "plt.text(dict[max(results)], max(results), str(max(results))+'%',\n",
    "        color='r', horizontalalignment='center', verticalalignment='bottom', fontsize=10)\n",
    "\n",
    "dict = {y:x for x,y in zip(dates, results)}\n",
    "plt.text(dict[min(results)], min(results), str(min(results))+'%',\n",
    "        color='r', horizontalalignment='center', verticalalignment='top', fontsize=10)\n",
    "\n",
    "plt.show()"
   ]
  },
  {
   "cell_type": "markdown",
   "metadata": {},
   "source": [
    "# 메지온"
   ]
  },
  {
   "cell_type": "code",
   "execution_count": 61,
   "metadata": {},
   "outputs": [],
   "source": [
    "mezzion = '140410'\n",
    "dates = ['2017-03-24','2018-03-23','2019-03-29','2020-03-27','2021-03-31']\n",
    "results = []"
   ]
  },
  {
   "cell_type": "code",
   "execution_count": 62,
   "metadata": {},
   "outputs": [],
   "source": [
    "import FinanceDataReader as fdr\n",
    "df = fdr.DataReader(symbol=mezzion, start=dates[0])"
   ]
  },
  {
   "cell_type": "code",
   "execution_count": 63,
   "metadata": {},
   "outputs": [],
   "source": [
    "for date in dates:\n",
    "    results.append(round(df.loc[date]['Change'] * 100, 2))"
   ]
  },
  {
   "cell_type": "code",
   "execution_count": 64,
   "metadata": {},
   "outputs": [
    {
     "data": {
      "text/plain": [
       "[-0.79, -4.67, 1.54, 15.41, -4.78]"
      ]
     },
     "execution_count": 64,
     "metadata": {},
     "output_type": "execute_result"
    }
   ],
   "source": [
    "results"
   ]
  },
  {
   "cell_type": "code",
   "execution_count": 65,
   "metadata": {},
   "outputs": [
    {
     "data": {
      "image/png": "[encoded data removed]",
      "text/plain": [
       "<Figure size 432x288 with 1 Axes>"
      ]
     },
     "metadata": {
      "needs_background": "light"
     },
     "output_type": "display_data"
    }
   ],
   "source": [
    "import matplotlib.pyplot as plt\n",
    "%matplotlib inline\n",
    "\n",
    "plt.bar(dates, results)\n",
    "plt.xticks(rotation=45)\n",
    "\n",
    "dict = {y:x for x,y in zip(dates,results)}\n",
    "plt.text(dict[max(results)], max(results), str(max(results))+'%',\n",
    "        color='r', horizontalalignment='center', verticalalignment='bottom', fontsize=10)\n",
    "\n",
    "dict = {y:x for x,y in zip(dates, results)}\n",
    "plt.text(dict[min(results)], min(results), str(min(results))+'%',\n",
    "        color='r', horizontalalignment='center', verticalalignment='top', fontsize=10)\n",
    "\n",
    "plt.show()"
   ]
  }
 ],
 "metadata": {
  "kernelspec": {
   "display_name": "Python 3",
   "language": "python",
   "name": "python3"
  },
  "language_info": {
   "codemirror_mode": {
    "name": "ipython",
    "version": 3
   },
   "file_extension": ".py",
   "mimetype": "text/x-python",
   "name": "python",
   "nbconvert_exporter": "python",
   "pygments_lexer": "ipython3",
   "version": "3.7.3"
  }
 },
 "nbformat": 4,
 "nbformat_minor": 2
}
