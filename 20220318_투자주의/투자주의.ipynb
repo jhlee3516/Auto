{
 "cells": [
  {
   "cell_type": "markdown",
   "metadata": {},
   "source": [
    "# 투자주의\n",
    "유튜브영상: https://youtu.be/eB-YffKMvKI  \n",
    "KIND 주소 : https://kind.krx.co.kr/disclosure/details.do?method=searchDetailsMain"
   ]
  },
  {
   "cell_type": "code",
   "execution_count": 100,
   "metadata": {},
   "outputs": [],
   "source": [
    "import pandas as pd\n",
    "df = pd.read_csv('투자주의.csv')"
   ]
  },
  {
   "cell_type": "code",
   "execution_count": 101,
   "metadata": {
    "scrolled": false
   },
   "outputs": [
    {
     "data": {
      "text/html": [
       "<div>\n",
       "<style scoped>\n",
       "    .dataframe tbody tr th:only-of-type {\n",
       "        vertical-align: middle;\n",
       "    }\n",
       "\n",
       "    .dataframe tbody tr th {\n",
       "        vertical-align: top;\n",
       "    }\n",
       "\n",
       "    .dataframe thead th {\n",
       "        text-align: right;\n",
       "    }\n",
       "</style>\n",
       "<table border=\"1\" class=\"dataframe\">\n",
       "  <thead>\n",
       "    <tr style=\"text-align: right;\">\n",
       "      <th></th>\n",
       "      <th>번호</th>\n",
       "      <th>시간</th>\n",
       "      <th>회사명</th>\n",
       "      <th>종목코드</th>\n",
       "      <th>공시제목</th>\n",
       "      <th>제출인</th>\n",
       "    </tr>\n",
       "  </thead>\n",
       "  <tbody>\n",
       "    <tr>\n",
       "      <th>0</th>\n",
       "      <td>99</td>\n",
       "      <td>2022-03-16 16:44</td>\n",
       "      <td>까뮤이앤씨</td>\n",
       "      <td>13700</td>\n",
       "      <td>[투자주의]투자경고종목 지정예고</td>\n",
       "      <td>시장감시위원회</td>\n",
       "    </tr>\n",
       "    <tr>\n",
       "      <th>1</th>\n",
       "      <td>98</td>\n",
       "      <td>2022-03-16 16:44</td>\n",
       "      <td>일동제약</td>\n",
       "      <td>249420</td>\n",
       "      <td>[투자주의]투자경고종목 지정해제 및 재지정 예고</td>\n",
       "      <td>시장감시위원회</td>\n",
       "    </tr>\n",
       "    <tr>\n",
       "      <th>2</th>\n",
       "      <td>97</td>\n",
       "      <td>2022-03-16 16:44</td>\n",
       "      <td>삼부토건</td>\n",
       "      <td>1470</td>\n",
       "      <td>[투자주의]스팸관여과다종목</td>\n",
       "      <td>시장감시위원회</td>\n",
       "    </tr>\n",
       "    <tr>\n",
       "      <th>3</th>\n",
       "      <td>96</td>\n",
       "      <td>2022-03-16 16:15</td>\n",
       "      <td>신원종합개발</td>\n",
       "      <td>17000</td>\n",
       "      <td>[투자주의]투자경고종목 지정예고</td>\n",
       "      <td>시장감시위원회</td>\n",
       "    </tr>\n",
       "    <tr>\n",
       "      <th>4</th>\n",
       "      <td>95</td>\n",
       "      <td>2022-03-16 16:15</td>\n",
       "      <td>서울리거</td>\n",
       "      <td>43710</td>\n",
       "      <td>[투자주의]투자경고종목 지정예고</td>\n",
       "      <td>시장감시위원회</td>\n",
       "    </tr>\n",
       "  </tbody>\n",
       "</table>\n",
       "</div>"
      ],
      "text/plain": [
       "   번호                시간     회사명    종목코드                        공시제목      제출인\n",
       "0  99  2022-03-16 16:44   까뮤이앤씨   13700           [투자주의]투자경고종목 지정예고  시장감시위원회\n",
       "1  98  2022-03-16 16:44    일동제약  249420  [투자주의]투자경고종목 지정해제 및 재지정 예고  시장감시위원회\n",
       "2  97  2022-03-16 16:44    삼부토건    1470              [투자주의]스팸관여과다종목  시장감시위원회\n",
       "3  96  2022-03-16 16:15  신원종합개발   17000           [투자주의]투자경고종목 지정예고  시장감시위원회\n",
       "4  95  2022-03-16 16:15    서울리거   43710           [투자주의]투자경고종목 지정예고  시장감시위원회"
      ]
     },
     "execution_count": 101,
     "metadata": {},
     "output_type": "execute_result"
    }
   ],
   "source": [
    "df.head()"
   ]
  },
  {
   "cell_type": "code",
   "execution_count": 102,
   "metadata": {},
   "outputs": [
    {
     "data": {
      "text/plain": [
       "[투자주의]스팸관여과다종목                24\n",
       "[투자주의]단일계좌 거래량 상위종목           20\n",
       "[투자주의]투자경고종목 지정예고             17\n",
       "[투자주의]소수계좌 거래집중 종목            16\n",
       "[투자주의]투자경고종목 지정해제 및 재지정 예고     6\n",
       "[투자주의]특정계좌(군) 매매관여 과다종목        6\n",
       "[투자주의]상한가잔량 상위종목               3\n",
       "[투자주의]종가급변종목                   2\n",
       "Name: 공시제목, dtype: int64"
      ]
     },
     "execution_count": 102,
     "metadata": {},
     "output_type": "execute_result"
    }
   ],
   "source": [
    "df['공시제목'].value_counts()[:8]"
   ]
  },
  {
   "cell_type": "code",
   "execution_count": 103,
   "metadata": {},
   "outputs": [
    {
     "data": {
      "text/html": [
       "<div>\n",
       "<style scoped>\n",
       "    .dataframe tbody tr th:only-of-type {\n",
       "        vertical-align: middle;\n",
       "    }\n",
       "\n",
       "    .dataframe tbody tr th {\n",
       "        vertical-align: top;\n",
       "    }\n",
       "\n",
       "    .dataframe thead th {\n",
       "        text-align: right;\n",
       "    }\n",
       "</style>\n",
       "<table border=\"1\" class=\"dataframe\">\n",
       "  <thead>\n",
       "    <tr style=\"text-align: right;\">\n",
       "      <th></th>\n",
       "      <th>번호</th>\n",
       "      <th>시간</th>\n",
       "      <th>회사명</th>\n",
       "      <th>종목코드</th>\n",
       "      <th>공시제목</th>\n",
       "      <th>제출인</th>\n",
       "    </tr>\n",
       "  </thead>\n",
       "  <tbody>\n",
       "    <tr>\n",
       "      <th>15</th>\n",
       "      <td>84</td>\n",
       "      <td>2022-03-15 16:35</td>\n",
       "      <td>스튜디오산타클로스</td>\n",
       "      <td>204630</td>\n",
       "      <td>[투자주의]특정계좌(군) 매매관여 과다종목</td>\n",
       "      <td>시장감시위원회</td>\n",
       "    </tr>\n",
       "    <tr>\n",
       "      <th>31</th>\n",
       "      <td>68</td>\n",
       "      <td>2022-03-11 16:09</td>\n",
       "      <td>헬릭스미스</td>\n",
       "      <td>84990</td>\n",
       "      <td>[투자주의]특정계좌(군) 매매관여 과다종목</td>\n",
       "      <td>시장감시위원회</td>\n",
       "    </tr>\n",
       "    <tr>\n",
       "      <th>55</th>\n",
       "      <td>44</td>\n",
       "      <td>2022-03-02 16:08</td>\n",
       "      <td>하이트론씨스템즈</td>\n",
       "      <td>19490</td>\n",
       "      <td>[투자주의]특정계좌(군) 매매관여 과다종목</td>\n",
       "      <td>시장감시위원회</td>\n",
       "    </tr>\n",
       "    <tr>\n",
       "      <th>64</th>\n",
       "      <td>35</td>\n",
       "      <td>2022-02-25 16:03</td>\n",
       "      <td>HLB테라퓨틱스</td>\n",
       "      <td>115450</td>\n",
       "      <td>[투자주의]특정계좌(군) 매매관여 과다종목</td>\n",
       "      <td>시장감시위원회</td>\n",
       "    </tr>\n",
       "    <tr>\n",
       "      <th>74</th>\n",
       "      <td>25</td>\n",
       "      <td>2022-02-23 16:06</td>\n",
       "      <td>비에이치아이</td>\n",
       "      <td>83650</td>\n",
       "      <td>[투자주의]특정계좌(군) 매매관여 과다종목</td>\n",
       "      <td>시장감시위원회</td>\n",
       "    </tr>\n",
       "    <tr>\n",
       "      <th>89</th>\n",
       "      <td>10</td>\n",
       "      <td>2022-02-18 17:06</td>\n",
       "      <td>아즈텍WB</td>\n",
       "      <td>32080</td>\n",
       "      <td>[투자주의]특정계좌(군) 매매관여 과다종목</td>\n",
       "      <td>시장감시위원회</td>\n",
       "    </tr>\n",
       "  </tbody>\n",
       "</table>\n",
       "</div>"
      ],
      "text/plain": [
       "    번호                시간        회사명    종목코드                     공시제목      제출인\n",
       "15  84  2022-03-15 16:35  스튜디오산타클로스  204630  [투자주의]특정계좌(군) 매매관여 과다종목  시장감시위원회\n",
       "31  68  2022-03-11 16:09      헬릭스미스   84990  [투자주의]특정계좌(군) 매매관여 과다종목  시장감시위원회\n",
       "55  44  2022-03-02 16:08   하이트론씨스템즈   19490  [투자주의]특정계좌(군) 매매관여 과다종목  시장감시위원회\n",
       "64  35  2022-02-25 16:03   HLB테라퓨틱스  115450  [투자주의]특정계좌(군) 매매관여 과다종목  시장감시위원회\n",
       "74  25  2022-02-23 16:06     비에이치아이   83650  [투자주의]특정계좌(군) 매매관여 과다종목  시장감시위원회\n",
       "89  10  2022-02-18 17:06      아즈텍WB   32080  [투자주의]특정계좌(군) 매매관여 과다종목  시장감시위원회"
      ]
     },
     "execution_count": 103,
     "metadata": {},
     "output_type": "execute_result"
    }
   ],
   "source": [
    "df.loc[df['공시제목'] == '[투자주의]특정계좌(군) 매매관여 과다종목']"
   ]
  },
  {
   "cell_type": "code",
   "execution_count": 104,
   "metadata": {
    "scrolled": true
   },
   "outputs": [
    {
     "data": {
      "text/plain": [
       "[['2022-03-15', 204630, '스튜디오산타클로스'],\n",
       " ['2022-03-11', 84990, '헬릭스미스'],\n",
       " ['2022-03-02', 19490, '하이트론씨스템즈'],\n",
       " ['2022-02-25', 115450, 'HLB테라퓨틱스'],\n",
       " ['2022-02-23', 83650, '비에이치아이'],\n",
       " ['2022-02-18', 32080, '아즈텍WB']]"
      ]
     },
     "execution_count": 104,
     "metadata": {},
     "output_type": "execute_result"
    }
   ],
   "source": [
    "df = df.loc[df['공시제목'] == '[투자주의]특정계좌(군) 매매관여 과다종목']\n",
    "data = []\n",
    "for i in range(len(df)):\n",
    "    data.append([df['시간'].iloc[i].split(' ')[0], df['종목코드'].iloc[i], df['회사명'].iloc[i]])\n",
    "data"
   ]
  },
  {
   "cell_type": "code",
   "execution_count": 105,
   "metadata": {
    "scrolled": true
   },
   "outputs": [
    {
     "data": {
      "text/plain": [
       "[['2022-03-15', '204630', '스튜디오산타클로스'],\n",
       " ['2022-03-11', '084990', '헬릭스미스'],\n",
       " ['2022-03-02', '019490', '하이트론씨스템즈'],\n",
       " ['2022-02-25', '115450', 'HLB테라퓨틱스'],\n",
       " ['2022-02-23', '083650', '비에이치아이'],\n",
       " ['2022-02-18', '032080', '아즈텍WB']]"
      ]
     },
     "execution_count": 105,
     "metadata": {},
     "output_type": "execute_result"
    }
   ],
   "source": [
    "for j in range(len(data)):\n",
    "    num = 6-len(str(data[j][1]))\n",
    "    for k in range(num):\n",
    "        data[j][1] = str(0) + str(data[j][1])\n",
    "    data[j][1] = str(data[j][1])\n",
    "data"
   ]
  },
  {
   "cell_type": "code",
   "execution_count": 106,
   "metadata": {},
   "outputs": [
    {
     "data": {
      "text/plain": [
       "[['2022-03-15', '204630', '스튜디오산타클로스', 3.2, -1.3299999999999998],\n",
       " ['2022-03-11', '084990', '헬릭스미스', 0.0, 1.69],\n",
       " ['2022-03-02', '019490', '하이트론씨스템즈', 0.0, -0.75],\n",
       " ['2022-02-25', '115450', 'HLB테라퓨틱스', 0.0, -1.68],\n",
       " ['2022-02-23', '083650', '비에이치아이', -6.47, 5.71],\n",
       " ['2022-02-18', '032080', '아즈텍WB', 0.0, -3.4099999999999997]]"
      ]
     },
     "execution_count": 106,
     "metadata": {},
     "output_type": "execute_result"
    }
   ],
   "source": [
    "import FinanceDataReader as fdr\n",
    "for n in range(len(data)):\n",
    "    frame = fdr.DataReader(symbol=data[n][1], start=data[n][0])\n",
    "    data[n].append(frame['Change'][1].round(4)*100)\n",
    "    data[n].append(frame['Change'][2].round(4)*100)\n",
    "data"
   ]
  },
  {
   "cell_type": "code",
   "execution_count": 107,
   "metadata": {},
   "outputs": [
    {
     "data": {
      "text/html": [
       "<div>\n",
       "<style scoped>\n",
       "    .dataframe tbody tr th:only-of-type {\n",
       "        vertical-align: middle;\n",
       "    }\n",
       "\n",
       "    .dataframe tbody tr th {\n",
       "        vertical-align: top;\n",
       "    }\n",
       "\n",
       "    .dataframe thead th {\n",
       "        text-align: right;\n",
       "    }\n",
       "</style>\n",
       "<table border=\"1\" class=\"dataframe\">\n",
       "  <thead>\n",
       "    <tr style=\"text-align: right;\">\n",
       "      <th></th>\n",
       "      <th>시간</th>\n",
       "      <th>종목코드</th>\n",
       "      <th>회사명</th>\n",
       "      <th>다음날</th>\n",
       "      <th>다다음날</th>\n",
       "    </tr>\n",
       "  </thead>\n",
       "  <tbody>\n",
       "    <tr>\n",
       "      <th>0</th>\n",
       "      <td>2022-03-15</td>\n",
       "      <td>204630</td>\n",
       "      <td>스튜디오산타클로스</td>\n",
       "      <td>3.20</td>\n",
       "      <td>-1.33</td>\n",
       "    </tr>\n",
       "    <tr>\n",
       "      <th>1</th>\n",
       "      <td>2022-03-11</td>\n",
       "      <td>084990</td>\n",
       "      <td>헬릭스미스</td>\n",
       "      <td>0.00</td>\n",
       "      <td>1.69</td>\n",
       "    </tr>\n",
       "    <tr>\n",
       "      <th>2</th>\n",
       "      <td>2022-03-02</td>\n",
       "      <td>019490</td>\n",
       "      <td>하이트론씨스템즈</td>\n",
       "      <td>0.00</td>\n",
       "      <td>-0.75</td>\n",
       "    </tr>\n",
       "    <tr>\n",
       "      <th>3</th>\n",
       "      <td>2022-02-25</td>\n",
       "      <td>115450</td>\n",
       "      <td>HLB테라퓨틱스</td>\n",
       "      <td>0.00</td>\n",
       "      <td>-1.68</td>\n",
       "    </tr>\n",
       "    <tr>\n",
       "      <th>4</th>\n",
       "      <td>2022-02-23</td>\n",
       "      <td>083650</td>\n",
       "      <td>비에이치아이</td>\n",
       "      <td>-6.47</td>\n",
       "      <td>5.71</td>\n",
       "    </tr>\n",
       "    <tr>\n",
       "      <th>5</th>\n",
       "      <td>2022-02-18</td>\n",
       "      <td>032080</td>\n",
       "      <td>아즈텍WB</td>\n",
       "      <td>0.00</td>\n",
       "      <td>-3.41</td>\n",
       "    </tr>\n",
       "  </tbody>\n",
       "</table>\n",
       "</div>"
      ],
      "text/plain": [
       "           시간    종목코드        회사명   다음날  다다음날\n",
       "0  2022-03-15  204630  스튜디오산타클로스  3.20 -1.33\n",
       "1  2022-03-11  084990      헬릭스미스  0.00  1.69\n",
       "2  2022-03-02  019490   하이트론씨스템즈  0.00 -0.75\n",
       "3  2022-02-25  115450   HLB테라퓨틱스  0.00 -1.68\n",
       "4  2022-02-23  083650     비에이치아이 -6.47  5.71\n",
       "5  2022-02-18  032080      아즈텍WB  0.00 -3.41"
      ]
     },
     "execution_count": 107,
     "metadata": {},
     "output_type": "execute_result"
    }
   ],
   "source": [
    "df = pd.DataFrame(columns=['시간','종목코드','회사명','다음날','다다음날'], data=data)\n",
    "df"
   ]
  }
 ],
 "metadata": {
  "kernelspec": {
   "display_name": "Python 3",
   "language": "python",
   "name": "python3"
  },
  "language_info": {
   "codemirror_mode": {
    "name": "ipython",
    "version": 3
   },
   "file_extension": ".py",
   "mimetype": "text/x-python",
   "name": "python",
   "nbconvert_exporter": "python",
   "pygments_lexer": "ipython3",
   "version": "3.7.3"
  }
 },
 "nbformat": 4,
 "nbformat_minor": 2
}
