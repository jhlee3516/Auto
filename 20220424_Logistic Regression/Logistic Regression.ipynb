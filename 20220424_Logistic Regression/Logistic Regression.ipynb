{
 "cells": [
  {
   "cell_type": "markdown",
   "metadata": {},
   "source": [
    "# Introduction\n",
    "feature: 뉴스기사, 최대거래대금, 매수등락률   \n",
    "label: 수익률(1,0)  \n",
    "책: 파이썬 라이브러리를 활용한 머신러닝, p90-91  \n",
    "유튜브1: https://youtu.be/EWbTscn1TjU  \n",
    "유튜브2: https://youtu.be/qnNkRvf4PDc  \n",
    "유튜브3: https://youtu.be/bu8_hpTGrTU"
   ]
  },
  {
   "cell_type": "markdown",
   "metadata": {},
   "source": [
    "# Import"
   ]
  },
  {
   "cell_type": "code",
   "execution_count": 1523,
   "metadata": {},
   "outputs": [],
   "source": [
    "import pandas as pd\n",
    "import numpy as np\n",
    "import datetime\n",
    "\n",
    "from matplotlib import pyplot as plt\n",
    "import seaborn as sns\n",
    "%matplotlib inline\n",
    "\n",
    "from sklearn.model_selection import train_test_split\n",
    "from sklearn.linear_model import LogisticRegression\n",
    "from sklearn.preprocessing import MinMaxScaler"
   ]
  },
  {
   "cell_type": "markdown",
   "metadata": {},
   "source": [
    "# Load"
   ]
  },
  {
   "cell_type": "code",
   "execution_count": 1524,
   "metadata": {
    "scrolled": false
   },
   "outputs": [
    {
     "data": {
      "text/html": [
       "<div>\n",
       "<style scoped>\n",
       "    .dataframe tbody tr th:only-of-type {\n",
       "        vertical-align: middle;\n",
       "    }\n",
       "\n",
       "    .dataframe tbody tr th {\n",
       "        vertical-align: top;\n",
       "    }\n",
       "\n",
       "    .dataframe thead th {\n",
       "        text-align: right;\n",
       "    }\n",
       "</style>\n",
       "<table border=\"1\" class=\"dataframe\">\n",
       "  <thead>\n",
       "    <tr style=\"text-align: right;\">\n",
       "      <th></th>\n",
       "      <th>주문일자</th>\n",
       "      <th>종목명</th>\n",
       "      <th>매수가격</th>\n",
       "      <th>매수시간</th>\n",
       "      <th>매도시간</th>\n",
       "      <th>수익률</th>\n",
       "      <th>종목코드</th>\n",
       "      <th>뉴스기사</th>\n",
       "      <th>최대거래대금 시간</th>\n",
       "      <th>최대거래대금</th>\n",
       "      <th>매수등락률</th>\n",
       "      <th>단기과열</th>\n",
       "    </tr>\n",
       "  </thead>\n",
       "  <tbody>\n",
       "    <tr>\n",
       "      <th>0</th>\n",
       "      <td>2022-03-29</td>\n",
       "      <td>고려시멘트</td>\n",
       "      <td>5230</td>\n",
       "      <td>09:09:07</td>\n",
       "      <td>09:21:27</td>\n",
       "      <td>2.87</td>\n",
       "      <td>198440</td>\n",
       "      <td>1</td>\n",
       "      <td>09:06:00</td>\n",
       "      <td>113</td>\n",
       "      <td>16.22</td>\n",
       "      <td>True</td>\n",
       "    </tr>\n",
       "    <tr>\n",
       "      <th>1</th>\n",
       "      <td>2022-03-29</td>\n",
       "      <td>고려시멘트</td>\n",
       "      <td>5410</td>\n",
       "      <td>09:28:09</td>\n",
       "      <td>09:32:19</td>\n",
       "      <td>1.85</td>\n",
       "      <td>198440</td>\n",
       "      <td>1</td>\n",
       "      <td>09:06:00</td>\n",
       "      <td>113</td>\n",
       "      <td>20.22</td>\n",
       "      <td>True</td>\n",
       "    </tr>\n",
       "    <tr>\n",
       "      <th>2</th>\n",
       "      <td>2022-03-29</td>\n",
       "      <td>고려시멘트</td>\n",
       "      <td>5440</td>\n",
       "      <td>10:38:18</td>\n",
       "      <td>10:51:17</td>\n",
       "      <td>0.15</td>\n",
       "      <td>198440</td>\n",
       "      <td>1</td>\n",
       "      <td>09:06:00</td>\n",
       "      <td>113</td>\n",
       "      <td>20.89</td>\n",
       "      <td>True</td>\n",
       "    </tr>\n",
       "    <tr>\n",
       "      <th>3</th>\n",
       "      <td>2022-03-29</td>\n",
       "      <td>영진약품</td>\n",
       "      <td>5490</td>\n",
       "      <td>09:51:11</td>\n",
       "      <td>09:55:24</td>\n",
       "      <td>0.66</td>\n",
       "      <td>3520</td>\n",
       "      <td>1</td>\n",
       "      <td>09:50:00</td>\n",
       "      <td>62</td>\n",
       "      <td>6.60</td>\n",
       "      <td>False</td>\n",
       "    </tr>\n",
       "    <tr>\n",
       "      <th>4</th>\n",
       "      <td>2022-03-29</td>\n",
       "      <td>버킷스튜디오</td>\n",
       "      <td>5060</td>\n",
       "      <td>09:58:16</td>\n",
       "      <td>09:59:56</td>\n",
       "      <td>-0.59</td>\n",
       "      <td>66410</td>\n",
       "      <td>1</td>\n",
       "      <td>09:22:00</td>\n",
       "      <td>72</td>\n",
       "      <td>11.58</td>\n",
       "      <td>False</td>\n",
       "    </tr>\n",
       "  </tbody>\n",
       "</table>\n",
       "</div>"
      ],
      "text/plain": [
       "         주문일자     종목명  매수가격      매수시간      매도시간   수익률    종목코드  뉴스기사 최대거래대금 시간  \\\n",
       "0  2022-03-29   고려시멘트  5230  09:09:07  09:21:27  2.87  198440     1  09:06:00   \n",
       "1  2022-03-29   고려시멘트  5410  09:28:09  09:32:19  1.85  198440     1  09:06:00   \n",
       "2  2022-03-29   고려시멘트  5440  10:38:18  10:51:17  0.15  198440     1  09:06:00   \n",
       "3  2022-03-29    영진약품  5490  09:51:11  09:55:24  0.66    3520     1  09:50:00   \n",
       "4  2022-03-29  버킷스튜디오  5060  09:58:16  09:59:56 -0.59   66410     1  09:22:00   \n",
       "\n",
       "   최대거래대금  매수등락률   단기과열  \n",
       "0     113  16.22   True  \n",
       "1     113  20.22   True  \n",
       "2     113  20.89   True  \n",
       "3      62   6.60  False  \n",
       "4      72  11.58  False  "
      ]
     },
     "execution_count": 1524,
     "metadata": {},
     "output_type": "execute_result"
    }
   ],
   "source": [
    "df = pd.read_csv('data.csv')\n",
    "df.head()"
   ]
  },
  {
   "cell_type": "markdown",
   "metadata": {},
   "source": [
    "# Preprocessing\n",
    "① 수익률 → 1 or 0  \n",
    "② feature → float64   "
   ]
  },
  {
   "cell_type": "code",
   "execution_count": 1525,
   "metadata": {},
   "outputs": [
    {
     "data": {
      "text/plain": [
       "array([1, 0], dtype=int64)"
      ]
     },
     "execution_count": 1525,
     "metadata": {},
     "output_type": "execute_result"
    }
   ],
   "source": [
    "df['수익률'] = df['수익률'].apply(lambda x : x - 0.3)\n",
    "df['수익률'] = df['수익률'].apply(lambda x : 1 if x > 0 else 0 )\n",
    "df['수익률'].unique()"
   ]
  },
  {
   "cell_type": "code",
   "execution_count": 1526,
   "metadata": {},
   "outputs": [],
   "source": [
    "df['뉴스기사'] = df['뉴스기사'].astype('float64')\n",
    "df['최대거래대금'] = df['최대거래대금'].astype('float64')\n",
    "df['매수등락률'] = df['매수등락률'].astype('float64')"
   ]
  },
  {
   "cell_type": "code",
   "execution_count": 1527,
   "metadata": {},
   "outputs": [],
   "source": [
    "X = df[['뉴스기사', '최대거래대금', '매수등락률']]\n",
    "y = df['수익률']"
   ]
  },
  {
   "cell_type": "code",
   "execution_count": 1528,
   "metadata": {
    "scrolled": true
   },
   "outputs": [
    {
     "data": {
      "text/plain": [
       "((129, 3), (129,))"
      ]
     },
     "execution_count": 1528,
     "metadata": {},
     "output_type": "execute_result"
    }
   ],
   "source": [
    "X.shape, y.shape"
   ]
  },
  {
   "cell_type": "code",
   "execution_count": 1543,
   "metadata": {},
   "outputs": [
    {
     "data": {
      "image/png": "[encoded data removed]",
      "text/plain": [
       "<Figure size 1440x360 with 1 Axes>"
      ]
     },
     "metadata": {
      "needs_background": "light"
     },
     "output_type": "display_data"
    }
   ],
   "source": [
    "plt.scatter(df.매수등락률, df.수익률, marker='+', color='red')\n",
    "plt.rcParams[\"figure.figsize\"] = (20, 5)\n",
    "plt.show()"
   ]
  },
  {
   "cell_type": "markdown",
   "metadata": {},
   "source": [
    "# Train Test Split"
   ]
  },
  {
   "cell_type": "code",
   "execution_count": 1529,
   "metadata": {},
   "outputs": [],
   "source": [
    "X_train, X_test, y_train, y_test = train_test_split(X, y, random_state=42)"
   ]
  },
  {
   "cell_type": "markdown",
   "metadata": {},
   "source": [
    "# Scaling"
   ]
  },
  {
   "cell_type": "code",
   "execution_count": 1530,
   "metadata": {},
   "outputs": [],
   "source": [
    "scaler = MinMaxScaler()\n",
    "scaler.fit(X_train)\n",
    "X_train = scaler.transform(X_train)\n",
    "X_test = scaler.transform(X_test)"
   ]
  },
  {
   "cell_type": "markdown",
   "metadata": {},
   "source": [
    "# Model"
   ]
  },
  {
   "cell_type": "code",
   "execution_count": 1531,
   "metadata": {},
   "outputs": [
    {
     "name": "stderr",
     "output_type": "stream",
     "text": [
      "C:\\Users\\user\\Anaconda3\\lib\\site-packages\\sklearn\\linear_model\\logistic.py:433: FutureWarning: Default solver will be changed to 'lbfgs' in 0.22. Specify a solver to silence this warning.\n",
      "  FutureWarning)\n",
      "C:\\Users\\user\\Anaconda3\\lib\\site-packages\\sklearn\\linear_model\\logistic.py:433: FutureWarning: Default solver will be changed to 'lbfgs' in 0.22. Specify a solver to silence this warning.\n",
      "  FutureWarning)\n",
      "C:\\Users\\user\\Anaconda3\\lib\\site-packages\\sklearn\\linear_model\\logistic.py:433: FutureWarning: Default solver will be changed to 'lbfgs' in 0.22. Specify a solver to silence this warning.\n",
      "  FutureWarning)\n"
     ]
    }
   ],
   "source": [
    "logreg100 = LogisticRegression(C=100).fit(X_train, y_train)\n",
    "logreg = LogisticRegression().fit(X_train, y_train)\n",
    "logreg001 = LogisticRegression(C=0.01).fit(X_train, y_train)"
   ]
  },
  {
   "cell_type": "markdown",
   "metadata": {},
   "source": [
    "### Weight & Bias\n",
    "기울기 파라미터(w) = 가중치(weight) = 계수(coefficient) = coef_ 속성  \n",
    "절편 파라미터(b) = 편향(offset) = 절편(intercept) = intercept_ 속성  "
   ]
  },
  {
   "cell_type": "code",
   "execution_count": 1532,
   "metadata": {},
   "outputs": [
    {
     "name": "stdout",
     "output_type": "stream",
     "text": [
      "logreg100.coef_: [[0.57688684 0.47477816 0.69267087]]\n",
      "logreg100.intercept_: [-1.26998139]\n",
      "\n",
      "logreg.coef_: [[0.3465032  0.06496174 0.2493914 ]]\n",
      "logreg.intercept_: [-0.75389703]\n",
      "\n",
      "logreg001.coef_: [[-0.02572034 -0.00871717 -0.02397782]]\n",
      "logreg001.intercept_: [-0.06610767]\n"
     ]
    }
   ],
   "source": [
    "print('logreg100.coef_:', logreg100.coef_)\n",
    "print('logreg100.intercept_:', logreg100.intercept_)\n",
    "print('')\n",
    "\n",
    "print('logreg.coef_:', logreg.coef_)\n",
    "print('logreg.intercept_:', logreg.intercept_)\n",
    "print('')\n",
    "\n",
    "print('logreg001.coef_:', logreg001.coef_)\n",
    "print('logreg001.intercept_:', logreg001.intercept_)"
   ]
  },
  {
   "cell_type": "markdown",
   "metadata": {},
   "source": [
    "### Score"
   ]
  },
  {
   "cell_type": "code",
   "execution_count": 1533,
   "metadata": {},
   "outputs": [
    {
     "name": "stdout",
     "output_type": "stream",
     "text": [
      "훈련 세트 점수: 0.65\n",
      "테스트 세트 점수: 0.64\n",
      "\n",
      "훈련 세트 점수: 0.59\n",
      "테스트 세트 점수: 0.64\n",
      "\n",
      "훈련 세트 점수: 0.59\n",
      "테스트 세트 점수: 0.64\n"
     ]
    }
   ],
   "source": [
    "print('훈련 세트 점수: {:.2f}'.format(logreg100.score(X_train, y_train)))\n",
    "print('테스트 세트 점수: {:.2f}'.format(logreg100.score(X_test, y_test)))\n",
    "print('')\n",
    "\n",
    "print('훈련 세트 점수: {:.2f}'.format(logreg.score(X_train, y_train)))\n",
    "print('테스트 세트 점수: {:.2f}'.format(logreg.score(X_test, y_test)))\n",
    "print('')\n",
    "\n",
    "print('훈련 세트 점수: {:.2f}'.format(logreg001.score(X_train, y_train)))\n",
    "print('테스트 세트 점수: {:.2f}'.format(logreg001.score(X_test, y_test)))"
   ]
  },
  {
   "cell_type": "markdown",
   "metadata": {},
   "source": [
    "### Coefficient Visualization"
   ]
  },
  {
   "cell_type": "code",
   "execution_count": 1534,
   "metadata": {},
   "outputs": [
    {
     "data": {
      "image/png": "[encoded data removed]",
      "text/plain": [
       "<Figure size 432x288 with 1 Axes>"
      ]
     },
     "metadata": {
      "needs_background": "light"
     },
     "output_type": "display_data"
    }
   ],
   "source": [
    "plt.plot(logreg100.coef_.T, '^', label='C=100')\n",
    "plt.plot(logreg001.coef_.T, 'v', label='C=0.01')\n",
    "plt.plot(logreg.coef_.T, 'o', label='C=1')\n",
    "plt.xticks(range(X.shape[1]), X.columns)\n",
    "xlims = plt.xlim()\n",
    "plt.hlines(0, xlims[0], xlims[1])\n",
    "plt.xlim(xlims)\n",
    "plt.ylim(-1,1)\n",
    "plt.xlabel('feature')\n",
    "plt.ylabel('coefficient')\n",
    "plt.legend()\n",
    "plt.show()"
   ]
  },
  {
   "cell_type": "markdown",
   "metadata": {},
   "source": [
    "# Confusion Matrix\n",
    "logreg100 선택 (C=100)"
   ]
  },
  {
   "cell_type": "code",
   "execution_count": 1535,
   "metadata": {},
   "outputs": [],
   "source": [
    "y_pred = logreg100.predict(X_test)"
   ]
  },
  {
   "cell_type": "code",
   "execution_count": 1536,
   "metadata": {},
   "outputs": [
    {
     "data": {
      "text/plain": [
       "array([[19,  2],\n",
       "       [10,  2]], dtype=int64)"
      ]
     },
     "execution_count": 1536,
     "metadata": {},
     "output_type": "execute_result"
    }
   ],
   "source": [
    "from sklearn import metrics\n",
    "cnf_matrix = metrics.confusion_matrix(y_test, y_pred)\n",
    "cnf_matrix"
   ]
  },
  {
   "cell_type": "markdown",
   "metadata": {},
   "source": [
    "# Visualization"
   ]
  },
  {
   "cell_type": "code",
   "execution_count": 1537,
   "metadata": {},
   "outputs": [
    {
     "data": {
      "image/png": "[encoded data removed]",
      "text/plain": [
       "<Figure size 648x648 with 2 Axes>"
      ]
     },
     "metadata": {
      "needs_background": "light"
     },
     "output_type": "display_data"
    }
   ],
   "source": [
    "plt.figure(figsize=(9,9))\n",
    "sns.heatmap(cnf_matrix, annot=True, linewidths=.5, square=True, cmap='Blues_r')\n",
    "plt.ylabel('Actual label')\n",
    "plt.xlabel('Predicted label')\n",
    "\n",
    "score = round(logreg100.score(X_test, y_test),2)\n",
    "title = 'Accuracy Score: {0}'.format(score)\n",
    "plt.title(title, size=15)\n",
    "\n",
    "plt.show()"
   ]
  },
  {
   "cell_type": "markdown",
   "metadata": {},
   "source": [
    "# Predict"
   ]
  },
  {
   "cell_type": "code",
   "execution_count": 1547,
   "metadata": {
    "scrolled": true
   },
   "outputs": [
    {
     "data": {
      "text/plain": [
       "array([0], dtype=int64)"
      ]
     },
     "execution_count": 1547,
     "metadata": {},
     "output_type": "execute_result"
    }
   ],
   "source": [
    "logreg.predict([[1,1,1]])"
   ]
  },
  {
   "cell_type": "markdown",
   "metadata": {},
   "source": [
    "# Results\n",
    "Score = 0.64"
   ]
  },
  {
   "cell_type": "markdown",
   "metadata": {},
   "source": [
    "# Conclusion\n",
    "데이터의 상관관계가 뚜렷하지 않으므로 Score가 비약적으로 개선되지 않는 것 같다.  \n",
    "추후 깔끔한 데이터가 수집되고 의미 있는 feature들을 추가하면서 점차적으로 발전할 것으로 보인다."
   ]
  }
 ],
 "metadata": {
  "kernelspec": {
   "display_name": "Python 3",
   "language": "python",
   "name": "python3"
  },
  "language_info": {
   "codemirror_mode": {
    "name": "ipython",
    "version": 3
   },
   "file_extension": ".py",
   "mimetype": "text/x-python",
   "name": "python",
   "nbconvert_exporter": "python",
   "pygments_lexer": "ipython3",
   "version": "3.7.3"
  }
 },
 "nbformat": 4,
 "nbformat_minor": 2
}
