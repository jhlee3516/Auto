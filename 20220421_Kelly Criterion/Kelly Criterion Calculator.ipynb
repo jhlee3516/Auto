{
 "cells": [
  {
   "cell_type": "markdown",
   "metadata": {},
   "source": [
    "# Kelly Criterion\n",
    "p = The probability of winning  \n",
    "q = The probability of losing, which is 1-p  \n",
    "b = Decimal odds  \n",
    "Youtube: https://youtu.be/GRTJ0XahSzg"
   ]
  },
  {
   "cell_type": "code",
   "execution_count": 20,
   "metadata": {},
   "outputs": [],
   "source": [
    "class Kelly_Criterion:\n",
    "    def __init__(self, p, b=1):\n",
    "        self.p = p\n",
    "        self.b = b\n",
    "        \n",
    "    def calculation(self):\n",
    "        K = (self.b*self.p - (1-self.p)) / self.b\n",
    "        return f'승률: {self.p} 손익비: {self.b} 캘리베팅: {K}'"
   ]
  },
  {
   "cell_type": "code",
   "execution_count": 21,
   "metadata": {},
   "outputs": [
    {
     "name": "stdout",
     "output_type": "stream",
     "text": [
      "승률: 0.68 손익비: 2 캘리베팅: 0.52\n"
     ]
    }
   ],
   "source": [
    "k = Kelly_Criterion(0.68, 2)\n",
    "print(k.calculation())"
   ]
  }
 ],
 "metadata": {
  "kernelspec": {
   "display_name": "Python 3",
   "language": "python",
   "name": "python3"
  },
  "language_info": {
   "codemirror_mode": {
    "name": "ipython",
    "version": 3
   },
   "file_extension": ".py",
   "mimetype": "text/x-python",
   "name": "python",
   "nbconvert_exporter": "python",
   "pygments_lexer": "ipython3",
   "version": "3.7.3"
  }
 },
 "nbformat": 4,
 "nbformat_minor": 2
}
