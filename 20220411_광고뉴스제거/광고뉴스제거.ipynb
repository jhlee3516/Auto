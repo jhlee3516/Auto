{
 "cells": [
  {
   "cell_type": "markdown",
   "metadata": {},
   "source": [
    "# Introduction\n",
    "HTS에서 광고뉴스를 제거하면 쾌적하다.  \n",
    "많이 사용되는 단어를 찾고 제외한다.  \n",
    "주의사항: 진짜 뉴스기사를 제외시키지는 않는지 한번씩 체크하고 제외할 단어로 선정한다.  \n",
    "유튜브: https://youtu.be/ghYAUrEXV3s"
   ]
  },
  {
   "cell_type": "markdown",
   "metadata": {},
   "source": [
    "# Import"
   ]
  },
  {
   "cell_type": "code",
   "execution_count": 130,
   "metadata": {},
   "outputs": [],
   "source": [
    "import pandas as pd\n",
    "from konlpy.tag import Okt\n",
    "from collections import Counter\n",
    "from matplotlib import pyplot as plt\n",
    "import matplotlib\n",
    "%matplotlib inline"
   ]
  },
  {
   "cell_type": "markdown",
   "metadata": {},
   "source": [
    "# Load"
   ]
  },
  {
   "cell_type": "code",
   "execution_count": 131,
   "metadata": {},
   "outputs": [
    {
     "data": {
      "text/html": [
       "<div>\n",
       "<style scoped>\n",
       "    .dataframe tbody tr th:only-of-type {\n",
       "        vertical-align: middle;\n",
       "    }\n",
       "\n",
       "    .dataframe tbody tr th {\n",
       "        vertical-align: top;\n",
       "    }\n",
       "\n",
       "    .dataframe thead th {\n",
       "        text-align: right;\n",
       "    }\n",
       "</style>\n",
       "<table border=\"1\" class=\"dataframe\">\n",
       "  <thead>\n",
       "    <tr style=\"text-align: right;\">\n",
       "      <th></th>\n",
       "      <th>일자</th>\n",
       "      <th>시간</th>\n",
       "      <th>제목</th>\n",
       "      <th>종목코드</th>\n",
       "      <th>종목명</th>\n",
       "      <th>언론사</th>\n",
       "    </tr>\n",
       "  </thead>\n",
       "  <tbody>\n",
       "    <tr>\n",
       "      <th>0</th>\n",
       "      <td>2022-04-08</td>\n",
       "      <td>23:31:14</td>\n",
       "      <td>◆\"이종목\" 월요일 上터집니다, 바로 매수하세요</td>\n",
       "      <td>003850/005930/053800/005860/001440</td>\n",
       "      <td>보령제약</td>\n",
       "      <td>인포스탁</td>\n",
       "    </tr>\n",
       "    <tr>\n",
       "      <th>1</th>\n",
       "      <td>2022-04-08</td>\n",
       "      <td>23:12:00</td>\n",
       "      <td>1500% 터질 \"제2의 현대사료\" 긴급입수!</td>\n",
       "      <td>016790/014200/102280/151860/001390</td>\n",
       "      <td>현대사료</td>\n",
       "      <td>서울경제</td>\n",
       "    </tr>\n",
       "    <tr>\n",
       "      <th>2</th>\n",
       "      <td>2022-04-08</td>\n",
       "      <td>22:58:00</td>\n",
       "      <td>내일의 급등 유망주 TOP3 공개</td>\n",
       "      <td>000230/011700/048870/080220/249420</td>\n",
       "      <td>일동홀딩스</td>\n",
       "      <td>뉴스핌</td>\n",
       "    </tr>\n",
       "    <tr>\n",
       "      <th>3</th>\n",
       "      <td>2022-04-08</td>\n",
       "      <td>22:51:00</td>\n",
       "      <td>다음주장 옥석 가리기 ▶ 급등 전 확인하는 5선 종목</td>\n",
       "      <td>010145/010040/134580/104200/011700</td>\n",
       "      <td>삼성중공우</td>\n",
       "      <td>이데일리</td>\n",
       "    </tr>\n",
       "    <tr>\n",
       "      <th>4</th>\n",
       "      <td>2022-04-08</td>\n",
       "      <td>22:50:00</td>\n",
       "      <td>일단 묻어두세요 \"이종목\" 폭발합니다 上</td>\n",
       "      <td>048870/179290/005930/060240/066570</td>\n",
       "      <td>시너지이노베이션</td>\n",
       "      <td>이데일리</td>\n",
       "    </tr>\n",
       "  </tbody>\n",
       "</table>\n",
       "</div>"
      ],
      "text/plain": [
       "           일자        시간                             제목  \\\n",
       "0  2022-04-08  23:31:14     ◆\"이종목\" 월요일 上터집니다, 바로 매수하세요   \n",
       "1  2022-04-08  23:12:00      1500% 터질 \"제2의 현대사료\" 긴급입수!   \n",
       "2  2022-04-08  22:58:00             내일의 급등 유망주 TOP3 공개   \n",
       "3  2022-04-08  22:51:00  다음주장 옥석 가리기 ▶ 급등 전 확인하는 5선 종목   \n",
       "4  2022-04-08  22:50:00         일단 묻어두세요 \"이종목\" 폭발합니다 上   \n",
       "\n",
       "                                 종목코드       종목명   언론사  \n",
       "0  003850/005930/053800/005860/001440      보령제약  인포스탁  \n",
       "1  016790/014200/102280/151860/001390      현대사료  서울경제  \n",
       "2  000230/011700/048870/080220/249420     일동홀딩스   뉴스핌  \n",
       "3  010145/010040/134580/104200/011700     삼성중공우  이데일리  \n",
       "4  048870/179290/005930/060240/066570  시너지이노베이션  이데일리  "
      ]
     },
     "execution_count": 131,
     "metadata": {},
     "output_type": "execute_result"
    }
   ],
   "source": [
    "df = pd.read_excel('hts_news.xlsx', names=['일자','시간','제목','종목코드','종목명','언론사'])\n",
    "df['일자'] = df['일자'].astype(str)\n",
    "df['시간'] = df['시간'].astype(str)\n",
    "df.head()"
   ]
  },
  {
   "cell_type": "markdown",
   "metadata": {},
   "source": [
    "# Word\n",
    "HTS에서 제외 가능한 단어는 30개다.  \n",
    "넉넉하게 빈도수 높은 단어 50개를 찾아본다. "
   ]
  },
  {
   "cell_type": "code",
   "execution_count": 132,
   "metadata": {},
   "outputs": [],
   "source": [
    "okt = Okt()\n",
    "list = []\n",
    "for title in df['제목']:\n",
    "    list.append(okt.nouns(title))\n",
    "\n",
    "word = sum(list,[])"
   ]
  },
  {
   "cell_type": "code",
   "execution_count": 133,
   "metadata": {},
   "outputs": [],
   "source": [
    "count = Counter(word).most_common()[:50]"
   ]
  },
  {
   "cell_type": "markdown",
   "metadata": {},
   "source": [
    "# Visualization"
   ]
  },
  {
   "cell_type": "code",
   "execution_count": 134,
   "metadata": {},
   "outputs": [],
   "source": [
    "df_count = pd.DataFrame(count)"
   ]
  },
  {
   "cell_type": "code",
   "execution_count": 135,
   "metadata": {},
   "outputs": [],
   "source": [
    "matplotlib.rcParams['font.family'] = 'Malgun Gothic'\n",
    "matplotlib.rcParams['axes.unicode_minus'] = False"
   ]
  },
  {
   "cell_type": "code",
   "execution_count": 137,
   "metadata": {
    "scrolled": true
   },
   "outputs": [
    {
     "data": {
      "image/png": "[encoded data removed]",
      "text/plain": [
       "<Figure size 1440x360 with 1 Axes>"
      ]
     },
     "metadata": {
      "needs_background": "light"
     },
     "output_type": "display_data"
    }
   ],
   "source": [
    "plt.bar(df_count[0],df_count[1])\n",
    "plt.xticks(rotation=90)\n",
    "plt.ylabel('Count')\n",
    "plt.xlabel('Word')\n",
    "plt.title('Frequency')\n",
    "plt.rcParams[\"figure.figsize\"] = (20, 5)\n",
    "plt.show()"
   ]
  },
  {
   "cell_type": "markdown",
   "metadata": {},
   "source": [
    "# Conclusion\n",
    "'종목, 매수, 내일, 후속, 코스닥, 주식, 상위, 바로, 공개,   \n",
    "지금, 초대형, 무료, 긴급, 매도, 추천, 확인, 오늘, 오후, 카톡,   \n",
    "수익, 클릭, 분석, 상품, 오전, 크게, 현재, 금리, 기관, 부자, 황금'  \n",
    "  \n",
    "까지 총 30개 단어를 제외하였다. "
   ]
  }
 ],
 "metadata": {
  "kernelspec": {
   "display_name": "Python 3",
   "language": "python",
   "name": "python3"
  },
  "language_info": {
   "codemirror_mode": {
    "name": "ipython",
    "version": 3
   },
   "file_extension": ".py",
   "mimetype": "text/x-python",
   "name": "python",
   "nbconvert_exporter": "python",
   "pygments_lexer": "ipython3",
   "version": "3.7.3"
  }
 },
 "nbformat": 4,
 "nbformat_minor": 2
}
