{
 "cells": [
  {
   "cell_type": "markdown",
   "metadata": {},
   "source": [
    "# 영상시간측정\n",
    "pyinstaller click.py --onefile"
   ]
  },
  {
   "cell_type": "code",
   "execution_count": 88,
   "metadata": {},
   "outputs": [],
   "source": [
    "import os\n",
    "import time\n",
    "import shutil\n",
    "import datetime\n",
    "\n",
    "def click():\n",
    "    if os.path.isfile('영상PPT - 복사본.pptm'):\n",
    "        list = []\n",
    "        for filename in os.listdir('영상'):\n",
    "            list.append(filename)\n",
    "        os.makedirs('영상/' + str(int(list[-1].split('_')[0])+1)+'_')\n",
    "        os.startfile('영상\\/' + str(int(list[-1].split('_')[0])+1)+'_')\n",
    "\n",
    "        finish = 'finish, ' + str(datetime.datetime.now()) + '\\n'\n",
    "\n",
    "        with open('timestamp.txt','a') as f:\n",
    "            f.write(finish)\n",
    "    else:\n",
    "        shutil.copyfile('영상PPT.pptm', '영상PPT - 복사본.pptm')\n",
    "\n",
    "        start = 'start, ' + time.ctime(os.path.getatime('영상PPT - 복사본.pptm')) +'\\n'\n",
    "\n",
    "        with open('timestamp.txt','a') as f:\n",
    "            f.write(start)\n",
    "\n",
    "        os.startfile('영상PPT - 복사본.pptm')\n",
    "    \n",
    "if __name__ == '__main__':\n",
    "    click()"
   ]
  }
 ],
 "metadata": {
  "kernelspec": {
   "display_name": "Python 3",
   "language": "python",
   "name": "python3"
  },
  "language_info": {
   "codemirror_mode": {
    "name": "ipython",
    "version": 3
   },
   "file_extension": ".py",
   "mimetype": "text/x-python",
   "name": "python",
   "nbconvert_exporter": "python",
   "pygments_lexer": "ipython3",
   "version": "3.7.3"
  }
 },
 "nbformat": 4,
 "nbformat_minor": 2
}
