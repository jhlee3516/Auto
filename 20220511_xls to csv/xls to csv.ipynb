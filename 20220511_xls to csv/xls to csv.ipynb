{
 "cells": [
  {
   "cell_type": "markdown",
   "metadata": {},
   "source": [
    "# xls → csv 변환하기\n",
    "유튜브: https://youtu.be/38B_Q0OdYEs"
   ]
  },
  {
   "cell_type": "code",
   "execution_count": 110,
   "metadata": {},
   "outputs": [],
   "source": [
    "import glob\n",
    "import xlrd\n",
    "import pandas as pd\n",
    "import datetime"
   ]
  },
  {
   "cell_type": "code",
   "execution_count": 97,
   "metadata": {},
   "outputs": [
    {
     "data": {
      "text/plain": [
       "['디알텍.xls']"
      ]
     },
     "execution_count": 97,
     "metadata": {},
     "output_type": "execute_result"
    }
   ],
   "source": [
    "xls = glob.glob('*.xls')\n",
    "xls"
   ]
  },
  {
   "cell_type": "code",
   "execution_count": 98,
   "metadata": {},
   "outputs": [
    {
     "data": {
      "text/plain": [
       "'디알텍.xls'"
      ]
     },
     "execution_count": 98,
     "metadata": {},
     "output_type": "execute_result"
    }
   ],
   "source": [
    "xls[0]"
   ]
  },
  {
   "cell_type": "code",
   "execution_count": 99,
   "metadata": {},
   "outputs": [],
   "source": [
    "wb = xlrd.open_workbook(xls[0], encoding_override='cp1252')\n",
    "ws = wb.sheet_by_index(0)"
   ]
  },
  {
   "cell_type": "code",
   "execution_count": 26,
   "metadata": {},
   "outputs": [
    {
     "data": {
      "text/plain": [
       "16"
      ]
     },
     "execution_count": 26,
     "metadata": {},
     "output_type": "execute_result"
    }
   ],
   "source": [
    "ws.ncols"
   ]
  },
  {
   "cell_type": "code",
   "execution_count": 27,
   "metadata": {},
   "outputs": [
    {
     "data": {
      "text/plain": [
       "569"
      ]
     },
     "execution_count": 27,
     "metadata": {},
     "output_type": "execute_result"
    }
   ],
   "source": [
    "ws.nrows"
   ]
  },
  {
   "cell_type": "code",
   "execution_count": 29,
   "metadata": {},
   "outputs": [
    {
     "data": {
      "text/plain": [
       "['날짜', '2022/05/04', '2022/05/04', '2022/05/04', '2022/05/04']"
      ]
     },
     "execution_count": 29,
     "metadata": {},
     "output_type": "execute_result"
    }
   ],
   "source": [
    "ws.col_values(0)[:5]"
   ]
  },
  {
   "cell_type": "markdown",
   "metadata": {},
   "source": [
    "### 모든 row의 length가 같은지 확인하기\n",
    "모두 569개로 똑같다."
   ]
  },
  {
   "cell_type": "code",
   "execution_count": 31,
   "metadata": {},
   "outputs": [
    {
     "name": "stdout",
     "output_type": "stream",
     "text": [
      "569\n",
      "569\n",
      "569\n",
      "569\n",
      "569\n",
      "569\n",
      "569\n",
      "569\n",
      "569\n",
      "569\n",
      "569\n",
      "569\n",
      "569\n",
      "569\n",
      "569\n",
      "569\n"
     ]
    }
   ],
   "source": [
    "for i in range(ws.ncols):\n",
    "    print(len(ws.col_values(i)))"
   ]
  },
  {
   "cell_type": "markdown",
   "metadata": {},
   "source": [
    "### 마지막 칼럼의 마지막 5개 row data는 빈칸이지만 ''로 지정되어 있다.\n",
    "따라서 데이터가 존재하든 존재하지 않든 모든 칼럼의 길이는 같다."
   ]
  },
  {
   "cell_type": "code",
   "execution_count": 37,
   "metadata": {
    "scrolled": true
   },
   "outputs": [
    {
     "data": {
      "text/plain": [
       "['', '', '', '', '']"
      ]
     },
     "execution_count": 37,
     "metadata": {},
     "output_type": "execute_result"
    }
   ],
   "source": [
    "ws.col_values(15)[-5:]"
   ]
  },
  {
   "cell_type": "markdown",
   "metadata": {},
   "source": [
    "### row의 첫줄은 칼럼의 제목이다."
   ]
  },
  {
   "cell_type": "code",
   "execution_count": 38,
   "metadata": {},
   "outputs": [
    {
     "data": {
      "text/plain": [
       "['날짜',\n",
       " '시간',\n",
       " '시가',\n",
       " '고가',\n",
       " '저가',\n",
       " '종가',\n",
       " '종가 단순 5',\n",
       " 10.0,\n",
       " 20.0,\n",
       " 60.0,\n",
       " 120.0,\n",
       " '거래량',\n",
       " '단순 5',\n",
       " 20.0,\n",
       " 60.0,\n",
       " 120.0]"
      ]
     },
     "execution_count": 38,
     "metadata": {},
     "output_type": "execute_result"
    }
   ],
   "source": [
    "ws.row_values(0)"
   ]
  },
  {
   "cell_type": "markdown",
   "metadata": {},
   "source": [
    "### 데이터프레임 칼럼에 사용할 제목으로 할당해준다."
   ]
  },
  {
   "cell_type": "code",
   "execution_count": 41,
   "metadata": {},
   "outputs": [
    {
     "data": {
      "text/plain": [
       "['날짜', '시간', '시가', '고가', '저가']"
      ]
     },
     "execution_count": 41,
     "metadata": {},
     "output_type": "execute_result"
    }
   ],
   "source": [
    "titles = ws.row_values(0)\n",
    "titles[:5]"
   ]
  },
  {
   "cell_type": "markdown",
   "metadata": {},
   "source": [
    "### dataframe 만들기"
   ]
  },
  {
   "cell_type": "code",
   "execution_count": 79,
   "metadata": {},
   "outputs": [],
   "source": [
    "pieces = []\n",
    "for i in range(ws.ncols):\n",
    "    pieces.append(ws.col_values(i)[1:])"
   ]
  },
  {
   "cell_type": "code",
   "execution_count": 80,
   "metadata": {
    "scrolled": true
   },
   "outputs": [
    {
     "data": {
      "text/html": [
       "<div>\n",
       "<style scoped>\n",
       "    .dataframe tbody tr th:only-of-type {\n",
       "        vertical-align: middle;\n",
       "    }\n",
       "\n",
       "    .dataframe tbody tr th {\n",
       "        vertical-align: top;\n",
       "    }\n",
       "\n",
       "    .dataframe thead th {\n",
       "        text-align: right;\n",
       "    }\n",
       "</style>\n",
       "<table border=\"1\" class=\"dataframe\">\n",
       "  <thead>\n",
       "    <tr style=\"text-align: right;\">\n",
       "      <th></th>\n",
       "      <th>날짜</th>\n",
       "      <th>시간</th>\n",
       "      <th>시가</th>\n",
       "      <th>고가</th>\n",
       "      <th>저가</th>\n",
       "      <th>종가</th>\n",
       "      <th>종가 단순 5</th>\n",
       "      <th>10.0</th>\n",
       "      <th>20.0</th>\n",
       "      <th>60.0</th>\n",
       "      <th>120.0</th>\n",
       "      <th>거래량</th>\n",
       "      <th>단순 5</th>\n",
       "      <th>20.0</th>\n",
       "      <th>60.0</th>\n",
       "      <th>120.0</th>\n",
       "    </tr>\n",
       "  </thead>\n",
       "  <tbody>\n",
       "    <tr>\n",
       "      <th>0</th>\n",
       "      <td>2022/05/04</td>\n",
       "      <td>09:35:00</td>\n",
       "      <td>5580</td>\n",
       "      <td>5770</td>\n",
       "      <td>5580</td>\n",
       "      <td>5670</td>\n",
       "      <td>5578</td>\n",
       "      <td>5504</td>\n",
       "      <td>5400.5</td>\n",
       "      <td>5298.67</td>\n",
       "      <td>5264.83</td>\n",
       "      <td>105145</td>\n",
       "      <td>51909.8</td>\n",
       "      <td>20464</td>\n",
       "      <td>9322.48</td>\n",
       "      <td>4935.09</td>\n",
       "    </tr>\n",
       "    <tr>\n",
       "      <th>1</th>\n",
       "      <td>2022/05/04</td>\n",
       "      <td>09:34:00</td>\n",
       "      <td>5540</td>\n",
       "      <td>5650</td>\n",
       "      <td>5530</td>\n",
       "      <td>5600</td>\n",
       "      <td>5564</td>\n",
       "      <td>5469</td>\n",
       "      <td>5381</td>\n",
       "      <td>5291</td>\n",
       "      <td>5261.08</td>\n",
       "      <td>45218</td>\n",
       "      <td>41484.8</td>\n",
       "      <td>15265</td>\n",
       "      <td>7575.08</td>\n",
       "      <td>4063.04</td>\n",
       "    </tr>\n",
       "    <tr>\n",
       "      <th>2</th>\n",
       "      <td>2022/05/04</td>\n",
       "      <td>09:33:00</td>\n",
       "      <td>5570</td>\n",
       "      <td>5580</td>\n",
       "      <td>5510</td>\n",
       "      <td>5550</td>\n",
       "      <td>5538</td>\n",
       "      <td>5438</td>\n",
       "      <td>5363.5</td>\n",
       "      <td>5284.33</td>\n",
       "      <td>5257.92</td>\n",
       "      <td>21372</td>\n",
       "      <td>41667.6</td>\n",
       "      <td>13193.1</td>\n",
       "      <td>6825.68</td>\n",
       "      <td>3696.22</td>\n",
       "    </tr>\n",
       "    <tr>\n",
       "      <th>3</th>\n",
       "      <td>2022/05/04</td>\n",
       "      <td>09:32:00</td>\n",
       "      <td>5530</td>\n",
       "      <td>5610</td>\n",
       "      <td>5500</td>\n",
       "      <td>5570</td>\n",
       "      <td>5508</td>\n",
       "      <td>5410</td>\n",
       "      <td>5348.5</td>\n",
       "      <td>5278.67</td>\n",
       "      <td>5255.5</td>\n",
       "      <td>30320</td>\n",
       "      <td>39487.8</td>\n",
       "      <td>12186</td>\n",
       "      <td>6478.58</td>\n",
       "      <td>3518.13</td>\n",
       "    </tr>\n",
       "    <tr>\n",
       "      <th>4</th>\n",
       "      <td>2022/05/04</td>\n",
       "      <td>09:31:00</td>\n",
       "      <td>5600</td>\n",
       "      <td>5650</td>\n",
       "      <td>5430</td>\n",
       "      <td>5500</td>\n",
       "      <td>5460</td>\n",
       "      <td>5380</td>\n",
       "      <td>5333</td>\n",
       "      <td>5272.5</td>\n",
       "      <td>5252.5</td>\n",
       "      <td>57494</td>\n",
       "      <td>33907.4</td>\n",
       "      <td>11065.4</td>\n",
       "      <td>6059.75</td>\n",
       "      <td>3267.13</td>\n",
       "    </tr>\n",
       "  </tbody>\n",
       "</table>\n",
       "</div>"
      ],
      "text/plain": [
       "           날짜        시간    시가    고가    저가    종가 종가 단순 5  10.0    20.0  \\\n",
       "0  2022/05/04  09:35:00  5580  5770  5580  5670    5578  5504  5400.5   \n",
       "1  2022/05/04  09:34:00  5540  5650  5530  5600    5564  5469    5381   \n",
       "2  2022/05/04  09:33:00  5570  5580  5510  5550    5538  5438  5363.5   \n",
       "3  2022/05/04  09:32:00  5530  5610  5500  5570    5508  5410  5348.5   \n",
       "4  2022/05/04  09:31:00  5600  5650  5430  5500    5460  5380    5333   \n",
       "\n",
       "      60.0    120.0     거래량     단순 5     20.0     60.0    120.0  \n",
       "0  5298.67  5264.83  105145  51909.8    20464  9322.48  4935.09  \n",
       "1     5291  5261.08   45218  41484.8    15265  7575.08  4063.04  \n",
       "2  5284.33  5257.92   21372  41667.6  13193.1  6825.68  3696.22  \n",
       "3  5278.67   5255.5   30320  39487.8    12186  6478.58  3518.13  \n",
       "4   5272.5   5252.5   57494  33907.4  11065.4  6059.75  3267.13  "
      ]
     },
     "execution_count": 80,
     "metadata": {},
     "output_type": "execute_result"
    }
   ],
   "source": [
    "df = pd.DataFrame(pieces, index=titles).T\n",
    "df.head()"
   ]
  },
  {
   "cell_type": "code",
   "execution_count": 82,
   "metadata": {},
   "outputs": [
    {
     "data": {
      "text/plain": [
       "'대한전선'"
      ]
     },
     "execution_count": 82,
     "metadata": {},
     "output_type": "execute_result"
    }
   ],
   "source": [
    "name = xls[0].split('.')[0]\n",
    "name"
   ]
  },
  {
   "cell_type": "code",
   "execution_count": 85,
   "metadata": {},
   "outputs": [],
   "source": [
    "df.to_csv(name+'.csv', index=False)"
   ]
  },
  {
   "cell_type": "markdown",
   "metadata": {},
   "source": [
    "# 함수(function) 만들기"
   ]
  },
  {
   "cell_type": "code",
   "execution_count": 119,
   "metadata": {},
   "outputs": [],
   "source": [
    "xls = glob.glob('*.xls')\n",
    "\n",
    "for x in xls:\n",
    "    wb = xlrd.open_workbook(x, encoding_override='cp1252')\n",
    "    ws = wb.sheet_by_index(0)\n",
    "    \n",
    "    pieces = []\n",
    "    for i in range(ws.ncols):\n",
    "        pieces.append(ws.col_values(i)[1:])\n",
    "\n",
    "    df = pd.DataFrame(pieces, index=titles).T\n",
    "    \n",
    "    df['날짜'] = pd.to_datetime(df['날짜']).apply(lambda x : x.date())\n",
    "    target_date = datetime.datetime(2022,5,4).date()\n",
    "    df = df[df['날짜'] == target_date]\n",
    "    \n",
    "    name = x.split('.')[0]\n",
    "    df.to_csv(name+'.csv', index=False)"
   ]
  }
 ],
 "metadata": {
  "kernelspec": {
   "display_name": "Python 3",
   "language": "python",
   "name": "python3"
  },
  "language_info": {
   "codemirror_mode": {
    "name": "ipython",
    "version": 3
   },
   "file_extension": ".py",
   "mimetype": "text/x-python",
   "name": "python",
   "nbconvert_exporter": "python",
   "pygments_lexer": "ipython3",
   "version": "3.7.3"
  }
 },
 "nbformat": 4,
 "nbformat_minor": 2
}
