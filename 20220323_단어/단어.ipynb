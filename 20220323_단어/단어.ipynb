{
 "cells": [
  {
   "cell_type": "markdown",
   "metadata": {},
   "source": [
    "# 단어\n",
    "Retrospective Study"
   ]
  },
  {
   "cell_type": "markdown",
   "metadata": {},
   "source": [
    "## Background\n",
    "제목으로 사용했던 여러가지 단어를 전부 추출한 뒤   \n",
    "조회수가 높은 단어를 찾는다."
   ]
  },
  {
   "cell_type": "code",
   "execution_count": 5,
   "metadata": {},
   "outputs": [],
   "source": [
    "api_key = [API_KEY]\n",
    "channel_id = \"UCH98-54LGg386084raqob6g\""
   ]
  },
  {
   "cell_type": "code",
   "execution_count": 6,
   "metadata": {},
   "outputs": [],
   "source": [
    "from googleapiclient.discovery import build\n",
    "youtube = build(\"youtube\", \"v3\", developerKey=api_key)"
   ]
  },
  {
   "cell_type": "code",
   "execution_count": 7,
   "metadata": {},
   "outputs": [],
   "source": [
    "def get_channel_videos(channel_id):\n",
    "    res = youtube.channels().list(id=channel_id,\n",
    "                                 part=\"contentDetails\").execute()\n",
    "    playlist_id = res[\"items\"][0][\"contentDetails\"][\"relatedPlaylists\"][\"uploads\"]\n",
    "    \n",
    "    videos = []\n",
    "    next_page_token = None\n",
    "    \n",
    "    while 1:\n",
    "        res = youtube.playlistItems().list(playlistId=playlist_id,\n",
    "                                          part=\"snippet\",\n",
    "                                          maxResults=50,\n",
    "                                          pageToken=next_page_token).execute()\n",
    "        videos += res[\"items\"]\n",
    "        next_page_token = res.get(\"nextPageToken\")\n",
    "        \n",
    "        if next_page_token is None:\n",
    "            break\n",
    "    \n",
    "    return videos\n",
    "\n",
    "videos = get_channel_videos(channel_id)"
   ]
  },
  {
   "cell_type": "code",
   "execution_count": 8,
   "metadata": {},
   "outputs": [],
   "source": [
    "video_ids = list(map(lambda x:x['snippet']['resourceId']['videoId'], videos))\n",
    "\n",
    "def get_videos_stats(video_ids):\n",
    "    stats = []\n",
    "    for i in range(0, len(video_ids), 50):\n",
    "        res = youtube.videos().list(id=','.join(video_ids[i:i+50]),\n",
    "                                   part='statistics').execute()\n",
    "        stats += res['items']\n",
    "    return stats\n",
    "\n",
    "stats = get_videos_stats(video_ids)"
   ]
  },
  {
   "cell_type": "code",
   "execution_count": 29,
   "metadata": {},
   "outputs": [],
   "source": [
    "title = []\n",
    "for video in videos:\n",
    "    title.append(video['snippet']['title'])"
   ]
  },
  {
   "cell_type": "code",
   "execution_count": 30,
   "metadata": {},
   "outputs": [],
   "source": [
    "viewCount = []\n",
    "for stat in stats:\n",
    "    viewCount.append(stat['statistics']['viewCount'])"
   ]
  },
  {
   "cell_type": "code",
   "execution_count": 31,
   "metadata": {},
   "outputs": [],
   "source": [
    "import pandas as pd\n",
    "df = pd.DataFrame(zip(title, viewCount), columns=['title','viewCount'])\n",
    "df['viewCount'] = df['viewCount'].astype(int)"
   ]
  },
  {
   "cell_type": "markdown",
   "metadata": {},
   "source": [
    "## Analysis"
   ]
  },
  {
   "cell_type": "markdown",
   "metadata": {},
   "source": [
    "### morphs"
   ]
  },
  {
   "cell_type": "code",
   "execution_count": 108,
   "metadata": {},
   "outputs": [],
   "source": [
    "from konlpy.tag import Okt\n",
    "okt = Okt()\n",
    "\n",
    "sentence = []\n",
    "for t in df['title']:\n",
    "    sentence.append(okt.morphs(t))\n",
    "\n",
    "word = sum(sentence,[])"
   ]
  },
  {
   "cell_type": "code",
   "execution_count": 113,
   "metadata": {},
   "outputs": [],
   "source": [
    "from collections import Counter\n",
    "count = Counter(word).most_common()[:200]"
   ]
  },
  {
   "cell_type": "code",
   "execution_count": 115,
   "metadata": {},
   "outputs": [],
   "source": [
    "dict = {}\n",
    "for i in range(len(count)):\n",
    "    try:\n",
    "        dict[count[i][0]] = round(df[df['title'].str.contains(count[i][0]) == True]['viewCount'].mean())\n",
    "    except:\n",
    "        pass"
   ]
  },
  {
   "cell_type": "code",
   "execution_count": 119,
   "metadata": {},
   "outputs": [
    {
     "name": "stdout",
     "output_type": "stream",
     "text": [
      "[('무상증자', 10911), ('박스', 9685), ('곤', 9062), ('진양', 9009), ('나노', 8940), ('NDA', 8564), ('승인', 7900), ('회장', 7765), ('FDA', 7169), ('발표', 6734), ('신약', 6489), ('허가', 6477), ('가능성', 6465), ('증', 6363), ('옵티머스', 6297), ('에이치엘비', 6160), ('공시', 6111), ('어떻게', 6110), ('f', 6036), ('공매도', 5847), ('개발', 5802), ('!', 5761), ('했습니다', 5743), ('병용', 5733), ('유상증자', 5723), ('나', 5656), ('사례', 5639), ('미국', 5594), ('약', 5491), ('이뮤노믹', 5489), ('에', 5478), ('주주', 5473), ('제약', 5449), ('닙', 5443), ('세라', 5423), ('치료', 5367), ('리보', 5344), ('!!', 5319), ('일까', 5316), ('백신', 5224), ('코', 5219), (\"'\", 5140), ('부터', 5122), ('아파티닙', 5075), ('인수', 5075), ('하면', 5074), ('생명과학', 5038), ('것', 5011), ('시작', 4970), ('매도', 4967), ('이', 4955), ('후', 4908), ('된', 4873), ('임', 4814), ('백', 4770), ('항암제', 4755), ('OS', 4709), ('있다', 4634), ('결과', 4596), ('사이언스', 4592), ('까지', 4589), ('기사', 4536), ('항', 4515), ('제', 4480), ('그', 4446), ('3', 4439), ('기업', 4395), ('에서', 4369), ('고', 4362), ('서', 4356), ('임상시험', 4351), ('되는', 4348), ('하고', 4345), ('인', 4318), ('과', 4315), ('거래', 4307), ('님', 4296), ('의미', 4257), ('신', 4243), ('젠', 4233), ('가', 4229), ('중국', 4220), ('장', 4208), ('위', 4207), ('할', 4178), ('다', 4117), ('일', 4115), ('로', 4101), ('바이오', 4093), ('적', 4088), ('는', 4085), ('사업', 4085), ('공', 4084), ('오', 4084), ('으로', 4071), ('왜', 4064), ('은', 4054), ('들', 4051), ('도', 4027), ('회사', 4025)]\n"
     ]
    }
   ],
   "source": [
    "sorted_dict = sorted(dict.items(), key = lambda item: item[1], reverse = True)\n",
    "print(sorted_dict[:100])"
   ]
  },
  {
   "cell_type": "markdown",
   "metadata": {},
   "source": [
    "### nouns"
   ]
  },
  {
   "cell_type": "code",
   "execution_count": 120,
   "metadata": {},
   "outputs": [],
   "source": [
    "from konlpy.tag import Okt\n",
    "okt = Okt()\n",
    "\n",
    "sentence = []\n",
    "for t in df['title']:\n",
    "    sentence.append(okt.nouns(t))\n",
    "\n",
    "word = sum(sentence,[])"
   ]
  },
  {
   "cell_type": "code",
   "execution_count": 121,
   "metadata": {},
   "outputs": [],
   "source": [
    "from collections import Counter\n",
    "count = Counter(word).most_common()[:200]"
   ]
  },
  {
   "cell_type": "code",
   "execution_count": 122,
   "metadata": {},
   "outputs": [],
   "source": [
    "dict = {}\n",
    "for i in range(len(count)):\n",
    "    try:\n",
    "        dict[count[i][0]] = round(df[df['title'].str.contains(count[i][0]) == True]['viewCount'].mean())\n",
    "    except:\n",
    "        pass"
   ]
  },
  {
   "cell_type": "code",
   "execution_count": 123,
   "metadata": {},
   "outputs": [
    {
     "name": "stdout",
     "output_type": "stream",
     "text": [
      "[('무상증자', 10911), ('선위', 10134), ('박스', 9685), ('라이브', 9650), ('방송', 9326), ('곤', 9062), ('진양', 9009), ('나노', 8940), ('실시간', 8176), ('승인', 7900), ('회장', 7765), ('폴첸', 7559), ('추가', 7279), ('권리', 7120), ('박사', 6985), ('잔고', 6914), ('발표', 6734), ('관해', 6647), ('완전', 6625), ('신약', 6489), ('허가', 6477), ('가능성', 6465), ('증', 6363), ('유튜브', 6333), ('옵티머스', 6297), ('계약', 6296), ('신청', 6164), ('에이치엘비', 6160), ('엘', 6112), ('공시', 6111), ('에이', 6086), ('로열티', 6077), ('사용', 6065), ('합병', 5907), ('공매도', 5847), ('증가', 5833), ('개발', 5802), ('병용', 5733), ('유상증자', 5723), ('시간', 5663), ('나', 5656), ('코로나', 5652), ('전환사채', 5646), ('사례', 5639), ('미국', 5594), ('이뮤노믹', 5489), ('주주', 5473), ('제약', 5449), ('닙', 5443), ('세라', 5423), ('치료', 5367), ('리보', 5344), ('백신', 5224), ('코', 5219), ('보고', 5106), ('전환', 5105), ('아파티닙', 5075), ('인수', 5075), ('필', 5056), ('생명과학', 5038), ('것', 5011), ('글로벌', 4973), ('시작', 4970), ('매도', 4967), ('이', 4955), ('후', 4908), ('임', 4814), ('건', 4814), ('외국인', 4792), ('항암제', 4755), ('티', 4737), ('최근', 4704), ('결과', 4596), ('사이언스', 4592), ('지온', 4582), ('기사', 4536), ('세포', 4532), ('항', 4515), ('목적', 4495), ('제', 4480), ('넥스트', 4458), ('그', 4446), ('기업', 4395), ('임상시험', 4351), ('인', 4318), ('상장', 4315), ('거래', 4307), ('대한', 4279), ('의미', 4257), ('무엇', 4252), ('젠', 4233), ('중국', 4220), ('위', 4207), ('매출', 4144), ('최대', 4123), ('로', 4101), ('바이오', 4093), ('사업', 4085), ('투자자', 4085), ('왜', 4064)]\n"
     ]
    }
   ],
   "source": [
    "sorted_dict = sorted(dict.items(), key = lambda item: item[1], reverse = True)\n",
    "print(sorted_dict[:100])"
   ]
  },
  {
   "cell_type": "markdown",
   "metadata": {},
   "source": [
    "## Results\n",
    "'NDA' 조회수 평균: 8564회  \n",
    "'FDA' 조회수 평균: 7169회  \n",
    "'발표' 조회수 평균: 6734회  \n",
    "'가능성' 조회수 평균: 6464회  \n",
    "'!' 조회수 평균: 5761회  \n",
    "'사례' 조회수 평균: 5639회"
   ]
  },
  {
   "cell_type": "markdown",
   "metadata": {},
   "source": [
    "## Conclusion\n",
    "추가 연구에서 각 단어의 높은 조회수가 통계적으로 유의미한지 t-test한다."
   ]
  }
 ],
 "metadata": {
  "kernelspec": {
   "display_name": "Python 3",
   "language": "python",
   "name": "python3"
  },
  "language_info": {
   "codemirror_mode": {
    "name": "ipython",
    "version": 3
   },
   "file_extension": ".py",
   "mimetype": "text/x-python",
   "name": "python",
   "nbconvert_exporter": "python",
   "pygments_lexer": "ipython3",
   "version": "3.7.3"
  }
 },
 "nbformat": 4,
 "nbformat_minor": 2
}
