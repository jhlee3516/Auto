{
 "cells": [
  {
   "cell_type": "markdown",
   "metadata": {},
   "source": [
    "# Background\n",
    "이전 연구에서 3양봉의 수익률이 더 높다는 사실을 알게 되었다.  \n",
    "그러나 3양봉이라 하더라도 반드시 성공하는 것은 아니며 조심해야 될 매수등락률이 있을 것이다.  \n",
    "유튜브: https://youtu.be/ULDNdiwZQfk"
   ]
  },
  {
   "cell_type": "markdown",
   "metadata": {},
   "source": [
    "# Methods"
   ]
  },
  {
   "cell_type": "code",
   "execution_count": 1,
   "metadata": {},
   "outputs": [],
   "source": [
    "import pandas as pd"
   ]
  },
  {
   "cell_type": "code",
   "execution_count": 17,
   "metadata": {},
   "outputs": [
    {
     "data": {
      "text/plain": [
       "양봉개수  매수등락률\n",
       "0     7       -3.530\n",
       "      8        2.140\n",
       "      9        0.270\n",
       "      10       0.345\n",
       "      11      -1.520\n",
       "               ...  \n",
       "6     25      -2.430\n",
       "      26       1.620\n",
       "9     11      -2.020\n",
       "      20       3.300\n",
       "10    15      -0.300\n",
       "Name: 수익률, Length: 78, dtype: float64"
      ]
     },
     "execution_count": 17,
     "metadata": {},
     "output_type": "execute_result"
    }
   ],
   "source": [
    "df = pd.read_csv('data.csv')\n",
    "df['매수등락률'] = df['매수등락률'].apply(lambda x : int(x))\n",
    "grouped = df.groupby(['양봉개수', '매수등락률'])['수익률'].mean()\n",
    "grouped"
   ]
  },
  {
   "cell_type": "code",
   "execution_count": 19,
   "metadata": {},
   "outputs": [
    {
     "data": {
      "text/plain": [
       "매수등락률\n",
       "6    -1.310000\n",
       "9     2.100000\n",
       "10   -0.870000\n",
       "11   -0.993333\n",
       "13    3.660000\n",
       "14   -0.300000\n",
       "15    1.960000\n",
       "16   -2.000000\n",
       "21    1.903333\n",
       "24   -1.470000\n",
       "27    6.680000\n",
       "Name: 수익률, dtype: float64"
      ]
     },
     "execution_count": 19,
     "metadata": {},
     "output_type": "execute_result"
    }
   ],
   "source": [
    "grouped[3]"
   ]
  },
  {
   "cell_type": "markdown",
   "metadata": {},
   "source": [
    "# Results\n",
    "3양봉은 매수등락률 27%일 때 수익률이 압도적으로 높다."
   ]
  },
  {
   "cell_type": "markdown",
   "metadata": {},
   "source": [
    "# Conclusion\n",
    "3양봉은 상따자리에서 큰 시너지가 난다."
   ]
  }
 ],
 "metadata": {
  "kernelspec": {
   "display_name": "Python 3",
   "language": "python",
   "name": "python3"
  },
  "language_info": {
   "codemirror_mode": {
    "name": "ipython",
    "version": 3
   },
   "file_extension": ".py",
   "mimetype": "text/x-python",
   "name": "python",
   "nbconvert_exporter": "python",
   "pygments_lexer": "ipython3",
   "version": "3.7.3"
  }
 },
 "nbformat": 4,
 "nbformat_minor": 2
}
