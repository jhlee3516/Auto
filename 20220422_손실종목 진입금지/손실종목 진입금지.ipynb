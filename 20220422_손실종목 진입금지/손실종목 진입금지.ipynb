{
 "cells": [
  {
   "cell_type": "markdown",
   "metadata": {},
   "source": [
    "# Background\n",
    "경험적으로 한 번 손실 본 종목은 재진입시 또 손실을 보는 것 같다.  \n",
    "실제로도 그런지 확인해본다.  \n",
    "유튜브: https://youtu.be/nFlMgOACpao"
   ]
  },
  {
   "cell_type": "markdown",
   "metadata": {},
   "source": [
    "# Import"
   ]
  },
  {
   "cell_type": "code",
   "execution_count": 78,
   "metadata": {},
   "outputs": [],
   "source": [
    "import pandas as pd\n",
    "import numpy as np\n",
    "from matplotlib import pyplot as plt\n",
    "import seaborn as sns\n",
    "%matplotlib inline"
   ]
  },
  {
   "cell_type": "markdown",
   "metadata": {},
   "source": [
    "# Load"
   ]
  },
  {
   "cell_type": "code",
   "execution_count": 79,
   "metadata": {},
   "outputs": [
    {
     "data": {
      "text/html": [
       "<div>\n",
       "<style scoped>\n",
       "    .dataframe tbody tr th:only-of-type {\n",
       "        vertical-align: middle;\n",
       "    }\n",
       "\n",
       "    .dataframe tbody tr th {\n",
       "        vertical-align: top;\n",
       "    }\n",
       "\n",
       "    .dataframe thead th {\n",
       "        text-align: right;\n",
       "    }\n",
       "</style>\n",
       "<table border=\"1\" class=\"dataframe\">\n",
       "  <thead>\n",
       "    <tr style=\"text-align: right;\">\n",
       "      <th></th>\n",
       "      <th>주문일자</th>\n",
       "      <th>체결시간</th>\n",
       "      <th>종목명</th>\n",
       "      <th>매수가</th>\n",
       "      <th>수익률</th>\n",
       "      <th>매매기법</th>\n",
       "      <th>매도시간</th>\n",
       "      <th>종목코드</th>\n",
       "      <th>매수등락률</th>\n",
       "      <th>고가등락률</th>\n",
       "      <th>시가등락률</th>\n",
       "      <th>뉴스기사</th>\n",
       "      <th>10이격도</th>\n",
       "      <th>20이격도</th>\n",
       "      <th>최대거래대금(억)</th>\n",
       "      <th>최소거래대금(억)</th>\n",
       "    </tr>\n",
       "  </thead>\n",
       "  <tbody>\n",
       "    <tr>\n",
       "      <th>0</th>\n",
       "      <td>2022-03-29</td>\n",
       "      <td>09:09:07</td>\n",
       "      <td>고려시멘트</td>\n",
       "      <td>5230</td>\n",
       "      <td>2.87</td>\n",
       "      <td>NaN</td>\n",
       "      <td>09:21:27</td>\n",
       "      <td>198440</td>\n",
       "      <td>16.22</td>\n",
       "      <td>24.44</td>\n",
       "      <td>6.22</td>\n",
       "      <td>1</td>\n",
       "      <td>4.38</td>\n",
       "      <td>9.72</td>\n",
       "      <td>113</td>\n",
       "      <td>25</td>\n",
       "    </tr>\n",
       "    <tr>\n",
       "      <th>1</th>\n",
       "      <td>2022-03-29</td>\n",
       "      <td>09:28:09</td>\n",
       "      <td>고려시멘트</td>\n",
       "      <td>5410</td>\n",
       "      <td>1.85</td>\n",
       "      <td>NaN</td>\n",
       "      <td>09:32:19</td>\n",
       "      <td>198440</td>\n",
       "      <td>20.22</td>\n",
       "      <td>24.44</td>\n",
       "      <td>6.22</td>\n",
       "      <td>1</td>\n",
       "      <td>0.93</td>\n",
       "      <td>1.72</td>\n",
       "      <td>113</td>\n",
       "      <td>16</td>\n",
       "    </tr>\n",
       "    <tr>\n",
       "      <th>2</th>\n",
       "      <td>2022-03-29</td>\n",
       "      <td>10:38:18</td>\n",
       "      <td>고려시멘트</td>\n",
       "      <td>5441</td>\n",
       "      <td>0.15</td>\n",
       "      <td>NaN</td>\n",
       "      <td>10:51:17</td>\n",
       "      <td>198440</td>\n",
       "      <td>20.91</td>\n",
       "      <td>24.44</td>\n",
       "      <td>6.22</td>\n",
       "      <td>1</td>\n",
       "      <td>0.35</td>\n",
       "      <td>0.09</td>\n",
       "      <td>113</td>\n",
       "      <td>2</td>\n",
       "    </tr>\n",
       "    <tr>\n",
       "      <th>3</th>\n",
       "      <td>2022-03-29</td>\n",
       "      <td>09:51:11</td>\n",
       "      <td>영진약품</td>\n",
       "      <td>5490</td>\n",
       "      <td>0.66</td>\n",
       "      <td>NaN</td>\n",
       "      <td>09:55:24</td>\n",
       "      <td>3520</td>\n",
       "      <td>6.60</td>\n",
       "      <td>10.10</td>\n",
       "      <td>0.19</td>\n",
       "      <td>1</td>\n",
       "      <td>1.57</td>\n",
       "      <td>1.94</td>\n",
       "      <td>62</td>\n",
       "      <td>0</td>\n",
       "    </tr>\n",
       "    <tr>\n",
       "      <th>4</th>\n",
       "      <td>2022-03-29</td>\n",
       "      <td>09:58:16</td>\n",
       "      <td>버킷스튜디오</td>\n",
       "      <td>5060</td>\n",
       "      <td>-0.59</td>\n",
       "      <td>NaN</td>\n",
       "      <td>09:59:56</td>\n",
       "      <td>66410</td>\n",
       "      <td>11.58</td>\n",
       "      <td>18.85</td>\n",
       "      <td>3.09</td>\n",
       "      <td>1</td>\n",
       "      <td>0.87</td>\n",
       "      <td>2.06</td>\n",
       "      <td>72</td>\n",
       "      <td>3</td>\n",
       "    </tr>\n",
       "  </tbody>\n",
       "</table>\n",
       "</div>"
      ],
      "text/plain": [
       "         주문일자      체결시간     종목명   매수가   수익률 매매기법      매도시간    종목코드  매수등락률  \\\n",
       "0  2022-03-29  09:09:07   고려시멘트  5230  2.87  NaN  09:21:27  198440  16.22   \n",
       "1  2022-03-29  09:28:09   고려시멘트  5410  1.85  NaN  09:32:19  198440  20.22   \n",
       "2  2022-03-29  10:38:18   고려시멘트  5441  0.15  NaN  10:51:17  198440  20.91   \n",
       "3  2022-03-29  09:51:11    영진약품  5490  0.66  NaN  09:55:24    3520   6.60   \n",
       "4  2022-03-29  09:58:16  버킷스튜디오  5060 -0.59  NaN  09:59:56   66410  11.58   \n",
       "\n",
       "   고가등락률  시가등락률  뉴스기사  10이격도  20이격도  최대거래대금(억)  최소거래대금(억)  \n",
       "0  24.44   6.22     1   4.38   9.72        113         25  \n",
       "1  24.44   6.22     1   0.93   1.72        113         16  \n",
       "2  24.44   6.22     1   0.35   0.09        113          2  \n",
       "3  10.10   0.19     1   1.57   1.94         62          0  \n",
       "4  18.85   3.09     1   0.87   2.06         72          3  "
      ]
     },
     "execution_count": 79,
     "metadata": {},
     "output_type": "execute_result"
    }
   ],
   "source": [
    "df = pd.read_csv('data.csv')\n",
    "df.head()"
   ]
  },
  {
   "cell_type": "markdown",
   "metadata": {},
   "source": [
    "# Preprocessing\n",
    "주문일자, 종목명"
   ]
  },
  {
   "cell_type": "code",
   "execution_count": 80,
   "metadata": {},
   "outputs": [],
   "source": [
    "date = df.주문일자.unique()\n",
    "firm = df.종목명.unique()"
   ]
  },
  {
   "cell_type": "code",
   "execution_count": 81,
   "metadata": {},
   "outputs": [],
   "source": [
    "first_win = []\n",
    "first_lose = []\n",
    "win = []\n",
    "lose = []\n",
    "\n",
    "for i in date:\n",
    "    frame = df[df['주문일자'] == i]\n",
    "    for j in firm:\n",
    "        dataframe = frame[frame['종목명'] == j].reset_index(drop=True)\n",
    "        \n",
    "        try:\n",
    "            first = float(dataframe.iloc[0]['수익률'])\n",
    "            if first > 0:\n",
    "                for k in range(len(dataframe)-1):\n",
    "                    win.append(dataframe.iloc[k+1]['수익률'])\n",
    "                    first_win.append(first)\n",
    "            else:\n",
    "                for k in range(len(dataframe)):\n",
    "                    lose.append(dataframe.iloc[k+1]['수익률'])\n",
    "                    first_lose.append(first)\n",
    "        except:\n",
    "            pass"
   ]
  },
  {
   "cell_type": "code",
   "execution_count": 82,
   "metadata": {
    "scrolled": true
   },
   "outputs": [
    {
     "name": "stdout",
     "output_type": "stream",
     "text": [
      "[1.85, 0.15, 3.51, 0.0, -0.84, 7.73, 0.0, -3.61, -1.67, -2.07, -3.58, -1.28, -1.17, 2.0, 1.36, 0.46]  "
     ]
    }
   ],
   "source": [
    "print(win, ' ', end='')"
   ]
  },
  {
   "cell_type": "code",
   "execution_count": 83,
   "metadata": {},
   "outputs": [
    {
     "name": "stdout",
     "output_type": "stream",
     "text": [
      "[2.14, -1.33, -1.01, 0.11, -1.19, 4.18, 0.4, 2.31, -1.96, 0.0, -0.82, -0.4, 2.5, -1.2, 0.0, -1.72, -2.83, -1.39]  "
     ]
    }
   ],
   "source": [
    "print(lose, ' ', end='')"
   ]
  },
  {
   "cell_type": "markdown",
   "metadata": {},
   "source": [
    "# Visualization"
   ]
  },
  {
   "cell_type": "code",
   "execution_count": 84,
   "metadata": {
    "scrolled": true
   },
   "outputs": [
    {
     "data": {
      "image/png": "[encoded data removed]",
      "text/plain": [
       "<Figure size 432x288 with 1 Axes>"
      ]
     },
     "metadata": {
      "needs_background": "light"
     },
     "output_type": "display_data"
    }
   ],
   "source": [
    "plt.scatter(first_win, win)\n",
    "plt.axhline(y=0, color='r', linewidth=3)\n",
    "plt.title('Win')\n",
    "plt.show()"
   ]
  },
  {
   "cell_type": "code",
   "execution_count": 85,
   "metadata": {},
   "outputs": [
    {
     "data": {
      "image/png": "[encoded data removed]",
      "text/plain": [
       "<Figure size 432x288 with 1 Axes>"
      ]
     },
     "metadata": {
      "needs_background": "light"
     },
     "output_type": "display_data"
    }
   ],
   "source": [
    "plt.scatter(first_lose, lose)\n",
    "plt.axhline(y=0, color='r', linewidth=3)\n",
    "plt.title('Lose')\n",
    "plt.show()"
   ]
  },
  {
   "cell_type": "markdown",
   "metadata": {},
   "source": [
    "# Mean"
   ]
  },
  {
   "cell_type": "code",
   "execution_count": 93,
   "metadata": {},
   "outputs": [],
   "source": [
    "win_mean = round(np.mean(win),2)\n",
    "lose_mean = round(np.mean(lose),2)"
   ]
  },
  {
   "cell_type": "code",
   "execution_count": 102,
   "metadata": {},
   "outputs": [
    {
     "data": {
      "image/png": "[encoded data removed]",
      "text/plain": [
       "<Figure size 432x288 with 1 Axes>"
      ]
     },
     "metadata": {
      "needs_background": "light"
     },
     "output_type": "display_data"
    }
   ],
   "source": [
    "plt.bar('Win', win_mean)\n",
    "plt.bar('Lose', lose_mean)\n",
    "plt.axhline(y=0, color='r', linewidth=3)\n",
    "plt.text('Win', win_mean, win_mean, color='r', horizontalalignment='center', verticalalignment='top', fontsize=20)\n",
    "plt.text('Lose', lose_mean, lose_mean, color='r', horizontalalignment='center', verticalalignment='bottom', fontsize=20)\n",
    "plt.title('Mean')\n",
    "plt.show()"
   ]
  },
  {
   "cell_type": "markdown",
   "metadata": {},
   "source": [
    "# Median"
   ]
  },
  {
   "cell_type": "code",
   "execution_count": 103,
   "metadata": {},
   "outputs": [],
   "source": [
    "win_median = round(np.median(win),2)\n",
    "lose_median = round(np.median(lose),2)"
   ]
  },
  {
   "cell_type": "code",
   "execution_count": 106,
   "metadata": {},
   "outputs": [
    {
     "data": {
      "image/png": "[encoded data removed]",
      "text/plain": [
       "<Figure size 432x288 with 1 Axes>"
      ]
     },
     "metadata": {
      "needs_background": "light"
     },
     "output_type": "display_data"
    }
   ],
   "source": [
    "plt.bar('Win', win_median)\n",
    "plt.bar('Lose', lose_median)\n",
    "plt.axhline(y=0, color='r', linewidth=3)\n",
    "plt.text('Win', win_median, win_median, color='r', horizontalalignment='center', verticalalignment='top', fontsize=20)\n",
    "plt.text('Lose', lose_median, lose_median, color='r', horizontalalignment='center', verticalalignment='bottom', fontsize=20)\n",
    "plt.yticks([-1,0,1])\n",
    "plt.title('Median')\n",
    "plt.show()"
   ]
  },
  {
   "cell_type": "markdown",
   "metadata": {},
   "source": [
    "# Results\n",
    "첫 매매에서 수익일 경우 후속 매매의 수익률은  \n",
    "mean = 0.18%  \n",
    "median = 0%  \n",
    "  \n",
    "첫 매매에서 손실일 경우 후속 매매의 수익률은  \n",
    "mean = -0.12%    \n",
    "median = -0.61%"
   ]
  },
  {
   "cell_type": "markdown",
   "metadata": {},
   "source": [
    "# Conclusion\n",
    "경험과 일치하는 결과다.   \n",
    "\n",
    "첫 매매에서 수익을 볼 경우 재진입해도 수익이다.  \n",
    "하지만 첫 매매에서 손실을 볼 경우 재진입하면 손실이다.  \n",
    "\n",
    "따라서 손실 본 종목은 재진입하지 않도록 조심한다.  "
   ]
  }
 ],
 "metadata": {
  "kernelspec": {
   "display_name": "Python 3",
   "language": "python",
   "name": "python3"
  },
  "language_info": {
   "codemirror_mode": {
    "name": "ipython",
    "version": 3
   },
   "file_extension": ".py",
   "mimetype": "text/x-python",
   "name": "python",
   "nbconvert_exporter": "python",
   "pygments_lexer": "ipython3",
   "version": "3.7.3"
  }
 },
 "nbformat": 4,
 "nbformat_minor": 2
}
