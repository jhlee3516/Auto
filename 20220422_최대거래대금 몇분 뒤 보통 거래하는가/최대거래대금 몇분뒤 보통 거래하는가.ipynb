{
 "cells": [
  {
   "cell_type": "markdown",
   "metadata": {},
   "source": [
    "# Background\n",
    "1분봉 최대거래대금 60억원 이상 종목을 매매하면 수익확률이 높다.  \n",
    "그렇다면 최대거래대금이 터지고 몇 분 뒤 매매할 때 수익확률이 높을까?  \n",
    "유튜브: https://youtu.be/K05R7MiM5H8"
   ]
  },
  {
   "cell_type": "markdown",
   "metadata": {},
   "source": [
    "# Import"
   ]
  },
  {
   "cell_type": "code",
   "execution_count": 59,
   "metadata": {},
   "outputs": [],
   "source": [
    "import pandas as pd\n",
    "import numpy as np\n",
    "from matplotlib import pyplot as plt\n",
    "import seaborn as sns\n",
    "%matplotlib inline"
   ]
  },
  {
   "cell_type": "markdown",
   "metadata": {},
   "source": [
    "# Load"
   ]
  },
  {
   "cell_type": "code",
   "execution_count": 60,
   "metadata": {},
   "outputs": [
    {
     "data": {
      "text/html": [
       "<div>\n",
       "<style scoped>\n",
       "    .dataframe tbody tr th:only-of-type {\n",
       "        vertical-align: middle;\n",
       "    }\n",
       "\n",
       "    .dataframe tbody tr th {\n",
       "        vertical-align: top;\n",
       "    }\n",
       "\n",
       "    .dataframe thead th {\n",
       "        text-align: right;\n",
       "    }\n",
       "</style>\n",
       "<table border=\"1\" class=\"dataframe\">\n",
       "  <thead>\n",
       "    <tr style=\"text-align: right;\">\n",
       "      <th></th>\n",
       "      <th>주문일자</th>\n",
       "      <th>체결시간</th>\n",
       "      <th>종목명</th>\n",
       "      <th>매수가</th>\n",
       "      <th>수익률</th>\n",
       "      <th>매매기법</th>\n",
       "      <th>매도시간</th>\n",
       "      <th>종목코드</th>\n",
       "      <th>매수등락률</th>\n",
       "      <th>고가등락률</th>\n",
       "      <th>시가등락률</th>\n",
       "      <th>뉴스기사</th>\n",
       "      <th>10이격도</th>\n",
       "      <th>20이격도</th>\n",
       "      <th>최대거래대금(억)</th>\n",
       "      <th>최소거래대금(억)</th>\n",
       "      <th>최대거래대금 시간</th>\n",
       "    </tr>\n",
       "  </thead>\n",
       "  <tbody>\n",
       "    <tr>\n",
       "      <th>0</th>\n",
       "      <td>2022-03-29</td>\n",
       "      <td>09:09:07</td>\n",
       "      <td>고려시멘트</td>\n",
       "      <td>5230</td>\n",
       "      <td>2.87</td>\n",
       "      <td>NaN</td>\n",
       "      <td>09:21:27</td>\n",
       "      <td>198440</td>\n",
       "      <td>16.22</td>\n",
       "      <td>24.44</td>\n",
       "      <td>6.22</td>\n",
       "      <td>1</td>\n",
       "      <td>4.38</td>\n",
       "      <td>9.72</td>\n",
       "      <td>113</td>\n",
       "      <td>25</td>\n",
       "      <td>2022-04-20 09:06:00</td>\n",
       "    </tr>\n",
       "    <tr>\n",
       "      <th>1</th>\n",
       "      <td>2022-03-29</td>\n",
       "      <td>09:28:09</td>\n",
       "      <td>고려시멘트</td>\n",
       "      <td>5410</td>\n",
       "      <td>1.85</td>\n",
       "      <td>NaN</td>\n",
       "      <td>09:32:19</td>\n",
       "      <td>198440</td>\n",
       "      <td>20.22</td>\n",
       "      <td>24.44</td>\n",
       "      <td>6.22</td>\n",
       "      <td>1</td>\n",
       "      <td>0.93</td>\n",
       "      <td>1.72</td>\n",
       "      <td>113</td>\n",
       "      <td>16</td>\n",
       "      <td>2022-04-20 09:06:00</td>\n",
       "    </tr>\n",
       "    <tr>\n",
       "      <th>2</th>\n",
       "      <td>2022-03-29</td>\n",
       "      <td>10:38:18</td>\n",
       "      <td>고려시멘트</td>\n",
       "      <td>5441</td>\n",
       "      <td>0.15</td>\n",
       "      <td>NaN</td>\n",
       "      <td>10:51:17</td>\n",
       "      <td>198440</td>\n",
       "      <td>20.91</td>\n",
       "      <td>24.44</td>\n",
       "      <td>6.22</td>\n",
       "      <td>1</td>\n",
       "      <td>0.35</td>\n",
       "      <td>0.09</td>\n",
       "      <td>113</td>\n",
       "      <td>2</td>\n",
       "      <td>2022-04-20 09:06:00</td>\n",
       "    </tr>\n",
       "    <tr>\n",
       "      <th>3</th>\n",
       "      <td>2022-03-29</td>\n",
       "      <td>09:51:11</td>\n",
       "      <td>영진약품</td>\n",
       "      <td>5490</td>\n",
       "      <td>0.66</td>\n",
       "      <td>NaN</td>\n",
       "      <td>09:55:24</td>\n",
       "      <td>3520</td>\n",
       "      <td>6.60</td>\n",
       "      <td>10.10</td>\n",
       "      <td>0.19</td>\n",
       "      <td>1</td>\n",
       "      <td>1.57</td>\n",
       "      <td>1.94</td>\n",
       "      <td>62</td>\n",
       "      <td>0</td>\n",
       "      <td>2022-04-20 09:50:00</td>\n",
       "    </tr>\n",
       "    <tr>\n",
       "      <th>4</th>\n",
       "      <td>2022-03-29</td>\n",
       "      <td>09:58:16</td>\n",
       "      <td>버킷스튜디오</td>\n",
       "      <td>5060</td>\n",
       "      <td>-0.59</td>\n",
       "      <td>NaN</td>\n",
       "      <td>09:59:56</td>\n",
       "      <td>66410</td>\n",
       "      <td>11.58</td>\n",
       "      <td>18.85</td>\n",
       "      <td>3.09</td>\n",
       "      <td>1</td>\n",
       "      <td>0.87</td>\n",
       "      <td>2.06</td>\n",
       "      <td>72</td>\n",
       "      <td>3</td>\n",
       "      <td>2022-04-20 09:22:00</td>\n",
       "    </tr>\n",
       "  </tbody>\n",
       "</table>\n",
       "</div>"
      ],
      "text/plain": [
       "         주문일자      체결시간     종목명   매수가   수익률 매매기법      매도시간    종목코드  매수등락률  \\\n",
       "0  2022-03-29  09:09:07   고려시멘트  5230  2.87  NaN  09:21:27  198440  16.22   \n",
       "1  2022-03-29  09:28:09   고려시멘트  5410  1.85  NaN  09:32:19  198440  20.22   \n",
       "2  2022-03-29  10:38:18   고려시멘트  5441  0.15  NaN  10:51:17  198440  20.91   \n",
       "3  2022-03-29  09:51:11    영진약품  5490  0.66  NaN  09:55:24    3520   6.60   \n",
       "4  2022-03-29  09:58:16  버킷스튜디오  5060 -0.59  NaN  09:59:56   66410  11.58   \n",
       "\n",
       "   고가등락률  시가등락률  뉴스기사  10이격도  20이격도  최대거래대금(억)  최소거래대금(억)            최대거래대금 시간  \n",
       "0  24.44   6.22     1   4.38   9.72        113         25  2022-04-20 09:06:00  \n",
       "1  24.44   6.22     1   0.93   1.72        113         16  2022-04-20 09:06:00  \n",
       "2  24.44   6.22     1   0.35   0.09        113          2  2022-04-20 09:06:00  \n",
       "3  10.10   0.19     1   1.57   1.94         62          0  2022-04-20 09:50:00  \n",
       "4  18.85   3.09     1   0.87   2.06         72          3  2022-04-20 09:22:00  "
      ]
     },
     "execution_count": 60,
     "metadata": {},
     "output_type": "execute_result"
    }
   ],
   "source": [
    "df = pd.read_csv('data.csv')\n",
    "df.head()"
   ]
  },
  {
   "cell_type": "markdown",
   "metadata": {},
   "source": [
    "# Preprocessing"
   ]
  },
  {
   "cell_type": "code",
   "execution_count": 61,
   "metadata": {},
   "outputs": [],
   "source": [
    "df = df[df['최대거래대금(억)'] > 60]"
   ]
  },
  {
   "cell_type": "code",
   "execution_count": 62,
   "metadata": {},
   "outputs": [],
   "source": [
    "df['체결시간'] = pd.to_datetime(df['체결시간']).apply(lambda x : x.replace(second=00))\n",
    "df['최대거래대금 시간'] = pd.to_datetime(df['최대거래대금 시간']).apply(lambda x : x.replace(second=00))"
   ]
  },
  {
   "cell_type": "code",
   "execution_count": 63,
   "metadata": {
    "scrolled": true
   },
   "outputs": [],
   "source": [
    "df['시차'] =  df['체결시간'] - df['최대거래대금 시간']"
   ]
  },
  {
   "cell_type": "code",
   "execution_count": 64,
   "metadata": {},
   "outputs": [],
   "source": [
    "df['시차'] = df['시차'].apply(lambda x : x.total_seconds() / 60)"
   ]
  },
  {
   "cell_type": "code",
   "execution_count": 65,
   "metadata": {},
   "outputs": [
    {
     "data": {
      "text/html": [
       "<div>\n",
       "<style scoped>\n",
       "    .dataframe tbody tr th:only-of-type {\n",
       "        vertical-align: middle;\n",
       "    }\n",
       "\n",
       "    .dataframe tbody tr th {\n",
       "        vertical-align: top;\n",
       "    }\n",
       "\n",
       "    .dataframe thead th {\n",
       "        text-align: right;\n",
       "    }\n",
       "</style>\n",
       "<table border=\"1\" class=\"dataframe\">\n",
       "  <thead>\n",
       "    <tr style=\"text-align: right;\">\n",
       "      <th></th>\n",
       "      <th>주문일자</th>\n",
       "      <th>체결시간</th>\n",
       "      <th>종목명</th>\n",
       "      <th>매수가</th>\n",
       "      <th>수익률</th>\n",
       "      <th>매매기법</th>\n",
       "      <th>매도시간</th>\n",
       "      <th>종목코드</th>\n",
       "      <th>매수등락률</th>\n",
       "      <th>고가등락률</th>\n",
       "      <th>시가등락률</th>\n",
       "      <th>뉴스기사</th>\n",
       "      <th>10이격도</th>\n",
       "      <th>20이격도</th>\n",
       "      <th>최대거래대금(억)</th>\n",
       "      <th>최소거래대금(억)</th>\n",
       "      <th>최대거래대금 시간</th>\n",
       "      <th>시차</th>\n",
       "    </tr>\n",
       "  </thead>\n",
       "  <tbody>\n",
       "    <tr>\n",
       "      <th>0</th>\n",
       "      <td>2022-03-29</td>\n",
       "      <td>2022-04-20 09:09:00</td>\n",
       "      <td>고려시멘트</td>\n",
       "      <td>5230</td>\n",
       "      <td>2.87</td>\n",
       "      <td>NaN</td>\n",
       "      <td>09:21:27</td>\n",
       "      <td>198440</td>\n",
       "      <td>16.22</td>\n",
       "      <td>24.44</td>\n",
       "      <td>6.22</td>\n",
       "      <td>1</td>\n",
       "      <td>4.38</td>\n",
       "      <td>9.72</td>\n",
       "      <td>113</td>\n",
       "      <td>25</td>\n",
       "      <td>2022-04-20 09:06:00</td>\n",
       "      <td>3.0</td>\n",
       "    </tr>\n",
       "    <tr>\n",
       "      <th>1</th>\n",
       "      <td>2022-03-29</td>\n",
       "      <td>2022-04-20 09:28:00</td>\n",
       "      <td>고려시멘트</td>\n",
       "      <td>5410</td>\n",
       "      <td>1.85</td>\n",
       "      <td>NaN</td>\n",
       "      <td>09:32:19</td>\n",
       "      <td>198440</td>\n",
       "      <td>20.22</td>\n",
       "      <td>24.44</td>\n",
       "      <td>6.22</td>\n",
       "      <td>1</td>\n",
       "      <td>0.93</td>\n",
       "      <td>1.72</td>\n",
       "      <td>113</td>\n",
       "      <td>16</td>\n",
       "      <td>2022-04-20 09:06:00</td>\n",
       "      <td>22.0</td>\n",
       "    </tr>\n",
       "    <tr>\n",
       "      <th>2</th>\n",
       "      <td>2022-03-29</td>\n",
       "      <td>2022-04-20 10:38:00</td>\n",
       "      <td>고려시멘트</td>\n",
       "      <td>5441</td>\n",
       "      <td>0.15</td>\n",
       "      <td>NaN</td>\n",
       "      <td>10:51:17</td>\n",
       "      <td>198440</td>\n",
       "      <td>20.91</td>\n",
       "      <td>24.44</td>\n",
       "      <td>6.22</td>\n",
       "      <td>1</td>\n",
       "      <td>0.35</td>\n",
       "      <td>0.09</td>\n",
       "      <td>113</td>\n",
       "      <td>2</td>\n",
       "      <td>2022-04-20 09:06:00</td>\n",
       "      <td>92.0</td>\n",
       "    </tr>\n",
       "    <tr>\n",
       "      <th>3</th>\n",
       "      <td>2022-03-29</td>\n",
       "      <td>2022-04-20 09:51:00</td>\n",
       "      <td>영진약품</td>\n",
       "      <td>5490</td>\n",
       "      <td>0.66</td>\n",
       "      <td>NaN</td>\n",
       "      <td>09:55:24</td>\n",
       "      <td>3520</td>\n",
       "      <td>6.60</td>\n",
       "      <td>10.10</td>\n",
       "      <td>0.19</td>\n",
       "      <td>1</td>\n",
       "      <td>1.57</td>\n",
       "      <td>1.94</td>\n",
       "      <td>62</td>\n",
       "      <td>0</td>\n",
       "      <td>2022-04-20 09:50:00</td>\n",
       "      <td>1.0</td>\n",
       "    </tr>\n",
       "    <tr>\n",
       "      <th>4</th>\n",
       "      <td>2022-03-29</td>\n",
       "      <td>2022-04-20 09:58:00</td>\n",
       "      <td>버킷스튜디오</td>\n",
       "      <td>5060</td>\n",
       "      <td>-0.59</td>\n",
       "      <td>NaN</td>\n",
       "      <td>09:59:56</td>\n",
       "      <td>66410</td>\n",
       "      <td>11.58</td>\n",
       "      <td>18.85</td>\n",
       "      <td>3.09</td>\n",
       "      <td>1</td>\n",
       "      <td>0.87</td>\n",
       "      <td>2.06</td>\n",
       "      <td>72</td>\n",
       "      <td>3</td>\n",
       "      <td>2022-04-20 09:22:00</td>\n",
       "      <td>36.0</td>\n",
       "    </tr>\n",
       "  </tbody>\n",
       "</table>\n",
       "</div>"
      ],
      "text/plain": [
       "         주문일자                체결시간     종목명   매수가   수익률 매매기법      매도시간    종목코드  \\\n",
       "0  2022-03-29 2022-04-20 09:09:00   고려시멘트  5230  2.87  NaN  09:21:27  198440   \n",
       "1  2022-03-29 2022-04-20 09:28:00   고려시멘트  5410  1.85  NaN  09:32:19  198440   \n",
       "2  2022-03-29 2022-04-20 10:38:00   고려시멘트  5441  0.15  NaN  10:51:17  198440   \n",
       "3  2022-03-29 2022-04-20 09:51:00    영진약품  5490  0.66  NaN  09:55:24    3520   \n",
       "4  2022-03-29 2022-04-20 09:58:00  버킷스튜디오  5060 -0.59  NaN  09:59:56   66410   \n",
       "\n",
       "   매수등락률  고가등락률  시가등락률  뉴스기사  10이격도  20이격도  최대거래대금(억)  최소거래대금(억)  \\\n",
       "0  16.22  24.44   6.22     1   4.38   9.72        113         25   \n",
       "1  20.22  24.44   6.22     1   0.93   1.72        113         16   \n",
       "2  20.91  24.44   6.22     1   0.35   0.09        113          2   \n",
       "3   6.60  10.10   0.19     1   1.57   1.94         62          0   \n",
       "4  11.58  18.85   3.09     1   0.87   2.06         72          3   \n",
       "\n",
       "            최대거래대금 시간    시차  \n",
       "0 2022-04-20 09:06:00   3.0  \n",
       "1 2022-04-20 09:06:00  22.0  \n",
       "2 2022-04-20 09:06:00  92.0  \n",
       "3 2022-04-20 09:50:00   1.0  \n",
       "4 2022-04-20 09:22:00  36.0  "
      ]
     },
     "execution_count": 65,
     "metadata": {},
     "output_type": "execute_result"
    }
   ],
   "source": [
    "df.head()"
   ]
  },
  {
   "cell_type": "markdown",
   "metadata": {},
   "source": [
    "# Visualization\n",
    "보통 1시간 이내 매수하게 된다."
   ]
  },
  {
   "cell_type": "code",
   "execution_count": 67,
   "metadata": {
    "scrolled": true
   },
   "outputs": [
    {
     "data": {
      "image/png": "[encoded data removed]",
      "text/plain": [
       "<Figure size 864x288 with 1 Axes>"
      ]
     },
     "metadata": {
      "needs_background": "light"
     },
     "output_type": "display_data"
    }
   ],
   "source": [
    "plt.scatter(df['시차'], df['수익률'])\n",
    "plt.axhline(y=0, color='r', linewidth=3)\n",
    "plt.axvline(x=60, color='y', linewidth=3)\n",
    "plt.rcParams[\"figure.figsize\"] = (12, 4)\n",
    "plt.show()"
   ]
  },
  {
   "cell_type": "markdown",
   "metadata": {},
   "source": [
    "# Conclusion\n",
    "1분봉 거래대금이 60억원 이상 터졌다면 1시간 이내 매매할 가능성이 높으므로 의식적으로 염두에 두고 유심히 지켜본다."
   ]
  }
 ],
 "metadata": {
  "kernelspec": {
   "display_name": "Python 3",
   "language": "python",
   "name": "python3"
  },
  "language_info": {
   "codemirror_mode": {
    "name": "ipython",
    "version": 3
   },
   "file_extension": ".py",
   "mimetype": "text/x-python",
   "name": "python",
   "nbconvert_exporter": "python",
   "pygments_lexer": "ipython3",
   "version": "3.7.3"
  }
 },
 "nbformat": 4,
 "nbformat_minor": 2
}
