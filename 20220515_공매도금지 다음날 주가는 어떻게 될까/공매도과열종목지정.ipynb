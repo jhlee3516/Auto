{
 "cells": [
  {
   "cell_type": "markdown",
   "metadata": {},
   "source": [
    "유튜브: https://youtu.be/Db1UpxNnXoY"
   ]
  },
  {
   "cell_type": "markdown",
   "metadata": {},
   "source": [
    "# KIND 시장조치 스크래핑"
   ]
  },
  {
   "cell_type": "code",
   "execution_count": 43,
   "metadata": {},
   "outputs": [],
   "source": [
    "from selenium import webdriver\n",
    "from selenium.webdriver.common.keys import Keys\n",
    "from bs4 import BeautifulSoup\n",
    "import time\n",
    "import pandas as pd"
   ]
  },
  {
   "cell_type": "code",
   "execution_count": 44,
   "metadata": {},
   "outputs": [
    {
     "data": {
      "text/html": [
       "<div>\n",
       "<style scoped>\n",
       "    .dataframe tbody tr th:only-of-type {\n",
       "        vertical-align: middle;\n",
       "    }\n",
       "\n",
       "    .dataframe tbody tr th {\n",
       "        vertical-align: top;\n",
       "    }\n",
       "\n",
       "    .dataframe thead th {\n",
       "        text-align: right;\n",
       "    }\n",
       "</style>\n",
       "<table border=\"1\" class=\"dataframe\">\n",
       "  <thead>\n",
       "    <tr style=\"text-align: right;\">\n",
       "      <th></th>\n",
       "      <th>일자</th>\n",
       "      <th>제목</th>\n",
       "    </tr>\n",
       "  </thead>\n",
       "  <tbody>\n",
       "    <tr>\n",
       "      <th>0</th>\n",
       "      <td>2022-05-13 18:09</td>\n",
       "      <td>공매도 과열종목 지정(공매도 거래 금지 적용)</td>\n",
       "    </tr>\n",
       "    <tr>\n",
       "      <th>1</th>\n",
       "      <td>2022-03-17 16:03</td>\n",
       "      <td>[투자주의]특정계좌(군) 매매관여 과다종목</td>\n",
       "    </tr>\n",
       "    <tr>\n",
       "      <th>2</th>\n",
       "      <td>2022-01-13 18:29</td>\n",
       "      <td>불성실공시법인지정(공시불이행 2건)</td>\n",
       "    </tr>\n",
       "    <tr>\n",
       "      <th>3</th>\n",
       "      <td>2022-01-11 18:30</td>\n",
       "      <td>기타시장안내(약명 및 영문명)</td>\n",
       "    </tr>\n",
       "    <tr>\n",
       "      <th>4</th>\n",
       "      <td>2021-12-22 18:03</td>\n",
       "      <td>불성실공시법인지정예고</td>\n",
       "    </tr>\n",
       "  </tbody>\n",
       "</table>\n",
       "</div>"
      ],
      "text/plain": [
       "                 일자                         제목\n",
       "0  2022-05-13 18:09  공매도 과열종목 지정(공매도 거래 금지 적용)\n",
       "1  2022-03-17 16:03    [투자주의]특정계좌(군) 매매관여 과다종목\n",
       "2  2022-01-13 18:29        불성실공시법인지정(공시불이행 2건)\n",
       "3  2022-01-11 18:30           기타시장안내(약명 및 영문명)\n",
       "4  2021-12-22 18:03                불성실공시법인지정예고"
      ]
     },
     "execution_count": 44,
     "metadata": {},
     "output_type": "execute_result"
    }
   ],
   "source": [
    "stock_code = '028300'\n",
    "list_1 = []\n",
    "list_2 = []\n",
    "\n",
    "driver = webdriver.Chrome()\n",
    "url = 'https://kind.krx.co.kr/main.do?method=loadInitPage&scrnmode=1'\n",
    "driver.get(url)\n",
    "\n",
    "driver.find_element_by_css_selector('#AKCKwdTop').send_keys(stock_code)\n",
    "driver.find_element_by_css_selector('#AKCKwdTop').send_keys(Keys.ENTER)\n",
    "time.sleep(3)\n",
    "\n",
    "driver.find_element_by_css_selector('body > section.wrapper-contents > section > article > nav > ul > li:nth-child(3) > a').click()\n",
    "time.sleep(3)\n",
    "\n",
    "source = driver.page_source\n",
    "soup = BeautifulSoup(source, 'html.parser')\n",
    "\n",
    "dates = soup.find_all('td', class_='first')\n",
    "titles = soup.find_all(id='disc')\n",
    "\n",
    "for date in dates:\n",
    "    list_1.append(date.text)\n",
    "    \n",
    "for title in titles:\n",
    "    list_2.append(title['title'])\n",
    "    \n",
    "driver.quit()\n",
    "\n",
    "df_kind = pd.DataFrame(list(zip(list_1, list_2)), columns=['일자', '제목'])\n",
    "df_kind.head()"
   ]
  },
  {
   "cell_type": "code",
   "execution_count": 64,
   "metadata": {},
   "outputs": [
    {
     "data": {
      "text/html": [
       "<div>\n",
       "<style scoped>\n",
       "    .dataframe tbody tr th:only-of-type {\n",
       "        vertical-align: middle;\n",
       "    }\n",
       "\n",
       "    .dataframe tbody tr th {\n",
       "        vertical-align: top;\n",
       "    }\n",
       "\n",
       "    .dataframe thead th {\n",
       "        text-align: right;\n",
       "    }\n",
       "</style>\n",
       "<table border=\"1\" class=\"dataframe\">\n",
       "  <thead>\n",
       "    <tr style=\"text-align: right;\">\n",
       "      <th></th>\n",
       "      <th>일자</th>\n",
       "      <th>제목</th>\n",
       "    </tr>\n",
       "  </thead>\n",
       "  <tbody>\n",
       "    <tr>\n",
       "      <th>0</th>\n",
       "      <td>2022-05-13 18:09</td>\n",
       "      <td>공매도 과열종목 지정(공매도 거래 금지 적용)</td>\n",
       "    </tr>\n",
       "    <tr>\n",
       "      <th>10</th>\n",
       "      <td>2021-08-31 18:13</td>\n",
       "      <td>공매도 과열종목 지정(공매도 거래 금지 적용)</td>\n",
       "    </tr>\n",
       "    <tr>\n",
       "      <th>13</th>\n",
       "      <td>2021-08-18 18:14</td>\n",
       "      <td>공매도 과열종목 지정(공매도 거래 금지 적용)</td>\n",
       "    </tr>\n",
       "    <tr>\n",
       "      <th>14</th>\n",
       "      <td>2021-07-15 18:16</td>\n",
       "      <td>공매도 과열종목 지정(공매도 거래 금지 적용)</td>\n",
       "    </tr>\n",
       "  </tbody>\n",
       "</table>\n",
       "</div>"
      ],
      "text/plain": [
       "                  일자                         제목\n",
       "0   2022-05-13 18:09  공매도 과열종목 지정(공매도 거래 금지 적용)\n",
       "10  2021-08-31 18:13  공매도 과열종목 지정(공매도 거래 금지 적용)\n",
       "13  2021-08-18 18:14  공매도 과열종목 지정(공매도 거래 금지 적용)\n",
       "14  2021-07-15 18:16  공매도 과열종목 지정(공매도 거래 금지 적용)"
      ]
     },
     "execution_count": 64,
     "metadata": {},
     "output_type": "execute_result"
    }
   ],
   "source": [
    "df_kind = df_kind[df_kind['제목'].str.contains('공매도')]\n",
    "df_kind.head()"
   ]
  },
  {
   "cell_type": "markdown",
   "metadata": {},
   "source": [
    "### str → date"
   ]
  },
  {
   "cell_type": "code",
   "execution_count": 65,
   "metadata": {},
   "outputs": [
    {
     "data": {
      "text/html": [
       "<div>\n",
       "<style scoped>\n",
       "    .dataframe tbody tr th:only-of-type {\n",
       "        vertical-align: middle;\n",
       "    }\n",
       "\n",
       "    .dataframe tbody tr th {\n",
       "        vertical-align: top;\n",
       "    }\n",
       "\n",
       "    .dataframe thead th {\n",
       "        text-align: right;\n",
       "    }\n",
       "</style>\n",
       "<table border=\"1\" class=\"dataframe\">\n",
       "  <thead>\n",
       "    <tr style=\"text-align: right;\">\n",
       "      <th></th>\n",
       "      <th>일자</th>\n",
       "      <th>제목</th>\n",
       "    </tr>\n",
       "  </thead>\n",
       "  <tbody>\n",
       "    <tr>\n",
       "      <th>10</th>\n",
       "      <td>2021-08-31</td>\n",
       "      <td>공매도 과열종목 지정(공매도 거래 금지 적용)</td>\n",
       "    </tr>\n",
       "    <tr>\n",
       "      <th>13</th>\n",
       "      <td>2021-08-18</td>\n",
       "      <td>공매도 과열종목 지정(공매도 거래 금지 적용)</td>\n",
       "    </tr>\n",
       "    <tr>\n",
       "      <th>14</th>\n",
       "      <td>2021-07-15</td>\n",
       "      <td>공매도 과열종목 지정(공매도 거래 금지 적용)</td>\n",
       "    </tr>\n",
       "  </tbody>\n",
       "</table>\n",
       "</div>"
      ],
      "text/plain": [
       "            일자                         제목\n",
       "10  2021-08-31  공매도 과열종목 지정(공매도 거래 금지 적용)\n",
       "13  2021-08-18  공매도 과열종목 지정(공매도 거래 금지 적용)\n",
       "14  2021-07-15  공매도 과열종목 지정(공매도 거래 금지 적용)"
      ]
     },
     "execution_count": 65,
     "metadata": {},
     "output_type": "execute_result"
    }
   ],
   "source": [
    "df_kind['일자'] = pd.to_datetime(df_kind['일자']).apply(lambda x : x.date())\n",
    "df_kind = df_kind[1:]\n",
    "df_kind.head()"
   ]
  },
  {
   "cell_type": "markdown",
   "metadata": {},
   "source": [
    "# 다음날 주가는?"
   ]
  },
  {
   "cell_type": "code",
   "execution_count": 66,
   "metadata": {},
   "outputs": [],
   "source": [
    "import FinanceDataReader as fdr\n",
    "from datetime import timedelta"
   ]
  },
  {
   "cell_type": "code",
   "execution_count": 67,
   "metadata": {
    "scrolled": true
   },
   "outputs": [
    {
     "data": {
      "text/html": [
       "<div>\n",
       "<style scoped>\n",
       "    .dataframe tbody tr th:only-of-type {\n",
       "        vertical-align: middle;\n",
       "    }\n",
       "\n",
       "    .dataframe tbody tr th {\n",
       "        vertical-align: top;\n",
       "    }\n",
       "\n",
       "    .dataframe thead th {\n",
       "        text-align: right;\n",
       "    }\n",
       "</style>\n",
       "<table border=\"1\" class=\"dataframe\">\n",
       "  <thead>\n",
       "    <tr style=\"text-align: right;\">\n",
       "      <th></th>\n",
       "      <th>Open</th>\n",
       "      <th>High</th>\n",
       "      <th>Low</th>\n",
       "      <th>Close</th>\n",
       "      <th>Volume</th>\n",
       "      <th>Change</th>\n",
       "    </tr>\n",
       "    <tr>\n",
       "      <th>Date</th>\n",
       "      <th></th>\n",
       "      <th></th>\n",
       "      <th></th>\n",
       "      <th></th>\n",
       "      <th></th>\n",
       "      <th></th>\n",
       "    </tr>\n",
       "  </thead>\n",
       "  <tbody>\n",
       "    <tr>\n",
       "      <th>2022-05-09</th>\n",
       "      <td>30050</td>\n",
       "      <td>30700</td>\n",
       "      <td>29450</td>\n",
       "      <td>29500</td>\n",
       "      <td>572919</td>\n",
       "      <td>-0.015025</td>\n",
       "    </tr>\n",
       "    <tr>\n",
       "      <th>2022-05-10</th>\n",
       "      <td>29000</td>\n",
       "      <td>29600</td>\n",
       "      <td>28850</td>\n",
       "      <td>28900</td>\n",
       "      <td>605682</td>\n",
       "      <td>-0.020339</td>\n",
       "    </tr>\n",
       "    <tr>\n",
       "      <th>2022-05-11</th>\n",
       "      <td>28900</td>\n",
       "      <td>31100</td>\n",
       "      <td>28500</td>\n",
       "      <td>31000</td>\n",
       "      <td>1007582</td>\n",
       "      <td>0.072664</td>\n",
       "    </tr>\n",
       "    <tr>\n",
       "      <th>2022-05-12</th>\n",
       "      <td>30600</td>\n",
       "      <td>36900</td>\n",
       "      <td>30550</td>\n",
       "      <td>33800</td>\n",
       "      <td>5484643</td>\n",
       "      <td>0.090323</td>\n",
       "    </tr>\n",
       "    <tr>\n",
       "      <th>2022-05-13</th>\n",
       "      <td>39000</td>\n",
       "      <td>43900</td>\n",
       "      <td>34950</td>\n",
       "      <td>42500</td>\n",
       "      <td>10453103</td>\n",
       "      <td>0.257396</td>\n",
       "    </tr>\n",
       "  </tbody>\n",
       "</table>\n",
       "</div>"
      ],
      "text/plain": [
       "             Open   High    Low  Close    Volume    Change\n",
       "Date                                                      \n",
       "2022-05-09  30050  30700  29450  29500    572919 -0.015025\n",
       "2022-05-10  29000  29600  28850  28900    605682 -0.020339\n",
       "2022-05-11  28900  31100  28500  31000   1007582  0.072664\n",
       "2022-05-12  30600  36900  30550  33800   5484643  0.090323\n",
       "2022-05-13  39000  43900  34950  42500  10453103  0.257396"
      ]
     },
     "execution_count": 67,
     "metadata": {},
     "output_type": "execute_result"
    }
   ],
   "source": [
    "df_finance = fdr.DataReader(symbol=stock_code)\n",
    "df_finance.tail()"
   ]
  },
  {
   "cell_type": "code",
   "execution_count": 68,
   "metadata": {},
   "outputs": [
    {
     "data": {
      "text/html": [
       "<div>\n",
       "<style scoped>\n",
       "    .dataframe tbody tr th:only-of-type {\n",
       "        vertical-align: middle;\n",
       "    }\n",
       "\n",
       "    .dataframe tbody tr th {\n",
       "        vertical-align: top;\n",
       "    }\n",
       "\n",
       "    .dataframe thead th {\n",
       "        text-align: right;\n",
       "    }\n",
       "</style>\n",
       "<table border=\"1\" class=\"dataframe\">\n",
       "  <thead>\n",
       "    <tr style=\"text-align: right;\">\n",
       "      <th></th>\n",
       "      <th>일자</th>\n",
       "      <th>제목</th>\n",
       "      <th>다음날 종가등락률</th>\n",
       "    </tr>\n",
       "  </thead>\n",
       "  <tbody>\n",
       "    <tr>\n",
       "      <th>10</th>\n",
       "      <td>2021-08-31</td>\n",
       "      <td>공매도 과열종목 지정(공매도 거래 금지 적용)</td>\n",
       "      <td>9.01</td>\n",
       "    </tr>\n",
       "    <tr>\n",
       "      <th>13</th>\n",
       "      <td>2021-08-18</td>\n",
       "      <td>공매도 과열종목 지정(공매도 거래 금지 적용)</td>\n",
       "      <td>-1.67</td>\n",
       "    </tr>\n",
       "    <tr>\n",
       "      <th>14</th>\n",
       "      <td>2021-07-15</td>\n",
       "      <td>공매도 과열종목 지정(공매도 거래 금지 적용)</td>\n",
       "      <td>-3.77</td>\n",
       "    </tr>\n",
       "  </tbody>\n",
       "</table>\n",
       "</div>"
      ],
      "text/plain": [
       "            일자                         제목  다음날 종가등락률\n",
       "10  2021-08-31  공매도 과열종목 지정(공매도 거래 금지 적용)       9.01\n",
       "13  2021-08-18  공매도 과열종목 지정(공매도 거래 금지 적용)      -1.67\n",
       "14  2021-07-15  공매도 과열종목 지정(공매도 거래 금지 적용)      -3.77"
      ]
     },
     "execution_count": 68,
     "metadata": {},
     "output_type": "execute_result"
    }
   ],
   "source": [
    "Change = []\n",
    "for i in range(len(df_kind)):\n",
    "    tommorrow_index = df_kind['일자'].iloc[i] + timedelta(days=1)\n",
    "    change = df_finance.loc[tommorrow_index]['Change']\n",
    "    change = round(change*100,2)\n",
    "    Change.append(change)\n",
    "\n",
    "df_kind['다음날 종가등락률'] = Change\n",
    "df_kind"
   ]
  }
 ],
 "metadata": {
  "kernelspec": {
   "display_name": "Python 3",
   "language": "python",
   "name": "python3"
  },
  "language_info": {
   "codemirror_mode": {
    "name": "ipython",
    "version": 3
   },
   "file_extension": ".py",
   "mimetype": "text/x-python",
   "name": "python",
   "nbconvert_exporter": "python",
   "pygments_lexer": "ipython3",
   "version": "3.7.3"
  }
 },
 "nbformat": 4,
 "nbformat_minor": 2
}
