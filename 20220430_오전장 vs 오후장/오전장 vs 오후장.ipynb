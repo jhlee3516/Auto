{
 "cells": [
  {
   "cell_type": "markdown",
   "metadata": {},
   "source": [
    "# 오전장 vs 오후장\n",
    "오전장: 09:00~12:00  \n",
    "오후장: 12:00~15:30  \n",
    "유튜브: https://youtu.be/VLNaFIUwPaA"
   ]
  },
  {
   "cell_type": "code",
   "execution_count": 6,
   "metadata": {},
   "outputs": [],
   "source": [
    "import pandas as pd\n",
    "import datetime\n",
    "from scipy.stats import ttest_ind"
   ]
  },
  {
   "cell_type": "code",
   "execution_count": 7,
   "metadata": {},
   "outputs": [
    {
     "data": {
      "text/html": [
       "<div>\n",
       "<style scoped>\n",
       "    .dataframe tbody tr th:only-of-type {\n",
       "        vertical-align: middle;\n",
       "    }\n",
       "\n",
       "    .dataframe tbody tr th {\n",
       "        vertical-align: top;\n",
       "    }\n",
       "\n",
       "    .dataframe thead th {\n",
       "        text-align: right;\n",
       "    }\n",
       "</style>\n",
       "<table border=\"1\" class=\"dataframe\">\n",
       "  <thead>\n",
       "    <tr style=\"text-align: right;\">\n",
       "      <th></th>\n",
       "      <th>주문일자</th>\n",
       "      <th>종목명</th>\n",
       "      <th>매수가격</th>\n",
       "      <th>매수시간</th>\n",
       "      <th>매도시간</th>\n",
       "      <th>수익률</th>\n",
       "      <th>매매순서</th>\n",
       "      <th>최대거래대금 시간</th>\n",
       "      <th>최대거래대금</th>\n",
       "      <th>직전 거래대금</th>\n",
       "      <th>양봉개수</th>\n",
       "      <th>10이격도</th>\n",
       "      <th>20이격도</th>\n",
       "      <th>60이격도</th>\n",
       "      <th>종목코드</th>\n",
       "      <th>매수등락률</th>\n",
       "      <th>시가등락률</th>\n",
       "      <th>뉴스기사</th>\n",
       "      <th>오전장</th>\n",
       "    </tr>\n",
       "  </thead>\n",
       "  <tbody>\n",
       "    <tr>\n",
       "      <th>0</th>\n",
       "      <td>2022-03-29</td>\n",
       "      <td>고려시멘트</td>\n",
       "      <td>5230</td>\n",
       "      <td>09:09:07</td>\n",
       "      <td>09:21:27</td>\n",
       "      <td>2.57</td>\n",
       "      <td>1</td>\n",
       "      <td>09:06:00</td>\n",
       "      <td>113</td>\n",
       "      <td>63</td>\n",
       "      <td>1</td>\n",
       "      <td>4.38</td>\n",
       "      <td>9.72</td>\n",
       "      <td>13.32</td>\n",
       "      <td>198440.0</td>\n",
       "      <td>16.22</td>\n",
       "      <td>6.22</td>\n",
       "      <td>1</td>\n",
       "      <td>True</td>\n",
       "    </tr>\n",
       "    <tr>\n",
       "      <th>1</th>\n",
       "      <td>2022-03-29</td>\n",
       "      <td>고려시멘트</td>\n",
       "      <td>5410</td>\n",
       "      <td>09:28:09</td>\n",
       "      <td>09:32:19</td>\n",
       "      <td>1.55</td>\n",
       "      <td>2</td>\n",
       "      <td>09:06:00</td>\n",
       "      <td>113</td>\n",
       "      <td>16</td>\n",
       "      <td>2</td>\n",
       "      <td>0.93</td>\n",
       "      <td>1.72</td>\n",
       "      <td>11.55</td>\n",
       "      <td>198440.0</td>\n",
       "      <td>20.22</td>\n",
       "      <td>6.22</td>\n",
       "      <td>1</td>\n",
       "      <td>True</td>\n",
       "    </tr>\n",
       "    <tr>\n",
       "      <th>2</th>\n",
       "      <td>2022-03-29</td>\n",
       "      <td>영진약품</td>\n",
       "      <td>5490</td>\n",
       "      <td>09:51:11</td>\n",
       "      <td>09:55:24</td>\n",
       "      <td>0.36</td>\n",
       "      <td>3</td>\n",
       "      <td>09:50:00</td>\n",
       "      <td>62</td>\n",
       "      <td>62</td>\n",
       "      <td>1</td>\n",
       "      <td>1.57</td>\n",
       "      <td>1.94</td>\n",
       "      <td>4.43</td>\n",
       "      <td>3520.0</td>\n",
       "      <td>6.60</td>\n",
       "      <td>0.19</td>\n",
       "      <td>1</td>\n",
       "      <td>True</td>\n",
       "    </tr>\n",
       "    <tr>\n",
       "      <th>3</th>\n",
       "      <td>2022-03-29</td>\n",
       "      <td>버킷스튜디오</td>\n",
       "      <td>5060</td>\n",
       "      <td>09:58:16</td>\n",
       "      <td>09:59:56</td>\n",
       "      <td>-0.89</td>\n",
       "      <td>4</td>\n",
       "      <td>09:22:00</td>\n",
       "      <td>72</td>\n",
       "      <td>26</td>\n",
       "      <td>0</td>\n",
       "      <td>0.87</td>\n",
       "      <td>2.06</td>\n",
       "      <td>4.17</td>\n",
       "      <td>66410.0</td>\n",
       "      <td>11.58</td>\n",
       "      <td>3.09</td>\n",
       "      <td>1</td>\n",
       "      <td>True</td>\n",
       "    </tr>\n",
       "    <tr>\n",
       "      <th>4</th>\n",
       "      <td>2022-03-29</td>\n",
       "      <td>우리바이오</td>\n",
       "      <td>4390</td>\n",
       "      <td>10:00:40</td>\n",
       "      <td>10:00:50</td>\n",
       "      <td>-0.87</td>\n",
       "      <td>5</td>\n",
       "      <td>10:00:00</td>\n",
       "      <td>44</td>\n",
       "      <td>43</td>\n",
       "      <td>3</td>\n",
       "      <td>3.56</td>\n",
       "      <td>4.06</td>\n",
       "      <td>4.23</td>\n",
       "      <td>82850.0</td>\n",
       "      <td>10.86</td>\n",
       "      <td>4.17</td>\n",
       "      <td>1</td>\n",
       "      <td>True</td>\n",
       "    </tr>\n",
       "  </tbody>\n",
       "</table>\n",
       "</div>"
      ],
      "text/plain": [
       "         주문일자     종목명  매수가격      매수시간      매도시간   수익률  매매순서 최대거래대금 시간  최대거래대금  \\\n",
       "0  2022-03-29   고려시멘트  5230  09:09:07  09:21:27  2.57     1  09:06:00     113   \n",
       "1  2022-03-29   고려시멘트  5410  09:28:09  09:32:19  1.55     2  09:06:00     113   \n",
       "2  2022-03-29    영진약품  5490  09:51:11  09:55:24  0.36     3  09:50:00      62   \n",
       "3  2022-03-29  버킷스튜디오  5060  09:58:16  09:59:56 -0.89     4  09:22:00      72   \n",
       "4  2022-03-29   우리바이오  4390  10:00:40  10:00:50 -0.87     5  10:00:00      44   \n",
       "\n",
       "   직전 거래대금  양봉개수  10이격도  20이격도  60이격도      종목코드  매수등락률  시가등락률  뉴스기사   오전장  \n",
       "0       63     1   4.38   9.72  13.32  198440.0  16.22   6.22     1  True  \n",
       "1       16     2   0.93   1.72  11.55  198440.0  20.22   6.22     1  True  \n",
       "2       62     1   1.57   1.94   4.43    3520.0   6.60   0.19     1  True  \n",
       "3       26     0   0.87   2.06   4.17   66410.0  11.58   3.09     1  True  \n",
       "4       43     3   3.56   4.06   4.23   82850.0  10.86   4.17     1  True  "
      ]
     },
     "execution_count": 7,
     "metadata": {},
     "output_type": "execute_result"
    }
   ],
   "source": [
    "df = pd.read_csv('data.csv')\n",
    "df['매수시간'] = pd.to_datetime(df['매수시간'])\n",
    "df['매수시간'] = df['매수시간'].apply(lambda x : x.time())\n",
    "df['오전장'] = df['매수시간'] < datetime.time(12, 0, 0)\n",
    "df.head()"
   ]
  },
  {
   "cell_type": "markdown",
   "metadata": {},
   "source": [
    "### Mean"
   ]
  },
  {
   "cell_type": "code",
   "execution_count": 8,
   "metadata": {},
   "outputs": [
    {
     "data": {
      "text/plain": [
       "오전장\n",
       "False    0.150204\n",
       "True    -0.015000\n",
       "Name: 수익률, dtype: float64"
      ]
     },
     "execution_count": 8,
     "metadata": {},
     "output_type": "execute_result"
    }
   ],
   "source": [
    "df.groupby('오전장')['수익률'].mean()"
   ]
  },
  {
   "cell_type": "markdown",
   "metadata": {},
   "source": [
    "### P-value"
   ]
  },
  {
   "cell_type": "code",
   "execution_count": 9,
   "metadata": {},
   "outputs": [],
   "source": [
    "AM = df.loc[df['오전장'] == True].수익률\n",
    "PM = df.loc[df['오전장'] == False].수익률"
   ]
  },
  {
   "cell_type": "code",
   "execution_count": 10,
   "metadata": {},
   "outputs": [
    {
     "data": {
      "text/plain": [
       "Ttest_indResult(statistic=-0.34711790576764456, pvalue=0.7290277346413371)"
      ]
     },
     "execution_count": 10,
     "metadata": {},
     "output_type": "execute_result"
    }
   ],
   "source": [
    "ttest_ind(AM, PM)"
   ]
  },
  {
   "cell_type": "markdown",
   "metadata": {},
   "source": [
    "# Results\n",
    "오전장 수익률 -0.015%    \n",
    "오후장 수익률 0.15%  \n",
    "(p-value = 0.729)"
   ]
  },
  {
   "cell_type": "markdown",
   "metadata": {},
   "source": [
    "# Conclusion\n",
    "오전장이 손실이고 오후장이 수익이다.   \n",
    "또 한 번 직관에 반하는 충격적인 결과다.  \n",
    "물론 통계적 유의성은 확보하지 못한 결과다.  \n",
    "그럼에도 mean값이 예상과 반대라는 사실은 놀랍다.  "
   ]
  }
 ],
 "metadata": {
  "kernelspec": {
   "display_name": "Python 3",
   "language": "python",
   "name": "python3"
  },
  "language_info": {
   "codemirror_mode": {
    "name": "ipython",
    "version": 3
   },
   "file_extension": ".py",
   "mimetype": "text/x-python",
   "name": "python",
   "nbconvert_exporter": "python",
   "pygments_lexer": "ipython3",
   "version": "3.7.3"
  }
 },
 "nbformat": 4,
 "nbformat_minor": 2
}
