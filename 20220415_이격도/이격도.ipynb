{
 "cells": [
  {
   "cell_type": "markdown",
   "metadata": {},
   "source": [
    "# Background\n",
    "눌림돌파매매는 승률과 수익률이 좋다.  \n",
    "충분히 눌려주었기 때문이다.  \n",
    "충분히 눌렸다는 건 이동평균선이 모였다는 것이고 이격도가 크지 않다는 뜻이다.  \n",
    "반면에 급등주 고점 추격매수는 급락하여 손실을 보기 쉽다.  \n",
    "고점매수는 이격도가 벌어졌다는 뜻이다.  \n",
    "따라서 이격도를 체크해보면 어떤 의미 있는 관계를 발견할 가능성이 있다.  \n",
    "유튜브: https://youtu.be/xJl60DDzZt8"
   ]
  },
  {
   "cell_type": "markdown",
   "metadata": {},
   "source": [
    "# Import"
   ]
  },
  {
   "cell_type": "code",
   "execution_count": 58,
   "metadata": {},
   "outputs": [],
   "source": [
    "import pandas as pd\n",
    "import numpy as np\n",
    "from matplotlib import pyplot as plt\n",
    "%matplotlib inline"
   ]
  },
  {
   "cell_type": "markdown",
   "metadata": {},
   "source": [
    "# Data #1"
   ]
  },
  {
   "cell_type": "code",
   "execution_count": 59,
   "metadata": {},
   "outputs": [
    {
     "data": {
      "text/html": [
       "<div>\n",
       "<style scoped>\n",
       "    .dataframe tbody tr th:only-of-type {\n",
       "        vertical-align: middle;\n",
       "    }\n",
       "\n",
       "    .dataframe tbody tr th {\n",
       "        vertical-align: top;\n",
       "    }\n",
       "\n",
       "    .dataframe thead th {\n",
       "        text-align: right;\n",
       "    }\n",
       "</style>\n",
       "<table border=\"1\" class=\"dataframe\">\n",
       "  <thead>\n",
       "    <tr style=\"text-align: right;\">\n",
       "      <th></th>\n",
       "      <th>주문일자</th>\n",
       "      <th>체결시간</th>\n",
       "      <th>종목명</th>\n",
       "      <th>매수가</th>\n",
       "      <th>수익률</th>\n",
       "      <th>매매기법</th>\n",
       "      <th>종목코드</th>\n",
       "      <th>매수등락률</th>\n",
       "      <th>고가등락률</th>\n",
       "      <th>시가등락률</th>\n",
       "      <th>뉴스기사</th>\n",
       "    </tr>\n",
       "  </thead>\n",
       "  <tbody>\n",
       "    <tr>\n",
       "      <th>0</th>\n",
       "      <td>2022-04-08</td>\n",
       "      <td>09:47:28</td>\n",
       "      <td>코스모화학</td>\n",
       "      <td>16250</td>\n",
       "      <td>-1.85</td>\n",
       "      <td>NaN</td>\n",
       "      <td>5420</td>\n",
       "      <td>11.68</td>\n",
       "      <td>13.06</td>\n",
       "      <td>0.69</td>\n",
       "      <td>1</td>\n",
       "    </tr>\n",
       "  </tbody>\n",
       "</table>\n",
       "</div>"
      ],
      "text/plain": [
       "         주문일자      체결시간    종목명    매수가   수익률 매매기법  종목코드  매수등락률  고가등락률  시가등락률  \\\n",
       "0  2022-04-08  09:47:28  코스모화학  16250 -1.85  NaN  5420  11.68  13.06   0.69   \n",
       "\n",
       "   뉴스기사  \n",
       "0     1  "
      ]
     },
     "execution_count": 59,
     "metadata": {},
     "output_type": "execute_result"
    }
   ],
   "source": [
    "df = pd.read_csv('data.csv')\n",
    "df = df[df['종목명'] == '코스모화학']\n",
    "df = df.reset_index(drop=True)\n",
    "df.head()"
   ]
  },
  {
   "cell_type": "markdown",
   "metadata": {},
   "source": [
    "# Data #2"
   ]
  },
  {
   "cell_type": "code",
   "execution_count": 60,
   "metadata": {
    "scrolled": false
   },
   "outputs": [
    {
     "data": {
      "text/html": [
       "<div>\n",
       "<style scoped>\n",
       "    .dataframe tbody tr th:only-of-type {\n",
       "        vertical-align: middle;\n",
       "    }\n",
       "\n",
       "    .dataframe tbody tr th {\n",
       "        vertical-align: top;\n",
       "    }\n",
       "\n",
       "    .dataframe thead th {\n",
       "        text-align: right;\n",
       "    }\n",
       "</style>\n",
       "<table border=\"1\" class=\"dataframe\">\n",
       "  <thead>\n",
       "    <tr style=\"text-align: right;\">\n",
       "      <th></th>\n",
       "      <th>날짜</th>\n",
       "      <th>시간</th>\n",
       "      <th>시가</th>\n",
       "      <th>고가</th>\n",
       "      <th>저가</th>\n",
       "      <th>종가</th>\n",
       "      <th>종가 단순 5</th>\n",
       "      <th>10</th>\n",
       "      <th>20</th>\n",
       "      <th>60</th>\n",
       "      <th>120</th>\n",
       "      <th>거래량</th>\n",
       "      <th>단순 5</th>\n",
       "      <th>20.1</th>\n",
       "      <th>60.1</th>\n",
       "      <th>120.1</th>\n",
       "    </tr>\n",
       "  </thead>\n",
       "  <tbody>\n",
       "    <tr>\n",
       "      <th>0</th>\n",
       "      <td>2022-04-08</td>\n",
       "      <td>15:35:00</td>\n",
       "      <td>15550</td>\n",
       "      <td>15550</td>\n",
       "      <td>15550</td>\n",
       "      <td>15550</td>\n",
       "      <td>15580</td>\n",
       "      <td>15590</td>\n",
       "      <td>15572.5</td>\n",
       "      <td>15568.33</td>\n",
       "      <td>15557.92</td>\n",
       "      <td>3249</td>\n",
       "      <td>14606.4</td>\n",
       "      <td>6265.00</td>\n",
       "      <td>3865.967</td>\n",
       "      <td>3562.975</td>\n",
       "    </tr>\n",
       "    <tr>\n",
       "      <th>1</th>\n",
       "      <td>2022-04-08</td>\n",
       "      <td>15:30:00</td>\n",
       "      <td>15550</td>\n",
       "      <td>15550</td>\n",
       "      <td>15550</td>\n",
       "      <td>15550</td>\n",
       "      <td>15590</td>\n",
       "      <td>15590</td>\n",
       "      <td>15572.5</td>\n",
       "      <td>15567.50</td>\n",
       "      <td>15556.67</td>\n",
       "      <td>27231</td>\n",
       "      <td>14331.6</td>\n",
       "      <td>6299.30</td>\n",
       "      <td>3817.417</td>\n",
       "      <td>3543.492</td>\n",
       "    </tr>\n",
       "    <tr>\n",
       "      <th>2</th>\n",
       "      <td>2022-04-08</td>\n",
       "      <td>15:19:00</td>\n",
       "      <td>15600</td>\n",
       "      <td>15650</td>\n",
       "      <td>15500</td>\n",
       "      <td>15650</td>\n",
       "      <td>15600</td>\n",
       "      <td>15590</td>\n",
       "      <td>15570.0</td>\n",
       "      <td>15566.67</td>\n",
       "      <td>15555.42</td>\n",
       "      <td>19996</td>\n",
       "      <td>9152.4</td>\n",
       "      <td>5037.55</td>\n",
       "      <td>3371.450</td>\n",
       "      <td>3338.650</td>\n",
       "    </tr>\n",
       "    <tr>\n",
       "      <th>3</th>\n",
       "      <td>2022-04-08</td>\n",
       "      <td>15:18:00</td>\n",
       "      <td>15550</td>\n",
       "      <td>15650</td>\n",
       "      <td>15550</td>\n",
       "      <td>15550</td>\n",
       "      <td>15590</td>\n",
       "      <td>15585</td>\n",
       "      <td>15562.5</td>\n",
       "      <td>15565.00</td>\n",
       "      <td>15552.92</td>\n",
       "      <td>19529</td>\n",
       "      <td>5754.4</td>\n",
       "      <td>4045.85</td>\n",
       "      <td>3057.233</td>\n",
       "      <td>3183.325</td>\n",
       "    </tr>\n",
       "    <tr>\n",
       "      <th>4</th>\n",
       "      <td>2022-04-08</td>\n",
       "      <td>15:17:00</td>\n",
       "      <td>15600</td>\n",
       "      <td>15600</td>\n",
       "      <td>15550</td>\n",
       "      <td>15600</td>\n",
       "      <td>15600</td>\n",
       "      <td>15590</td>\n",
       "      <td>15562.5</td>\n",
       "      <td>15565.00</td>\n",
       "      <td>15551.67</td>\n",
       "      <td>3027</td>\n",
       "      <td>2431.8</td>\n",
       "      <td>3146.30</td>\n",
       "      <td>2743.050</td>\n",
       "      <td>3036.733</td>\n",
       "    </tr>\n",
       "  </tbody>\n",
       "</table>\n",
       "</div>"
      ],
      "text/plain": [
       "           날짜        시간     시가     고가     저가     종가  종가 단순 5     10       20  \\\n",
       "0  2022-04-08  15:35:00  15550  15550  15550  15550    15580  15590  15572.5   \n",
       "1  2022-04-08  15:30:00  15550  15550  15550  15550    15590  15590  15572.5   \n",
       "2  2022-04-08  15:19:00  15600  15650  15500  15650    15600  15590  15570.0   \n",
       "3  2022-04-08  15:18:00  15550  15650  15550  15550    15590  15585  15562.5   \n",
       "4  2022-04-08  15:17:00  15600  15600  15550  15600    15600  15590  15562.5   \n",
       "\n",
       "         60       120    거래량     단순 5     20.1      60.1     120.1  \n",
       "0  15568.33  15557.92   3249  14606.4  6265.00  3865.967  3562.975  \n",
       "1  15567.50  15556.67  27231  14331.6  6299.30  3817.417  3543.492  \n",
       "2  15566.67  15555.42  19996   9152.4  5037.55  3371.450  3338.650  \n",
       "3  15565.00  15552.92  19529   5754.4  4045.85  3057.233  3183.325  \n",
       "4  15565.00  15551.67   3027   2431.8  3146.30  2743.050  3036.733  "
      ]
     },
     "execution_count": 60,
     "metadata": {},
     "output_type": "execute_result"
    }
   ],
   "source": [
    "frame = pd.read_csv('2022-04-08_005420_코스모화학.csv')\n",
    "frame.head()"
   ]
  },
  {
   "cell_type": "markdown",
   "metadata": {},
   "source": [
    "# Preprocessing"
   ]
  },
  {
   "cell_type": "code",
   "execution_count": 71,
   "metadata": {},
   "outputs": [
    {
     "name": "stdout",
     "output_type": "stream",
     "text": [
      "매수가격: 16250\n",
      "20일선: 15262.5\n"
     ]
    }
   ],
   "source": [
    "df['체결시간'] = pd.to_datetime(df['체결시간']).apply(lambda x : x.replace(second=00))\n",
    "time = df['체결시간'].iloc[0]\n",
    "buy = df['매수가'].iloc[0]\n",
    "\n",
    "frame['시간'] = pd.to_datetime(frame['시간']).apply(lambda x : x.replace(second=00))\n",
    "frame = frame[frame['시간'] == time]\n",
    "frame = frame.reset_index(drop=True)\n",
    "twenty = frame['20'].iloc[0]\n",
    "print('매수가격:', buy)\n",
    "print('20일선:', twenty)"
   ]
  },
  {
   "cell_type": "code",
   "execution_count": 73,
   "metadata": {},
   "outputs": [
    {
     "name": "stdout",
     "output_type": "stream",
     "text": [
      "이격도: 6.47 %\n"
     ]
    }
   ],
   "source": [
    "change = round(((buy-twenty) / twenty)*100, 2)\n",
    "print('이격도:', change, '%')"
   ]
  },
  {
   "cell_type": "markdown",
   "metadata": {},
   "source": [
    "# Visualization"
   ]
  },
  {
   "cell_type": "markdown",
   "metadata": {},
   "source": [
    "![코스모화학](코스모화학.png)"
   ]
  },
  {
   "cell_type": "markdown",
   "metadata": {},
   "source": [
    "# Conclusion\n",
    "1분봉 20일선과 이격도가 6% 이상일 때 진입하면 손실을 볼 가능성이 있다."
   ]
  }
 ],
 "metadata": {
  "kernelspec": {
   "display_name": "Python 3",
   "language": "python",
   "name": "python3"
  },
  "language_info": {
   "codemirror_mode": {
    "name": "ipython",
    "version": 3
   },
   "file_extension": ".py",
   "mimetype": "text/x-python",
   "name": "python",
   "nbconvert_exporter": "python",
   "pygments_lexer": "ipython3",
   "version": "3.7.3"
  }
 },
 "nbformat": 4,
 "nbformat_minor": 2
}
