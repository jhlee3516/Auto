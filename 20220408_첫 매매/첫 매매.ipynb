{
 "cells": [
  {
   "cell_type": "markdown",
   "metadata": {},
   "source": [
    "# Idea\n",
    "계좌의 미래를 예상해야 한다.  \n",
    "손실 날 때 패턴을 파악해야 한다.  \n",
    "계좌가 파국으로 가기 전, 파국 시그널을 포착해야 한다.  "
   ]
  },
  {
   "cell_type": "markdown",
   "metadata": {},
   "source": [
    "# Concept\n",
    "첫 매매에서 손실이 나면 하루 손익은 어떻게 되는지 확인한다.  \n",
    "수익인가? 손실인가?  "
   ]
  },
  {
   "cell_type": "markdown",
   "metadata": {},
   "source": [
    "# Import"
   ]
  },
  {
   "cell_type": "code",
   "execution_count": 1,
   "metadata": {},
   "outputs": [],
   "source": [
    "import pandas as pd\n",
    "import numpy as np\n",
    "from matplotlib import pyplot as plt\n",
    "import seaborn as sns\n",
    "%matplotlib inline"
   ]
  },
  {
   "cell_type": "markdown",
   "metadata": {},
   "source": [
    "# Load"
   ]
  },
  {
   "cell_type": "code",
   "execution_count": 2,
   "metadata": {},
   "outputs": [
    {
     "data": {
      "text/html": [
       "<div>\n",
       "<style scoped>\n",
       "    .dataframe tbody tr th:only-of-type {\n",
       "        vertical-align: middle;\n",
       "    }\n",
       "\n",
       "    .dataframe tbody tr th {\n",
       "        vertical-align: top;\n",
       "    }\n",
       "\n",
       "    .dataframe thead th {\n",
       "        text-align: right;\n",
       "    }\n",
       "</style>\n",
       "<table border=\"1\" class=\"dataframe\">\n",
       "  <thead>\n",
       "    <tr style=\"text-align: right;\">\n",
       "      <th></th>\n",
       "      <th>주문일자</th>\n",
       "      <th>체결시간</th>\n",
       "      <th>종목명</th>\n",
       "      <th>매수가</th>\n",
       "      <th>수익률</th>\n",
       "      <th>매매기법</th>\n",
       "      <th>종목코드</th>\n",
       "      <th>매수등락률</th>\n",
       "      <th>고가등락률</th>\n",
       "      <th>시가등락률</th>\n",
       "      <th>특징주</th>\n",
       "      <th>SEN</th>\n",
       "      <th>강세 토픽</th>\n",
       "    </tr>\n",
       "  </thead>\n",
       "  <tbody>\n",
       "    <tr>\n",
       "      <th>0</th>\n",
       "      <td>2022-03-29</td>\n",
       "      <td>09:09:07</td>\n",
       "      <td>고려시멘트</td>\n",
       "      <td>5230</td>\n",
       "      <td>2.87</td>\n",
       "      <td>NaN</td>\n",
       "      <td>198440</td>\n",
       "      <td>16.22</td>\n",
       "      <td>24.44</td>\n",
       "      <td>6.22</td>\n",
       "      <td>NaN</td>\n",
       "      <td>NaN</td>\n",
       "      <td>NaN</td>\n",
       "    </tr>\n",
       "    <tr>\n",
       "      <th>1</th>\n",
       "      <td>2022-03-29</td>\n",
       "      <td>09:28:09</td>\n",
       "      <td>고려시멘트</td>\n",
       "      <td>5410</td>\n",
       "      <td>1.85</td>\n",
       "      <td>NaN</td>\n",
       "      <td>198440</td>\n",
       "      <td>20.22</td>\n",
       "      <td>24.44</td>\n",
       "      <td>6.22</td>\n",
       "      <td>NaN</td>\n",
       "      <td>NaN</td>\n",
       "      <td>NaN</td>\n",
       "    </tr>\n",
       "    <tr>\n",
       "      <th>2</th>\n",
       "      <td>2022-03-29</td>\n",
       "      <td>10:38:18</td>\n",
       "      <td>고려시멘트</td>\n",
       "      <td>5441</td>\n",
       "      <td>0.15</td>\n",
       "      <td>NaN</td>\n",
       "      <td>198440</td>\n",
       "      <td>20.91</td>\n",
       "      <td>24.44</td>\n",
       "      <td>6.22</td>\n",
       "      <td>NaN</td>\n",
       "      <td>NaN</td>\n",
       "      <td>NaN</td>\n",
       "    </tr>\n",
       "    <tr>\n",
       "      <th>3</th>\n",
       "      <td>2022-03-29</td>\n",
       "      <td>09:51:11</td>\n",
       "      <td>영진약품</td>\n",
       "      <td>5490</td>\n",
       "      <td>0.66</td>\n",
       "      <td>NaN</td>\n",
       "      <td>3520</td>\n",
       "      <td>6.60</td>\n",
       "      <td>10.10</td>\n",
       "      <td>0.19</td>\n",
       "      <td>NaN</td>\n",
       "      <td>NaN</td>\n",
       "      <td>NaN</td>\n",
       "    </tr>\n",
       "    <tr>\n",
       "      <th>4</th>\n",
       "      <td>2022-03-29</td>\n",
       "      <td>09:58:16</td>\n",
       "      <td>버킷스튜디오</td>\n",
       "      <td>5060</td>\n",
       "      <td>-0.59</td>\n",
       "      <td>NaN</td>\n",
       "      <td>66410</td>\n",
       "      <td>11.58</td>\n",
       "      <td>18.85</td>\n",
       "      <td>3.09</td>\n",
       "      <td>NaN</td>\n",
       "      <td>NaN</td>\n",
       "      <td>NaN</td>\n",
       "    </tr>\n",
       "  </tbody>\n",
       "</table>\n",
       "</div>"
      ],
      "text/plain": [
       "         주문일자      체결시간     종목명   매수가   수익률 매매기법    종목코드  매수등락률  고가등락률  시가등락률  \\\n",
       "0  2022-03-29  09:09:07   고려시멘트  5230  2.87  NaN  198440  16.22  24.44   6.22   \n",
       "1  2022-03-29  09:28:09   고려시멘트  5410  1.85  NaN  198440  20.22  24.44   6.22   \n",
       "2  2022-03-29  10:38:18   고려시멘트  5441  0.15  NaN  198440  20.91  24.44   6.22   \n",
       "3  2022-03-29  09:51:11    영진약품  5490  0.66  NaN    3520   6.60  10.10   0.19   \n",
       "4  2022-03-29  09:58:16  버킷스튜디오  5060 -0.59  NaN   66410  11.58  18.85   3.09   \n",
       "\n",
       "   특징주  SEN 강세 토픽  \n",
       "0  NaN  NaN   NaN  \n",
       "1  NaN  NaN   NaN  \n",
       "2  NaN  NaN   NaN  \n",
       "3  NaN  NaN   NaN  \n",
       "4  NaN  NaN   NaN  "
      ]
     },
     "execution_count": 2,
     "metadata": {},
     "output_type": "execute_result"
    }
   ],
   "source": [
    "df = pd.read_csv('data.csv')\n",
    "df.head()"
   ]
  },
  {
   "cell_type": "markdown",
   "metadata": {},
   "source": [
    "# Preprocessing"
   ]
  },
  {
   "cell_type": "code",
   "execution_count": 4,
   "metadata": {},
   "outputs": [
    {
     "data": {
      "text/plain": [
       "array(['2022-03-29', '2022-03-31', '2022-03-30', '2022-04-04',\n",
       "       '2022-04-01', '2022-04-06', '2022-04-05', '2022-04-07'],\n",
       "      dtype=object)"
      ]
     },
     "execution_count": 4,
     "metadata": {},
     "output_type": "execute_result"
    }
   ],
   "source": [
    "dates = df['주문일자'].unique()\n",
    "dates"
   ]
  },
  {
   "cell_type": "code",
   "execution_count": 17,
   "metadata": {},
   "outputs": [],
   "source": [
    "X = []\n",
    "y = []\n",
    "for date in dates:\n",
    "    frame = df[df['주문일자'] == date].reset_index(drop=True)\n",
    "    first = frame.iloc[0]['수익률']\n",
    "    total = round(frame['수익률'].mean(),2)\n",
    "    X.append(first)\n",
    "    y.append(total)"
   ]
  },
  {
   "cell_type": "code",
   "execution_count": 22,
   "metadata": {},
   "outputs": [
    {
     "data": {
      "text/plain": [
       "([2.87, -2.26, 2.39, -1.7, -0.21, -1.96, -0.51, 4.95],\n",
       " [1.57, 0.82, 0.24, -0.84, -0.22, 0.55, 0.86, 4.95])"
      ]
     },
     "execution_count": 22,
     "metadata": {},
     "output_type": "execute_result"
    }
   ],
   "source": [
    "X, y"
   ]
  },
  {
   "cell_type": "markdown",
   "metadata": {},
   "source": [
    "# Visualization\n",
    "총 8거래일 중 6일 수익, 2일 손실을 봤다.  \n",
    "  \n",
    "첫 매매에서 수익을 본 경우는 3번    \n",
    "첫 매매에서 손실을 본 경우는 5번  \n",
    "따라서 첫 매매 승률(37.5%)이 높지 않다.  \n",
    "그러므로 첫 매매 승률을 끌어올려야 한다.  "
   ]
  },
  {
   "cell_type": "code",
   "execution_count": 39,
   "metadata": {},
   "outputs": [
    {
     "data": {
      "image/png": "[encoded data removed]",
      "text/plain": [
       "<Figure size 432x288 with 1 Axes>"
      ]
     },
     "metadata": {
      "needs_background": "light"
     },
     "output_type": "display_data"
    }
   ],
   "source": [
    "plt.scatter(X, y)\n",
    "plt.xlabel('first')\n",
    "plt.ylabel('total')\n",
    "plt.legend(['mean'])\n",
    "plt.axhline(y=0, color='r', linewidth=3)\n",
    "plt.show()"
   ]
  },
  {
   "cell_type": "markdown",
   "metadata": {},
   "source": [
    "# Linear Regression\n",
    "우상향하는 직선이므로 양의 상관관계가 있는 것으로 보인다.  \n",
    "따라서,   \n",
    "첫 매매에서 손실이면 하루 매매도 손실이고  \n",
    "첫 매매에서 수익이면 하루 매매도 수익이다."
   ]
  },
  {
   "cell_type": "code",
   "execution_count": 41,
   "metadata": {},
   "outputs": [
    {
     "data": {
      "text/plain": [
       "<matplotlib.axes._subplots.AxesSubplot at 0x236e2223fd0>"
      ]
     },
     "execution_count": 41,
     "metadata": {},
     "output_type": "execute_result"
    },
    {
     "data": {
      "image/png": "[encoded data removed]",
      "text/plain": [
       "<Figure size 432x288 with 1 Axes>"
      ]
     },
     "metadata": {
      "needs_background": "light"
     },
     "output_type": "display_data"
    }
   ],
   "source": [
    "sns.regplot(x=X, y=y)"
   ]
  },
  {
   "cell_type": "markdown",
   "metadata": {},
   "source": [
    "# Conclusion\n",
    "첫 매매손익이 하루 매매손익을 결정한다.  \n",
    "첫 매매승률은 37.5%로 낮은 편이다.  \n",
    "그러므로 첫 매매승률을 높여야 한다.    \n",
    "  \n",
    "방법은 두 가지다.  \n",
    "1. 현재 사용하는 첫 매매 방법은 제외한다. (승률 37.5%)  \n",
    "2. 승률 높은 매매 방법으로 첫 매매를 시도한다."
   ]
  }
 ],
 "metadata": {
  "kernelspec": {
   "display_name": "Python 3",
   "language": "python",
   "name": "python3"
  },
  "language_info": {
   "codemirror_mode": {
    "name": "ipython",
    "version": 3
   },
   "file_extension": ".py",
   "mimetype": "text/x-python",
   "name": "python",
   "nbconvert_exporter": "python",
   "pygments_lexer": "ipython3",
   "version": "3.7.3"
  }
 },
 "nbformat": 4,
 "nbformat_minor": 2
}
