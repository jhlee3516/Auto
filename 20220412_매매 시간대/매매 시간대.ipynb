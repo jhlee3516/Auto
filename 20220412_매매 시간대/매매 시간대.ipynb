{
 "cells": [
  {
   "cell_type": "markdown",
   "metadata": {},
   "source": [
    "# Background\n",
    "이전 연구에서 뉴스의 존재여부가 수익률에 큰 영향을 미친다는 사실을 알게 되었다.  \n",
    "그렇다면 뉴스가 있는 매매를 한다는 전제조건 하에 어느 시간대를 피해야할까?"
   ]
  },
  {
   "cell_type": "markdown",
   "metadata": {},
   "source": [
    "# Import"
   ]
  },
  {
   "cell_type": "code",
   "execution_count": 51,
   "metadata": {},
   "outputs": [],
   "source": [
    "import pandas as pd\n",
    "import numpy as np\n",
    "from matplotlib import pyplot as plt\n",
    "%matplotlib inline"
   ]
  },
  {
   "cell_type": "markdown",
   "metadata": {},
   "source": [
    "# Load"
   ]
  },
  {
   "cell_type": "code",
   "execution_count": 52,
   "metadata": {
    "scrolled": false
   },
   "outputs": [
    {
     "data": {
      "text/html": [
       "<div>\n",
       "<style scoped>\n",
       "    .dataframe tbody tr th:only-of-type {\n",
       "        vertical-align: middle;\n",
       "    }\n",
       "\n",
       "    .dataframe tbody tr th {\n",
       "        vertical-align: top;\n",
       "    }\n",
       "\n",
       "    .dataframe thead th {\n",
       "        text-align: right;\n",
       "    }\n",
       "</style>\n",
       "<table border=\"1\" class=\"dataframe\">\n",
       "  <thead>\n",
       "    <tr style=\"text-align: right;\">\n",
       "      <th></th>\n",
       "      <th>주문일자</th>\n",
       "      <th>체결시간</th>\n",
       "      <th>종목명</th>\n",
       "      <th>매수가</th>\n",
       "      <th>수익률</th>\n",
       "      <th>매매기법</th>\n",
       "      <th>종목코드</th>\n",
       "      <th>매수등락률</th>\n",
       "      <th>고가등락률</th>\n",
       "      <th>시가등락률</th>\n",
       "      <th>뉴스기사</th>\n",
       "    </tr>\n",
       "  </thead>\n",
       "  <tbody>\n",
       "    <tr>\n",
       "      <th>0</th>\n",
       "      <td>2022-03-29</td>\n",
       "      <td>09:09:07</td>\n",
       "      <td>고려시멘트</td>\n",
       "      <td>5230</td>\n",
       "      <td>2.87</td>\n",
       "      <td>NaN</td>\n",
       "      <td>198440</td>\n",
       "      <td>16.22</td>\n",
       "      <td>24.44</td>\n",
       "      <td>6.22</td>\n",
       "      <td>1</td>\n",
       "    </tr>\n",
       "    <tr>\n",
       "      <th>1</th>\n",
       "      <td>2022-03-29</td>\n",
       "      <td>09:28:09</td>\n",
       "      <td>고려시멘트</td>\n",
       "      <td>5410</td>\n",
       "      <td>1.85</td>\n",
       "      <td>NaN</td>\n",
       "      <td>198440</td>\n",
       "      <td>20.22</td>\n",
       "      <td>24.44</td>\n",
       "      <td>6.22</td>\n",
       "      <td>1</td>\n",
       "    </tr>\n",
       "    <tr>\n",
       "      <th>2</th>\n",
       "      <td>2022-03-29</td>\n",
       "      <td>10:38:18</td>\n",
       "      <td>고려시멘트</td>\n",
       "      <td>5441</td>\n",
       "      <td>0.15</td>\n",
       "      <td>NaN</td>\n",
       "      <td>198440</td>\n",
       "      <td>20.91</td>\n",
       "      <td>24.44</td>\n",
       "      <td>6.22</td>\n",
       "      <td>1</td>\n",
       "    </tr>\n",
       "    <tr>\n",
       "      <th>3</th>\n",
       "      <td>2022-03-29</td>\n",
       "      <td>09:51:11</td>\n",
       "      <td>영진약품</td>\n",
       "      <td>5490</td>\n",
       "      <td>0.66</td>\n",
       "      <td>NaN</td>\n",
       "      <td>3520</td>\n",
       "      <td>6.60</td>\n",
       "      <td>10.10</td>\n",
       "      <td>0.19</td>\n",
       "      <td>1</td>\n",
       "    </tr>\n",
       "    <tr>\n",
       "      <th>4</th>\n",
       "      <td>2022-03-29</td>\n",
       "      <td>09:58:16</td>\n",
       "      <td>버킷스튜디오</td>\n",
       "      <td>5060</td>\n",
       "      <td>-0.59</td>\n",
       "      <td>NaN</td>\n",
       "      <td>66410</td>\n",
       "      <td>11.58</td>\n",
       "      <td>18.85</td>\n",
       "      <td>3.09</td>\n",
       "      <td>1</td>\n",
       "    </tr>\n",
       "  </tbody>\n",
       "</table>\n",
       "</div>"
      ],
      "text/plain": [
       "         주문일자      체결시간     종목명   매수가   수익률 매매기법    종목코드  매수등락률  고가등락률  시가등락률  \\\n",
       "0  2022-03-29  09:09:07   고려시멘트  5230  2.87  NaN  198440  16.22  24.44   6.22   \n",
       "1  2022-03-29  09:28:09   고려시멘트  5410  1.85  NaN  198440  20.22  24.44   6.22   \n",
       "2  2022-03-29  10:38:18   고려시멘트  5441  0.15  NaN  198440  20.91  24.44   6.22   \n",
       "3  2022-03-29  09:51:11    영진약품  5490  0.66  NaN    3520   6.60  10.10   0.19   \n",
       "4  2022-03-29  09:58:16  버킷스튜디오  5060 -0.59  NaN   66410  11.58  18.85   3.09   \n",
       "\n",
       "   뉴스기사  \n",
       "0     1  \n",
       "1     1  \n",
       "2     1  \n",
       "3     1  \n",
       "4     1  "
      ]
     },
     "execution_count": 52,
     "metadata": {},
     "output_type": "execute_result"
    }
   ],
   "source": [
    "df = pd.read_csv('data.csv')\n",
    "df.head()"
   ]
  },
  {
   "cell_type": "markdown",
   "metadata": {},
   "source": [
    "# Preprocessing"
   ]
  },
  {
   "cell_type": "code",
   "execution_count": 53,
   "metadata": {},
   "outputs": [],
   "source": [
    "df = df[df['뉴스기사'] == 1]"
   ]
  },
  {
   "cell_type": "code",
   "execution_count": 54,
   "metadata": {},
   "outputs": [],
   "source": [
    "df = df.sort_values('체결시간')"
   ]
  },
  {
   "cell_type": "markdown",
   "metadata": {},
   "source": [
    "# Visualization\n",
    "빨간선(수익률=0%)이 손익의 기준이다.   \n",
    "[노란선 좌측] 손실 구간이다. (수익 < 손실) → 09시 08분 이전    \n",
    "[가운데 중앙] 수익 구간이다. (수익 > 손실)  \n",
    "[초록선 우측] 손실 구간이다. (수익 < 손실) → 14시 20분 이후   "
   ]
  },
  {
   "cell_type": "code",
   "execution_count": 56,
   "metadata": {},
   "outputs": [
    {
     "data": {
      "image/png": "[encoded data removed]",
      "text/plain": [
       "<Figure size 1440x360 with 1 Axes>"
      ]
     },
     "metadata": {
      "needs_background": "light"
     },
     "output_type": "display_data"
    }
   ],
   "source": [
    "plt.scatter(df['체결시간'],df['수익률'])\n",
    "plt.xticks(rotation=90)\n",
    "plt.axhline(y=0, color='r', linewidth=3)\n",
    "plt.axvline(x=2.5, color='y', linewidth=3)\n",
    "plt.axvline(x=62.5, color='g', linewidth=3)\n",
    "plt.rcParams[\"figure.figsize\"] = (20, 5)\n",
    "plt.show()"
   ]
  },
  {
   "cell_type": "markdown",
   "metadata": {},
   "source": [
    "# Conclusion\n",
    "매매시간: 09시 08분 ~ 14시 20분    \n",
    "점심시간: 11시 ~ 13시"
   ]
  }
 ],
 "metadata": {
  "kernelspec": {
   "display_name": "Python 3",
   "language": "python",
   "name": "python3"
  },
  "language_info": {
   "codemirror_mode": {
    "name": "ipython",
    "version": 3
   },
   "file_extension": ".py",
   "mimetype": "text/x-python",
   "name": "python",
   "nbconvert_exporter": "python",
   "pygments_lexer": "ipython3",
   "version": "3.7.3"
  }
 },
 "nbformat": 4,
 "nbformat_minor": 2
}
